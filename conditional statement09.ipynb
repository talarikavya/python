{
 "cells": [
  {
   "cell_type": "markdown",
   "id": "60566571-9a1b-4ddf-8bb9-774c190f8431",
   "metadata": {},
   "source": [
    "# CONDITIONAL STATEMENTS"
   ]
  },
  {
   "cell_type": "markdown",
   "id": "aa49f2dd-1556-47e5-9b22-acccb709e192",
   "metadata": {},
   "source": [
    "Conditional statements in Programming, also known as decision-making statements, allow a program to perform different actions based on whether a certain condition is true or false. They form the backbone of most programming languages, enabling the creation of complex, dynamic programs.In conditional statement as three types in conditional statement.There are if statement, else statement, elif statement."
   ]
  },
  {
   "cell_type": "markdown",
   "id": "898b11c7-d75d-4497-880e-b52340f9bbd1",
   "metadata": {},
   "source": [
    "# if conditional statement : \n",
    "If the simple code of block is to be performed if the condition holds then the if statement is used.\n",
    "Here the condition mentioned holds then the code of the block runs otherwise not.\r\n",
    "\n",
    "\n"
   ]
  },
  {
   "cell_type": "code",
   "execution_count": 28,
   "id": "a56e68b1-8d17-4a78-92aa-dfef4e91fea3",
   "metadata": {},
   "outputs": [],
   "source": [
    "#syntax : syntax : if condition:\n",
    "            # Statements to execute if\n",
    "            # condition is true."
   ]
  },
  {
   "cell_type": "code",
   "execution_count": 32,
   "id": "4728afec-52ce-487a-bed4-5a8734c8995f",
   "metadata": {},
   "outputs": [
    {
     "name": "stdout",
     "output_type": "stream",
     "text": [
      "56 greater than 45\n"
     ]
    }
   ],
   "source": [
    "#example of if conditional statement:\n",
    "#write python is 56 greater than 45\n",
    "\n",
    "if 56>45:\n",
    "    print('56 greater than 45')"
   ]
  },
  {
   "cell_type": "code",
   "execution_count": 34,
   "id": "6c3874bf-ca7a-48c3-b61a-6f40640ae8b1",
   "metadata": {},
   "outputs": [],
   "source": [
    "if 56>68:\n",
    "    print('56 greater than 68')   #here it flase statement its automatically its skip the output."
   ]
  },
  {
   "cell_type": "code",
   "execution_count": 40,
   "id": "24778aa0-a76b-44a1-8c5b-b2b44c3af7d3",
   "metadata": {},
   "outputs": [
    {
     "name": "stdout",
     "output_type": "stream",
     "text": [
      "even number\n"
     ]
    }
   ],
   "source": [
    "#write python program 23 is even number\n",
    "\n",
    "if number % 2 ==0:\n",
    "    print('even number')"
   ]
  },
  {
   "cell_type": "code",
   "execution_count": 41,
   "id": "38494454-4f3e-4d58-b209-443a227d3ab7",
   "metadata": {},
   "outputs": [],
   "source": [
    "number=595\n",
    "if number % 2 ==0:\n",
    "    print('even number')"
   ]
  },
  {
   "cell_type": "code",
   "execution_count": 42,
   "id": "1102cedb-e21a-430e-8258-f2e3a21d63a8",
   "metadata": {},
   "outputs": [
    {
     "name": "stdout",
     "output_type": "stream",
     "text": [
      "34 lesser than 35\n"
     ]
    }
   ],
   "source": [
    "if 34<35:\n",
    "    print('34 lesser than 35')"
   ]
  },
  {
   "cell_type": "code",
   "execution_count": 46,
   "id": "72090cc9-e6f7-4076-a374-b0a0de91a151",
   "metadata": {},
   "outputs": [],
   "source": [
    "if 34<35 ==0:\n",
    "    print('34 lesser than 35')   #here flase stmt "
   ]
  },
  {
   "cell_type": "code",
   "execution_count": 47,
   "id": "48ceacd7-9af4-47b4-a2ee-83a09bc3058b",
   "metadata": {},
   "outputs": [
    {
     "name": "stdout",
     "output_type": "stream",
     "text": [
      "57 greater than 0\n"
     ]
    }
   ],
   "source": [
    "if 57>0:\n",
    "    print('57 greater than 0')"
   ]
  },
  {
   "cell_type": "code",
   "execution_count": 48,
   "id": "def767e8-f82d-4d75-8344-8fb420bf89fc",
   "metadata": {},
   "outputs": [],
   "source": [
    "if 57<0:\n",
    "    print('57 lesser than 0')"
   ]
  },
  {
   "cell_type": "markdown",
   "id": "f018c1fa-de51-47c0-9b69-d269c1e607f8",
   "metadata": {},
   "source": [
    "# else conditional statement\n",
    "The if statement alone tells us that if a condition is true it will execute a block of statements and if the condition is false it won’t. But if we want to do something else if the condition is false, we can use the else statement with the if statement Python to execute a block of code when the Python if condition is false.\r\n"
   ]
  },
  {
   "cell_type": "code",
   "execution_count": 54,
   "id": "8cb5b44f-31a4-49d2-b979-236c723de22f",
   "metadata": {},
   "outputs": [],
   "source": [
    "# syntax : \n",
    "#if (condition):\n",
    "         # Executes this statement if\n",
    "        # condition is true\n",
    "# else:\n",
    "       # Executes this statement if\n",
    "      # condition is false"
   ]
  },
  {
   "cell_type": "code",
   "execution_count": 55,
   "id": "fed9c69a-4835-42a3-9e64-6dd88bae8e22",
   "metadata": {},
   "outputs": [
    {
     "name": "stdout",
     "output_type": "stream",
     "text": [
      "not equal\n"
     ]
    }
   ],
   "source": [
    "#example if-else statement:\n",
    "#write python is 34 is equal to 35\n",
    "\n",
    "a=34\n",
    "if a==35:\n",
    "    print('equal')\n",
    "else:\n",
    "    print('not equal')"
   ]
  },
  {
   "cell_type": "code",
   "execution_count": 56,
   "id": "e54969f0-f051-4d77-8f60-a4af7c471140",
   "metadata": {},
   "outputs": [
    {
     "name": "stdout",
     "output_type": "stream",
     "text": [
      "equal\n"
     ]
    }
   ],
   "source": [
    "if a==34:\n",
    "    print('equal')\n",
    "else:\n",
    "    print('not equal')"
   ]
  },
  {
   "cell_type": "code",
   "execution_count": 60,
   "id": "f9d2e17f-6079-42b8-b2c3-c7117d0b0480",
   "metadata": {},
   "outputs": [
    {
     "name": "stdout",
     "output_type": "stream",
     "text": [
      "even number\n"
     ]
    }
   ],
   "source": [
    "number=66\n",
    "if number % 2 ==0:\n",
    "    print('even number')\n",
    "else:\n",
    "    print('odd number')"
   ]
  },
  {
   "cell_type": "code",
   "execution_count": 61,
   "id": "13e85d24-c3b5-4f9b-a47c-97c44626c90d",
   "metadata": {},
   "outputs": [
    {
     "name": "stdout",
     "output_type": "stream",
     "text": [
      "odd number\n"
     ]
    }
   ],
   "source": [
    "number=13\n",
    "if number % 2 ==0:\n",
    "    print('even number')\n",
    "else:\n",
    "    print('odd number')"
   ]
  },
  {
   "cell_type": "code",
   "execution_count": 63,
   "id": "834e96a1-b5e3-4c3e-b5bc-fb6113d14b3b",
   "metadata": {},
   "outputs": [
    {
     "name": "stdout",
     "output_type": "stream",
     "text": [
      "equal to 0\n"
     ]
    }
   ],
   "source": [
    "#write python program 56 not equals to zero\n",
    "\n",
    "number=56\n",
    "if number != 0:           #here not equals we are using (!=)\n",
    "    print('equal to 0')\n",
    "else:\n",
    "    print(' not equal to 0')"
   ]
  },
  {
   "cell_type": "code",
   "execution_count": 64,
   "id": "d80f0a6a-eff3-4b7e-a18c-7fe0f7701d9f",
   "metadata": {},
   "outputs": [
    {
     "name": "stdout",
     "output_type": "stream",
     "text": [
      "not equal to 0\n"
     ]
    }
   ],
   "source": [
    "number=-99\n",
    "if number != -99:\n",
    "    print('equal to 0')\n",
    "else:\n",
    "    print('not equal to 0')"
   ]
  },
  {
   "cell_type": "code",
   "execution_count": 66,
   "id": "eea7340e-a13d-490f-97e3-cae444b02cf7",
   "metadata": {},
   "outputs": [
    {
     "name": "stdout",
     "output_type": "stream",
     "text": [
      "1 greater than are equal to 2\n"
     ]
    }
   ],
   "source": [
    "#write python program 1 greater than or equals 2\n",
    "\n",
    "number=1\n",
    "if number>=2:\n",
    "    print('1 greater than 2')\n",
    "else:\n",
    "    print('1 greater than are equal to 2')"
   ]
  },
  {
   "cell_type": "code",
   "execution_count": 67,
   "id": "7bb31dfe-eafb-4f07-9512-ce03bfca8b69",
   "metadata": {},
   "outputs": [
    {
     "name": "stdout",
     "output_type": "stream",
     "text": [
      "1 lesser than 2\n"
     ]
    }
   ],
   "source": [
    "number=1\n",
    "if number<=2:\n",
    "    print('1 lesser than 2')\n",
    "else:\n",
    "    print('1 lesser than are equal to 2')"
   ]
  },
  {
   "cell_type": "code",
   "execution_count": 77,
   "id": "80457f5f-35ca-44a5-80fc-3e20384cf03d",
   "metadata": {},
   "outputs": [
    {
     "name": "stdout",
     "output_type": "stream",
     "text": [
      "55 lesser than -1\n"
     ]
    }
   ],
   "source": [
    "number=55\n",
    "if number<=55:\n",
    "    print('55 lesser than -1')\n",
    "else:\n",
    "    print('55 lesser than or equals -1')"
   ]
  },
  {
   "cell_type": "markdown",
   "id": "e0d2e248-1e6d-4b9e-8166-567e973f38cc",
   "metadata": {},
   "source": [
    "# elif conditional statement\n",
    "Python will evalute the if condition and if it evaluates to False then it will evalute the elif blocks and execute the elif block whose expression evaluates to True. If multiple elif conditions become True, then the first elif block will be executed."
   ]
  },
  {
   "cell_type": "code",
   "execution_count": 97,
   "id": "3e9ba264-5c11-4cd2-9ea4-7c1886034127",
   "metadata": {},
   "outputs": [
    {
     "name": "stdout",
     "output_type": "stream",
     "text": [
      "qualified\n"
     ]
    }
   ],
   "source": [
    "#example of elif statement\n",
    "marks = 75\n",
    "\n",
    "if marks < 35:\n",
    "    print('pass')\n",
    "elif marks <= 45 and marks >= 75:\n",
    "    print('good')\n",
    "else:\n",
    "    print('qualified')"
   ]
  },
  {
   "cell_type": "code",
   "execution_count": 103,
   "id": "47add81f-fbc8-4a3f-b8a3-df9a16d2a613",
   "metadata": {},
   "outputs": [
    {
     "name": "stdout",
     "output_type": "stream",
     "text": [
      "pass\n"
     ]
    }
   ],
   "source": [
    "marks = 34\n",
    "\n",
    "if marks < 35:\n",
    "    print('pass')\n",
    "elif marks <= 45 and marks >= 75:\n",
    "    print('good')\n",
    "else:\n",
    "    print('qualified')"
   ]
  },
  {
   "cell_type": "code",
   "execution_count": 105,
   "id": "d77a71d0-a208-495e-a063-8017a3035b59",
   "metadata": {},
   "outputs": [
    {
     "name": "stdout",
     "output_type": "stream",
     "text": [
      "a greter than or equal to b\n"
     ]
    }
   ],
   "source": [
    "a = 200\n",
    "b = 33\n",
    "\n",
    "if b > a:\n",
    "  print(\"b is greater than a\")\n",
    "elif a == b:\n",
    "  print(\"a and b are equal\")\n",
    "elif a >= b:\n",
    "    print(\"a greter than or equal to b\")\n",
    "else:\n",
    "  print(\"a is greater than b\")"
   ]
  },
  {
   "cell_type": "code",
   "execution_count": 107,
   "id": "9e06b3c8-3e1d-408d-9d55-c964fba81f7f",
   "metadata": {},
   "outputs": [
    {
     "name": "stdout",
     "output_type": "stream",
     "text": [
      "b is greater than a\n"
     ]
    }
   ],
   "source": [
    "a = 33\n",
    "b = 200\n",
    "\n",
    "if b > a:\n",
    "  print(\"b is greater than a\")\n",
    "elif a == b:\n",
    "  print(\"a and b are equal\")\n",
    "else:\n",
    "  print(\"a is greater than b\")"
   ]
  },
  {
   "cell_type": "code",
   "execution_count": 108,
   "id": "ea98d135-1de3-46d0-aef1-dfc533a79cc2",
   "metadata": {},
   "outputs": [
    {
     "name": "stdout",
     "output_type": "stream",
     "text": [
      "a and b are equal\n"
     ]
    }
   ],
   "source": [
    "a = 45\n",
    "b = 45\n",
    "\n",
    "if b > a:\n",
    "  print(\"b is greater than a\")\n",
    "elif a == b:\n",
    "  print(\"a and b are equal\")\n",
    "else:\n",
    "  print(\"a is greater than b\")"
   ]
  },
  {
   "cell_type": "code",
   "execution_count": null,
   "id": "e567bf95-4772-4f79-a534-0f8eec950410",
   "metadata": {},
   "outputs": [],
   "source": []
  },
  {
   "cell_type": "code",
   "execution_count": null,
   "id": "9b6f665d-8956-49f7-9f3d-bff7995beb19",
   "metadata": {},
   "outputs": [],
   "source": []
  },
  {
   "cell_type": "code",
   "execution_count": 113,
   "id": "3d44ff2c-9067-495c-8bc5-7fef8881eedc",
   "metadata": {},
   "outputs": [
    {
     "name": "stdout",
     "output_type": "stream",
     "text": [
      "leap year\n"
     ]
    }
   ],
   "source": [
    "#write python program to check leap year \n",
    "\n",
    "year = 2024\n",
    "\n",
    "if year % 4 == 0 and year % 100 != 0:\n",
    "    print('leap year')                #here we divisible by 4 \n",
    "elif year % 100 == 0: \n",
    "    print('not leap year')           #here must be divisible by 100 also\n",
    "else :\n",
    "    print('leap year')"
   ]
  },
  {
   "cell_type": "code",
   "execution_count": 114,
   "id": "e3e84f66-a439-475b-beb5-abe5e2fe629b",
   "metadata": {},
   "outputs": [
    {
     "name": "stdout",
     "output_type": "stream",
     "text": [
      " not leap year\n"
     ]
    }
   ],
   "source": [
    "if year % 4 == 0 and year % 100 != 0:\n",
    "    print(' not leap year')\n",
    "elif year % 100 == 0:\n",
    "    print('not leap year')\n",
    "elif year % 400 == 0:           #here must be divisible by 400 also.\n",
    "    print('leap year')\n",
    "else :\n",
    "    print('not leap year')"
   ]
  },
  {
   "cell_type": "code",
   "execution_count": 1,
   "id": "a8aac4d5-dc6a-4124-9b6c-462626912469",
   "metadata": {},
   "outputs": [
    {
     "name": "stdout",
     "output_type": "stream",
     "text": [
      "b is greater than c\n"
     ]
    }
   ],
   "source": [
    "a=21\n",
    "b=31\n",
    "c=11           #using of three numbers \n",
    "\n",
    "if a>b:\n",
    "    print('a is greater than b')\n",
    "elif b>c:\n",
    "    print('b is greater than c')\n",
    "elif a>=b:\n",
    "    print('a greater than equal to b')\n",
    "elif b>=c:\n",
    "    print('b is greater than equal to c')\n",
    "else :\n",
    "    print('c is greater')"
   ]
  },
  {
   "cell_type": "code",
   "execution_count": 2,
   "id": "fed056d6-49bf-4c92-87e5-d05292277f5b",
   "metadata": {},
   "outputs": [
    {
     "name": "stdout",
     "output_type": "stream",
     "text": [
      "b is lesser than c\n"
     ]
    }
   ],
   "source": [
    "a=21\n",
    "b=31\n",
    "c=11\n",
    "\n",
    "if a>b:\n",
    "    print('a is lesser than b')\n",
    "elif b>c:\n",
    "    print('b is lesser than c')\n",
    "elif a>=b:\n",
    "    print('a lesser than equal to b')\n",
    "elif b>=c:\n",
    "    print('b is lesser than equal to c')\n",
    "else :\n",
    "    print('c is lesser')"
   ]
  },
  {
   "cell_type": "code",
   "execution_count": 5,
   "id": "6183c0cf-0024-49f2-9c0b-341471b90ee9",
   "metadata": {},
   "outputs": [],
   "source": [
    "#write python code remove to dulipcate from a list\n",
    "\n",
    "if 56>67:\n",
    "    print('56 is greater than 67')"
   ]
  },
  {
   "cell_type": "code",
   "execution_count": 10,
   "id": "51fe43bd-0a56-4f3b-9e73-b22c91a7d5b0",
   "metadata": {},
   "outputs": [
    {
     "name": "stdout",
     "output_type": "stream",
     "text": [
      "list dulipate\n"
     ]
    }
   ],
   "source": [
    "list=[1,2,3,4,5,1,2,3,4,5,6]\n",
    "\n",
    "if list == 0:\n",
    "    print('list')\n",
    "else:\n",
    "    print('list dulipate')"
   ]
  },
  {
   "cell_type": "code",
   "execution_count": 1,
   "id": "17d8f094-95c1-460c-91e7-f02089fda1b9",
   "metadata": {},
   "outputs": [
    {
     "name": "stdout",
     "output_type": "stream",
     "text": [
      "E is vowel\n"
     ]
    }
   ],
   "source": [
    "vowel = \" \"\n",
    "\n",
    "if vowel !=0:\n",
    "    print('E is vowel')\n",
    "elif vowel ==0:\n",
    "    print('E is not vowel')\n",
    "else:\n",
    "    print('vowel')"
   ]
  },
  {
   "cell_type": "code",
   "execution_count": null,
   "id": "38ebaa60-3937-4689-b173-ad0657736ac6",
   "metadata": {},
   "outputs": [],
   "source": []
  }
 ],
 "metadata": {
  "kernelspec": {
   "display_name": "Python 3 (ipykernel)",
   "language": "python",
   "name": "python3"
  },
  "language_info": {
   "codemirror_mode": {
    "name": "ipython",
    "version": 3
   },
   "file_extension": ".py",
   "mimetype": "text/x-python",
   "name": "python",
   "nbconvert_exporter": "python",
   "pygments_lexer": "ipython3",
   "version": "3.12.4"
  }
 },
 "nbformat": 4,
 "nbformat_minor": 5
}
