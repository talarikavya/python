{
 "cells": [
  {
   "cell_type": "code",
   "execution_count": 208,
   "id": "a7d77397-852a-4b4c-a50c-519d819b1bbd",
   "metadata": {},
   "outputs": [
    {
     "name": "stdout",
     "output_type": "stream",
     "text": [
      "working\n"
     ]
    }
   ],
   "source": [
    "#write python program at age of 18 going school,age of above 18 and 50 going working and above 50 its will retried\n",
    "age = 29\n",
    "\n",
    "if age==18:\n",
    "    print('school')\n",
    "elif age >= 18 and age <= 50:\n",
    "    print('working')\n",
    "else:\n",
    "    print('retired')"
   ]
  },
  {
   "cell_type": "code",
   "execution_count": 209,
   "id": "b25359b3-32d2-4450-b01c-af31a56b5840",
   "metadata": {},
   "outputs": [
    {
     "name": "stdout",
     "output_type": "stream",
     "text": [
      "2008 leap year\n"
     ]
    }
   ],
   "source": [
    "#write python program to check leap year \n",
    "\n",
    "year = 2008\n",
    "\n",
    "if year % 4 == 0 and year % 100 != 0:\n",
    "    print(year,'leap year')                #here we divisible by 4 and here must be divisible by 100.\n",
    "else :\n",
    "    print(year,'is not leap year')"
   ]
  },
  {
   "cell_type": "code",
   "execution_count": 210,
   "id": "57d17791-9c07-419e-9917-8c7eeb136a0f",
   "metadata": {},
   "outputs": [
    {
     "name": "stdout",
     "output_type": "stream",
     "text": [
      "b is greater than c\n"
     ]
    }
   ],
   "source": [
    "#finding of maximum number a,b,c\n",
    "a=21\n",
    "b=31\n",
    "c=11           #using of three numbers \n",
    "\n",
    "if a>b:\n",
    "    print('a is greater than b')\n",
    "elif b>c:\n",
    "    print('b is greater than c')\n",
    "elif a>=b:\n",
    "    print('a greater than equal to b')\n",
    "elif b>=c:\n",
    "    print('b is greater than equal to c')\n",
    "else :\n",
    "    print('c is greater')"
   ]
  },
  {
   "cell_type": "code",
   "execution_count": 211,
   "id": "4df8454a-3d81-40af-8056-6bd1778e0b1c",
   "metadata": {},
   "outputs": [],
   "source": [
    "#write python code remove to dulipcate from a list\n",
    "\n",
    "a=[1,2,3,5,3,2,5,6,9,1]\n",
    "\n",
    "if a== set:\n",
    "    print('a is list')"
   ]
  },
  {
   "cell_type": "code",
   "execution_count": 214,
   "id": "8efa9b10-1a98-47a7-a763-37638814a8ca",
   "metadata": {},
   "outputs": [
    {
     "name": "stdout",
     "output_type": "stream",
     "text": [
      "G non_veg is order\n"
     ]
    }
   ],
   "source": [
    "order= \"G\"\n",
    "\n",
    "veg ='W','R','T','Q','P'\n",
    "non_veg='C','F','B','G','N'\n",
    "\n",
    "if order in veg:\n",
    "    print(order,\"veg is order\")\n",
    "elif order in non_veg:\n",
    "    print(order,\"non_veg is order\")\n",
    "else:\n",
    "    print('right now yours order is not avaliable')"
   ]
  },
  {
   "cell_type": "code",
   "execution_count": 215,
   "id": "51f33c6b-738b-4a70-bd33-15aa0d7b789c",
   "metadata": {},
   "outputs": [
    {
     "name": "stdout",
     "output_type": "stream",
     "text": [
      "right now yours order is not avaliable\n"
     ]
    }
   ],
   "source": [
    "order= \"Z\"\n",
    "\n",
    "veg ='W','R','T','Q','P'\n",
    "non_veg='C','F','B','G','N'\n",
    "\n",
    "if order in veg:\n",
    "    print(order,\"veg is order\")\n",
    "elif order in non_veg:\n",
    "    print(order,\"non_veg is order\")\n",
    "else:\n",
    "    print('right now yours order is not avaliable')"
   ]
  },
  {
   "cell_type": "code",
   "execution_count": 198,
   "id": "67137b6d-011d-4986-9ba0-910ab472e5a6",
   "metadata": {},
   "outputs": [
    {
     "name": "stdout",
     "output_type": "stream",
     "text": [
      "{1, 2, 3, 4, 5, 6, 7}\n"
     ]
    }
   ],
   "source": [
    "#write python program find comman element between two list\n",
    "a = [1,2,3,4,5,5,6,1,2,7,4,44]\n",
    "b = [4,5,6,7,8,2,3,1,4,3,33,2,1]\n",
    "c = set(a)\n",
    "d = set(b)\n",
    "print(c.intersection(d))         #here i am using intersection method"
   ]
  },
  {
   "cell_type": "code",
   "execution_count": 199,
   "id": "f1a0ec88-8740-4cc6-ade3-25272bc5b3e6",
   "metadata": {},
   "outputs": [
    {
     "data": {
      "text/plain": [
       "'Hello world'"
      ]
     },
     "execution_count": 199,
     "metadata": {},
     "output_type": "execute_result"
    }
   ],
   "source": [
    "#write python program to captialize the first letter in word\n",
    "\n",
    "word = 'hello world'\n",
    "word.capitalize()    #here first character to upper case"
   ]
  },
  {
   "cell_type": "code",
   "execution_count": 200,
   "id": "873014c8-193e-4f19-a05b-c1cde170e684",
   "metadata": {},
   "outputs": [
    {
     "data": {
      "text/plain": [
       "7"
      ]
     },
     "execution_count": 200,
     "metadata": {},
     "output_type": "execute_result"
    }
   ],
   "source": [
    "#write python program find length to longest word in sentence\n",
    "word =\"Hello, welcome to my world\"\n",
    "\n",
    "longest = max(word.split(),key=len)   #here split string into list converts\n",
    "len('welcome')"
   ]
  },
  {
   "cell_type": "code",
   "execution_count": 201,
   "id": "24e2023b-caa3-4fde-aca8-45f338dda724",
   "metadata": {},
   "outputs": [
    {
     "name": "stdout",
     "output_type": "stream",
     "text": [
      "list is empty\n"
     ]
    }
   ],
   "source": [
    "#check if list is empty or not \n",
    "\n",
    "my_list= 0\n",
    "\n",
    "if my_list ==0:\n",
    "    print('list is empty')\n",
    "else:\n",
    "    print('list is not empty')"
   ]
  },
  {
   "cell_type": "code",
   "execution_count": 202,
   "id": "54bfa23b-4390-4d35-955d-5e0cbe8825c7",
   "metadata": {},
   "outputs": [
    {
     "name": "stdout",
     "output_type": "stream",
     "text": [
      "3237.6099999999997\n"
     ]
    }
   ],
   "source": [
    "#caculate the square root of given number\n",
    "root = 56.9\n",
    "root = 56.9**2\n",
    "print(root)"
   ]
  },
  {
   "cell_type": "code",
   "execution_count": 203,
   "id": "c6b9f854-f83e-4c55-bc67-18f3351dc5b7",
   "metadata": {},
   "outputs": [
    {
     "data": {
      "text/plain": [
       "98"
      ]
     },
     "execution_count": 203,
     "metadata": {},
     "output_type": "execute_result"
    }
   ],
   "source": [
    "#find maximum number in list.\n",
    "\n",
    "txt = [21,23,44.9,55,1,2,5,66,4,98,56,77,44,89,32,12,21,66,55,3,2,9,7,7,6,5]\n",
    "max(txt) "
   ]
  },
  {
   "cell_type": "code",
   "execution_count": 204,
   "id": "0b39b152-5376-4fed-966d-204b33d701d5",
   "metadata": {},
   "outputs": [
    {
     "data": {
      "text/plain": [
       "'i love travelling and travelling find the peace'"
      ]
     },
     "execution_count": 204,
     "metadata": {},
     "output_type": "execute_result"
    }
   ],
   "source": [
    "#replace the all occurance in the string\n",
    "\n",
    "txt = \"i love travelling , travelling find the peace\"\n",
    "txt.replace(',','and')"
   ]
  },
  {
   "cell_type": "code",
   "execution_count": 205,
   "id": "686bd05f-06ce-4e02-9cd0-14d5de7be860",
   "metadata": {},
   "outputs": [
    {
     "name": "stdout",
     "output_type": "stream",
     "text": [
      "a is vowel\n"
     ]
    }
   ],
   "source": [
    "#write a python program to check given character is vowel or not \n",
    "\n",
    "vowel = a\n",
    "\n",
    "if vowel!=0:\n",
    "    print('a is vowel')\n",
    "elif vowel==0:\n",
    "    print('a is not vowel')\n",
    "else:\n",
    "    print('vowel')"
   ]
  },
  {
   "cell_type": "code",
   "execution_count": 207,
   "id": "21124fdc-2afa-4111-897e-dfd71bea492c",
   "metadata": {},
   "outputs": [
    {
     "name": "stdout",
     "output_type": "stream",
     "text": [
      "  is vowel\n"
     ]
    }
   ],
   "source": [
    "vowel = \" \"\n",
    "\n",
    "if vowel !=0:\n",
    "    print('  is vowel')\n",
    "elif vowel ==0:\n",
    "    print('  is not vowel')\n",
    "else:\n",
    "    print('vowel')"
   ]
  },
  {
   "cell_type": "code",
   "execution_count": null,
   "id": "d0f68d55-52aa-4e72-a609-a434d65fcc96",
   "metadata": {},
   "outputs": [],
   "source": []
  }
 ],
 "metadata": {
  "kernelspec": {
   "display_name": "Python 3 (ipykernel)",
   "language": "python",
   "name": "python3"
  },
  "language_info": {
   "codemirror_mode": {
    "name": "ipython",
    "version": 3
   },
   "file_extension": ".py",
   "mimetype": "text/x-python",
   "name": "python",
   "nbconvert_exporter": "python",
   "pygments_lexer": "ipython3",
   "version": "3.12.4"
  }
 },
 "nbformat": 4,
 "nbformat_minor": 5
}
