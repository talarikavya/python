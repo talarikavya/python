{
 "cells": [
  {
   "cell_type": "markdown",
   "id": "dd1ee5e4-d4e7-441c-a8e5-1107468ed5ee",
   "metadata": {},
   "source": [
    "# SETS\n"
   ]
  },
  {
   "cell_type": "markdown",
   "id": "9a980d86-13ab-4403-a3fe-f1d1f7fa6813",
   "metadata": {},
   "source": [
    "Sets are used to store multiple items in a single variable.\n",
    "A set is a collection which is unordered,unchangeable and unindexed. \n",
    "Note : Set item are unchangable,but you can remove items and add new items.\n",
    "Sets are written with curly brackets ' { } '.\n",
    "It will allows duplicates not allowed like in sets can't have two items with the same values.\n",
    "In sets are output are in unorder data type."
   ]
  },
  {
   "cell_type": "code",
   "execution_count": 5,
   "id": "86cf738d-c5e3-4773-8190-0a1926d236b9",
   "metadata": {},
   "outputs": [
    {
     "name": "stdout",
     "output_type": "stream",
     "text": [
      "{1, 2, 4, 6}\n"
     ]
    }
   ],
   "source": [
    "#example of sets \n",
    "moblie = { 'realme', 'redmi' , 'vivo', 'oneplus' }\n",
    "moblie = set([1,4,6,2])\n",
    "print(moblie)"
   ]
  },
  {
   "cell_type": "code",
   "execution_count": 9,
   "id": "afa65c59-abb7-42a8-875f-4b3aa21f4d4c",
   "metadata": {},
   "outputs": [
    {
     "data": {
      "text/plain": [
       "{'f', 'i', 'r', 's', 't', 'u'}"
      ]
     },
     "execution_count": 9,
     "metadata": {},
     "output_type": "execute_result"
    }
   ],
   "source": [
    "fruits = { 'apple' , 'grapess' , 'pineappless' , 'orange' , 'kiwi' }\n",
    "set('fruits')"
   ]
  },
  {
   "cell_type": "code",
   "execution_count": 11,
   "id": "0abed2f5-66bc-4d16-b28f-a0acaa296baf",
   "metadata": {},
   "outputs": [
    {
     "name": "stdout",
     "output_type": "stream",
     "text": [
      "<class 'set'>\n"
     ]
    }
   ],
   "source": [
    "print(type(fruits))"
   ]
  },
  {
   "cell_type": "code",
   "execution_count": 13,
   "id": "75245b4a-e212-4cb0-8b44-f341e647b2f6",
   "metadata": {},
   "outputs": [
    {
     "data": {
      "text/plain": [
       "{'e', 'm', 'r', 's', 't'}"
      ]
     },
     "execution_count": 13,
     "metadata": {},
     "output_type": "execute_result"
    }
   ],
   "source": [
    "set('terms')"
   ]
  },
  {
   "cell_type": "code",
   "execution_count": 16,
   "id": "d6e02035-cf47-401f-a772-5998c3624a4f",
   "metadata": {},
   "outputs": [
    {
     "data": {
      "text/plain": [
       "{'e', 'l', 'r', 's', 't'}"
      ]
     },
     "execution_count": 16,
     "metadata": {},
     "output_type": "execute_result"
    }
   ],
   "source": [
    "set(\"letterssss\")       #does not allows duplicate element"
   ]
  },
  {
   "cell_type": "code",
   "execution_count": 18,
   "id": "e7ffb16b-c3f1-4822-8e08-9d2a23a7a847",
   "metadata": {},
   "outputs": [
    {
     "data": {
      "text/plain": [
       "{'a', 'e', 'h', 'l', 'p', 't'}"
      ]
     },
     "execution_count": 18,
     "metadata": {},
     "output_type": "execute_result"
    }
   ],
   "source": [
    "alphapet = ('a','b','c','d','e','f','g','h','i','t','t' )\n",
    "set(\"alphapet\")"
   ]
  },
  {
   "cell_type": "code",
   "execution_count": 70,
   "id": "5003f59d-66b2-415c-b6aa-e54d8f28df99",
   "metadata": {},
   "outputs": [
    {
     "data": {
      "text/plain": [
       "{'b', 'e', 'i', 'l', 'm', 'o'}"
      ]
     },
     "execution_count": 70,
     "metadata": {},
     "output_type": "execute_result"
    }
   ],
   "source": [
    "moblie = { 'realme', 'redmi' , 'vivo', 'oneplus' }\n",
    "set('moblie')                                      #set is unorder "
   ]
  },
  {
   "cell_type": "code",
   "execution_count": 71,
   "id": "7fc40e6b-041a-42e2-844d-ea7b2b2c5bab",
   "metadata": {},
   "outputs": [
    {
     "data": {
      "text/plain": [
       "{' ', 'a', 'e', 'l', 'o', 'p', 'r', 't', 'w'}"
      ]
     },
     "execution_count": 71,
     "metadata": {},
     "output_type": "execute_result"
    }
   ],
   "source": [
    "set('water pool')"
   ]
  },
  {
   "cell_type": "code",
   "execution_count": 72,
   "id": "8a565a7e-dd6a-4fd7-b0e6-d60b40b99ddd",
   "metadata": {},
   "outputs": [
    {
     "data": {
      "text/plain": [
       "{'a', 'k', 'v', 'y'}"
      ]
     },
     "execution_count": 72,
     "metadata": {},
     "output_type": "execute_result"
    }
   ],
   "source": [
    "set('kavya')"
   ]
  },
  {
   "cell_type": "markdown",
   "id": "a22004b4-4fad-455b-bf8c-0bd68e2b0044",
   "metadata": {},
   "source": [
    "# ADD ITEM TO A SET IN PYTHON"
   ]
  },
  {
   "cell_type": "markdown",
   "id": "b94f4c60-8a95-4bf7-8c54-a4eed5ba6f21",
   "metadata": {},
   "source": [
    "Once a set is created , you can,t change its items,but you can add new items.\n",
    "To add one item to a set use the add() method.\n",
    "To add item from another set into the called set,use the update() method.\n",
    "syntax : thisset.update(tropical)."
   ]
  },
  {
   "cell_type": "code",
   "execution_count": 73,
   "id": "c7f6f895-a4f7-42f5-a303-fe4c8a5e3f92",
   "metadata": {},
   "outputs": [
    {
     "name": "stdout",
     "output_type": "stream",
     "text": [
      "{'1', '4', 'animal', '5', '2', '3'}\n"
     ]
    }
   ],
   "source": [
    "#example of add item\n",
    "animal = { 'cat','rat','dog','rabbit' }\n",
    "numbers = {'1', '2', '3', '4', '5'}\n",
    "numbers.add('animal')\n",
    "print(numbers)"
   ]
  },
  {
   "cell_type": "code",
   "execution_count": 74,
   "id": "82d0e59a-057c-49a4-9ee6-1cfc5e64128c",
   "metadata": {},
   "outputs": [
    {
     "name": "stdout",
     "output_type": "stream",
     "text": [
      "{'vivo', 'iphone', 'realme', 'redmi', 'oneplus'}\n"
     ]
    }
   ],
   "source": [
    "moblie = { 'realme', 'redmi' , 'vivo', 'oneplus' }\n",
    "moblie.add('iphone')\n",
    "print(moblie)"
   ]
  },
  {
   "cell_type": "code",
   "execution_count": 75,
   "id": "520ea33d-2b52-472a-83b4-b21179665f9f",
   "metadata": {},
   "outputs": [
    {
     "name": "stdout",
     "output_type": "stream",
     "text": [
      "{'accenture', 'ibm', 'infosys', 'tcs', 'wipro', 'google'}\n"
     ]
    }
   ],
   "source": [
    "companies = { 'google' ,'tcs', 'infosys', 'wipro','ibm'}\n",
    "companies.add('accenture')\n",
    "print(companies)"
   ]
  },
  {
   "cell_type": "code",
   "execution_count": 76,
   "id": "c4d3ce29-4e34-4fca-9556-7aa615e9de4d",
   "metadata": {},
   "outputs": [
    {
     "name": "stdout",
     "output_type": "stream",
     "text": [
      "{'yellow', 'red', 'blue', 'white', 'black', 'dark blue', 'green'}\n"
     ]
    }
   ],
   "source": [
    "colours = { 'red', 'yellow', 'black', 'white', 'blue', 'green' }\n",
    "colours.add('dark blue')\n",
    "print(colours)"
   ]
  },
  {
   "cell_type": "code",
   "execution_count": 77,
   "id": "a343aad5-efd0-490f-bb72-7d6451124e10",
   "metadata": {},
   "outputs": [
    {
     "name": "stdout",
     "output_type": "stream",
     "text": [
      "{'rose', 'jasmine', 'sunflower', 'lily', 'lotus'}\n"
     ]
    }
   ],
   "source": [
    "f = { 'rose', 'sunflower', 'lily', 'lotus' }\n",
    "f.add('jasmine')\n",
    "print(f)"
   ]
  },
  {
   "cell_type": "code",
   "execution_count": 78,
   "id": "45f3a8d3-0585-4dba-bfae-684cee5ce1dd",
   "metadata": {},
   "outputs": [
    {
     "name": "stdout",
     "output_type": "stream",
     "text": [
      "{'w', 'p', 'y', 'e', 'r', 'q', 'f'}\n"
     ]
    }
   ],
   "source": [
    "a = {'q','e','r','y','w','f'}\n",
    "a.add('p')\n",
    "print(a)"
   ]
  },
  {
   "cell_type": "markdown",
   "id": "db29661d-d9c5-48c2-8b44-6cedae5bce06",
   "metadata": {},
   "source": [
    " # UPDATE ITEMS TO A SET \n"
   ]
  },
  {
   "cell_type": "markdown",
   "id": "7145def4-bf77-4c70-868f-d63ff066a7d4",
   "metadata": {},
   "source": [
    "The update() method update the called set by adding items from another set (or any other iterable).\n",
    "If an item is present in both sets,only on apperance of this will be present in the updated set.\n",
    "As a shortcut you can use the |= operator instead.\n",
    "syntax : set.update(set1,set2,...)"
   ]
  },
  {
   "cell_type": "code",
   "execution_count": 79,
   "id": "e9a39f11-a747-4cd4-999d-1775d916aaf2",
   "metadata": {},
   "outputs": [
    {
     "name": "stdout",
     "output_type": "stream",
     "text": [
      "{'w', 'y', 'd', 'e', 'i', 'r', 'q', 'f', 'g'}\n"
     ]
    }
   ],
   "source": [
    "#example of upated of item\n",
    "a = {'q','e','r','y','w','f'}\n",
    "a.update('d','g','i')\n",
    "print(a)"
   ]
  },
  {
   "cell_type": "code",
   "execution_count": 80,
   "id": "85bbaa54-6ca8-4957-a172-46cf17d0f16f",
   "metadata": {},
   "outputs": [],
   "source": [
    "f = { 'rose', 'sunflower', 'lily', 'lotus' }\n",
    "f.update('jamine')"
   ]
  },
  {
   "cell_type": "code",
   "execution_count": 81,
   "id": "d2649c64-f0ce-4675-84b3-8ee60d6cc103",
   "metadata": {},
   "outputs": [
    {
     "name": "stdout",
     "output_type": "stream",
     "text": [
      "{'a', 'rose', 'j', 'sunflower', 'n', 'e', 'i', 'lily', 'lotus', 'm'}\n"
     ]
    }
   ],
   "source": [
    "print(f)"
   ]
  },
  {
   "cell_type": "code",
   "execution_count": 82,
   "id": "1469ce94-9715-45a8-b1a9-6b8f884cfda0",
   "metadata": {},
   "outputs": [
    {
     "name": "stdout",
     "output_type": "stream",
     "text": [
      "{'a', 'navya', 'h', 's', 'manisha', 'u', 'kovela', 'kavya', 'gunaa', 'i', 'v'}\n"
     ]
    }
   ],
   "source": [
    "name = { 'kavya', 'navya','kovela', 'manisha', 'gunaa' }\n",
    "name.update('vaishu')\n",
    "print(name)"
   ]
  },
  {
   "cell_type": "code",
   "execution_count": 83,
   "id": "3e4fc865-aabe-4738-a2c2-e0e69b2fc1de",
   "metadata": {},
   "outputs": [
    {
     "name": "stdout",
     "output_type": "stream",
     "text": [
      "{'2', '9', '3', '1', '4', '0', '8', '7', '5', '6'}\n"
     ]
    }
   ],
   "source": [
    "numbers = {'1','2','3','4','5','6','7','8','9' }\n",
    "numbers.update('10','100','1000')\n",
    "print(numbers)"
   ]
  },
  {
   "cell_type": "markdown",
   "id": "1ecc1336-d192-4f56-9f98-0a50f6b31a08",
   "metadata": {},
   "source": [
    "# REMOVE OR DISCARD ITEM OF SET"
   ]
  },
  {
   "cell_type": "markdown",
   "id": "3d9f2dc0-db91-4f5b-b217-06e10044cf51",
   "metadata": {},
   "source": [
    "Remove an item in a set, use the remove() or discard() method.\n",
    "Here remove and discard are same because item are remove, discard are also removing item."
   ]
  },
  {
   "cell_type": "code",
   "execution_count": 84,
   "id": "ac2f89c6-e492-43fa-8c3e-264609e3bc27",
   "metadata": {},
   "outputs": [
    {
     "name": "stdout",
     "output_type": "stream",
     "text": [
      "{'2', '9', '3', '4', '8', '7', '5', '6'}\n"
     ]
    }
   ],
   "source": [
    "#example of remove() or discard() item \n",
    "numbers = {'1','2','3','4','5','6','7','8','9' }\n",
    "numbers.remove('1')\n",
    "print(numbers)"
   ]
  },
  {
   "cell_type": "code",
   "execution_count": 85,
   "id": "8284909e-922f-4dc5-8ed4-4f25bacceddc",
   "metadata": {},
   "outputs": [
    {
     "name": "stdout",
     "output_type": "stream",
     "text": [
      "{'manisha', 'navya', 'kavya', 'kovela'}\n"
     ]
    }
   ],
   "source": [
    "name = { 'kavya', 'navya','kovela', 'manisha', 'gunaa' }\n",
    "name.discard('gunaa')\n",
    "print(name)                                               #here discard are same to remove"
   ]
  },
  {
   "cell_type": "code",
   "execution_count": 86,
   "id": "9e32e485-5cbb-42ac-82aa-790488d98e5e",
   "metadata": {},
   "outputs": [
    {
     "name": "stdout",
     "output_type": "stream",
     "text": [
      "{'grapess', 'orange', 'pineappless', 'apple'}\n"
     ]
    }
   ],
   "source": [
    "fruits = { 'apple' , 'grapess' , 'pineappless' , 'orange' , 'kiwi' }\n",
    "fruits.discard('kiwi')\n",
    "print(fruits)"
   ]
  },
  {
   "cell_type": "code",
   "execution_count": 88,
   "id": "c21ba5a2-6eb5-4075-8e56-c0dbb44310df",
   "metadata": {},
   "outputs": [
    {
     "name": "stdout",
     "output_type": "stream",
     "text": [
      "{'o', 'a', 'r', 's', 'j', 'sunflower', 'n', 'e', 'i', 'lily', 'lotus', 'm'}\n"
     ]
    }
   ],
   "source": [
    "f.remove('rose')\n",
    "print(f) "
   ]
  },
  {
   "cell_type": "markdown",
   "id": "8c56ab1d-9782-49fb-b7d4-fd224e65f10c",
   "metadata": {},
   "source": [
    "# SET OPERATION IN PYTHON"
   ]
  },
  {
   "cell_type": "markdown",
   "id": "33498e3c-d540-48bc-ab31-f9f0d8069cb7",
   "metadata": {},
   "source": [
    "UNION SET:-\n",
    "\n",
    "\n",
    "The union() method returns a set that contains all items from the original set, and all items from the specified set(s).\r",
    "You can specify as many sets you want, separated by commas.\n",
    "It does not have to be a set, it can be any iterable object.\r",
    "If an item is present in more than one set, the result will contain only one appearance of this item.\r",
    "As a shortcut, you can use the | operator instead, see example below.\r",
    "Syntax : set.union(set1, set2...).\n",
    "\n",
    "\n",
    "\r\n",
    "\r\n",
    "\r\n",
    "\r\n"
   ]
  },
  {
   "cell_type": "code",
   "execution_count": 91,
   "id": "e9d1d498-88d2-465f-9018-673dad0e84ff",
   "metadata": {},
   "outputs": [
    {
     "data": {
      "text/plain": [
       "{'1', '2', '3', '4', '5', 'apple', 'grapess', 'kiwi', 'orange', 'pineappless'}"
      ]
     },
     "execution_count": 91,
     "metadata": {},
     "output_type": "execute_result"
    }
   ],
   "source": [
    "#example union set\n",
    "fruits = { 'apple' , 'grapess' , 'pineappless' , 'orange' , 'kiwi' }\n",
    "numbers = { '1','2','3','4','5' }\n",
    "fruits | numbers"
   ]
  },
  {
   "cell_type": "code",
   "execution_count": 92,
   "id": "04dad2fa-9c40-4602-b99d-2e6fc64de47b",
   "metadata": {},
   "outputs": [
    {
     "data": {
      "text/plain": [
       "{'0', '1', '3', 'gunaa', 'kavya', 'kovela', 'manisha', 'navya'}"
      ]
     },
     "execution_count": 92,
     "metadata": {},
     "output_type": "execute_result"
    }
   ],
   "source": [
    "name = { 'kavya', 'navya','kovela', 'manisha', 'gunaa' }\n",
    "num = { '0','1','1','0','3','3' }\n",
    "num.union(name)"
   ]
  },
  {
   "cell_type": "markdown",
   "id": "b95a9eb1-2b2a-4084-b515-0083d6634fa7",
   "metadata": {},
   "source": [
    "INTERSECTION:\n",
    "\n",
    "The intersection() method returns a set that contains the similarity between two or more sets.\n",
    "Meaning The returned set contains only items that exist in both sets, or in all sets if the comparison is done with more than two sets.set.intersection(set1, set2 ... etc.).\r\n",
    "As a shortcut, you can use the & operator instea.\n",
    "\r\n"
   ]
  },
  {
   "cell_type": "code",
   "execution_count": 93,
   "id": "5c9ab868-6913-4f9c-a2dd-87d0c026d964",
   "metadata": {},
   "outputs": [
    {
     "data": {
      "text/plain": [
       "{'banana'}"
      ]
     },
     "execution_count": 93,
     "metadata": {},
     "output_type": "execute_result"
    }
   ],
   "source": [
    "#example intersection set\n",
    "x = {\"apple\", \"banana\", \"cherry\"}\n",
    "y = {\"google\", \"microsoft\", \"tcs\",\"banana\"}\n",
    "x & y"
   ]
  },
  {
   "cell_type": "code",
   "execution_count": 96,
   "id": "b9bed3a5-9221-46de-b1d4-ae41dc5d6a8c",
   "metadata": {},
   "outputs": [
    {
     "data": {
      "text/plain": [
       "set()"
      ]
     },
     "execution_count": 96,
     "metadata": {},
     "output_type": "execute_result"
    }
   ],
   "source": [
    "name = { 'kavya', 'navya','kovela', 'manisha', 'gunaa' }\n",
    "num = { '0','1','1','0','3','3',}\n",
    "name.intersection(num)"
   ]
  },
  {
   "cell_type": "code",
   "execution_count": 97,
   "id": "5878ca3c-9216-4b98-b127-9140b5c13adf",
   "metadata": {},
   "outputs": [
    {
     "data": {
      "text/plain": [
       "set()"
      ]
     },
     "execution_count": 97,
     "metadata": {},
     "output_type": "execute_result"
    }
   ],
   "source": [
    "num = { '0','1','1','0','3','3' }\n",
    "name = { 'kavya', 'navya','kovela', 'manisha', 'gunaa' }\n",
    "name & num"
   ]
  },
  {
   "cell_type": "markdown",
   "id": "4bccd4cb-13b3-40eb-a043-b2191bac1f5c",
   "metadata": {},
   "source": [
    "DIFFERENCE SET:\n",
    "\n",
    "\r\n",
    "The difference() method returns a set that contains the difference between two setsMeaning : The returned set contains items that exist only in the first set, and not in both sets.\r",
    "As a shortcut, you can use the - operator instead.\n",
    "syntax : set.difference(set1, set2 ... etc.).\n",
    "\r\n",
    "\r\n",
    "\r\n",
    "\r\n"
   ]
  },
  {
   "cell_type": "code",
   "execution_count": 115,
   "id": "eaddbe0e-da91-4b08-8d71-4775d088dde9",
   "metadata": {},
   "outputs": [
    {
     "data": {
      "text/plain": [
       "{'apple', 'cherry'}"
      ]
     },
     "execution_count": 115,
     "metadata": {},
     "output_type": "execute_result"
    }
   ],
   "source": [
    "#example of difference set\n",
    "x = {\"apple\", \"banana\", \"cherry\"}\n",
    "y = {\"google\", \"microsoft\", \"tcs\",\"banana\"}\n",
    "x.difference(y)"
   ]
  },
  {
   "cell_type": "code",
   "execution_count": 116,
   "id": "05f4210b-8e4d-4285-8628-b046cc6d0c99",
   "metadata": {},
   "outputs": [
    {
     "data": {
      "text/plain": [
       "{'gunaa', 'kavya', 'navya'}"
      ]
     },
     "execution_count": 116,
     "metadata": {},
     "output_type": "execute_result"
    }
   ],
   "source": [
    "num = { '0','1','1','0','3','3','kovela','manisha' }\n",
    "name = { 'kavya', 'navya','kovela', 'manisha', 'gunaa' }\n",
    "name - num"
   ]
  },
  {
   "cell_type": "code",
   "execution_count": 117,
   "id": "d60e315b-6539-45d2-bf77-c4d29c104521",
   "metadata": {},
   "outputs": [
    {
     "data": {
      "text/plain": [
       "{'0', '1', '3'}"
      ]
     },
     "execution_count": 117,
     "metadata": {},
     "output_type": "execute_result"
    }
   ],
   "source": [
    "name = { 'kavya', 'navya','kovela', 'manisha', 'gunaa' }\n",
    "num = { '0','1','1','0','3','3' }\n",
    "num.difference(name)"
   ]
  },
  {
   "cell_type": "markdown",
   "id": "8f77a0e8-c5ce-405f-b938-7d32abc42d5a",
   "metadata": {},
   "source": [
    "SYMMETRIC_DIFFERENCE() SET\n",
    "\n",
    "The symmetric difference of two sets set1 and set2 is the set of elements which are in either of the sets set1 or set2 but not in both.\n",
    "set1_name.symmetric_difference(set2_name).\n"
   ]
  },
  {
   "cell_type": "code",
   "execution_count": 118,
   "id": "f54f0c4d-db5e-449e-aafb-bc83b3f6ab56",
   "metadata": {},
   "outputs": [
    {
     "name": "stdout",
     "output_type": "stream",
     "text": [
      "{'pineapple', '5', 'apple'}\n"
     ]
    }
   ],
   "source": [
    "#example of symmetric_ difference() \n",
    "a = { '1','2','3','4','5' }\n",
    "b = { '1','2','apple','4','3','pineapple' }\n",
    "c = a.symmetric_difference(b)\n",
    "print(c)"
   ]
  },
  {
   "cell_type": "code",
   "execution_count": 119,
   "id": "e8f981e0-2ea2-462e-b099-55118f25bfda",
   "metadata": {},
   "outputs": [
    {
     "data": {
      "text/plain": [
       "{'4566', '89889', '95655', 'ajay', 'kiran', 'kranth'}"
      ]
     },
     "execution_count": 119,
     "metadata": {},
     "output_type": "execute_result"
    }
   ],
   "source": [
    "name = { 'kranth','ajay','kiran' }\n",
    "id = { '4566','89889','95655' }\n",
    "name ^ id "
   ]
  },
  {
   "cell_type": "code",
   "execution_count": 120,
   "id": "283bc84e-3301-4036-9e7a-f6a65483ed23",
   "metadata": {},
   "outputs": [
    {
     "data": {
      "text/plain": [
       "{'5', 'apple', 'pineapple'}"
      ]
     },
     "execution_count": 120,
     "metadata": {},
     "output_type": "execute_result"
    }
   ],
   "source": [
    "a ^ b"
   ]
  },
  {
   "cell_type": "code",
   "execution_count": 121,
   "id": "e9fa66fe-8ae5-4fc0-a9b1-f0df279c87c5",
   "metadata": {},
   "outputs": [
    {
     "data": {
      "text/plain": [
       "{'1', '2', '3', '4', '5', 'apple', 'grapess', 'kiwi', 'orange', 'pineappless'}"
      ]
     },
     "execution_count": 121,
     "metadata": {},
     "output_type": "execute_result"
    }
   ],
   "source": [
    "fruits.symmetric_difference(numbers)"
   ]
  },
  {
   "cell_type": "markdown",
   "id": "62066fa1-d226-4a41-a492-4bb31a459448",
   "metadata": {},
   "source": [
    "# SET METHODS"
   ]
  },
  {
   "cell_type": "code",
   "execution_count": 129,
   "id": "3bbdb3c3-4728-42d3-b8da-57758df9df22",
   "metadata": {},
   "outputs": [
    {
     "name": "stdout",
     "output_type": "stream",
     "text": [
      "set()\n"
     ]
    }
   ],
   "source": [
    "# Clear() : Removes all the elements from the set\n",
    "#example of clear()\n",
    "\n",
    "fruits = { 'apple' , 'grapess' , 'pineappless' , 'orange' , 'kiwi' }\n",
    "fruits.clear()\n",
    "print(fruits)"
   ]
  },
  {
   "cell_type": "code",
   "execution_count": 134,
   "id": "0462878b-a058-47ca-805b-80bfc9282e85",
   "metadata": {},
   "outputs": [
    {
     "name": "stdout",
     "output_type": "stream",
     "text": [
      "{'grapess', 'orange', 'pineappless', 'kiwi', 'apple'}\n"
     ]
    }
   ],
   "source": [
    "#copy() : Returns a copy of the set\n",
    "#example of copy()\n",
    "\n",
    "fruits = { 'apple' , 'grapess' , 'pineappless' , 'orange' , 'kiwi' }\n",
    "fruits.copy()\n",
    "print(fruits)"
   ]
  },
  {
   "cell_type": "code",
   "execution_count": 138,
   "id": "bcab4b15-3ea0-479e-9b0c-145e4270a81d",
   "metadata": {},
   "outputs": [
    {
     "data": {
      "text/plain": [
       "{'grapess', 'kiwi', 'pineappless'}"
      ]
     },
     "execution_count": 138,
     "metadata": {},
     "output_type": "execute_result"
    }
   ],
   "source": [
    "#difference() : Returns a set containing the difference between two or more sets\n",
    "#example of difference()\n",
    "\n",
    "fruits = { 'apple' , 'grapess' , 'pineappless' , 'orange' , 'kiwi' }\n",
    "colours= { 'green', 'yellow', 'orange', 'black','apple' }\n",
    "fruits.difference(colours)"
   ]
  },
  {
   "cell_type": "code",
   "execution_count": 140,
   "id": "a3905a45-d956-4492-922f-106846b3481d",
   "metadata": {},
   "outputs": [
    {
     "name": "stdout",
     "output_type": "stream",
     "text": [
      "{'grapess', 'orange', 'pineappless', 'kiwi', 'apple'}\n"
     ]
    }
   ],
   "source": [
    "#difference_update() : Removes the items in this set that are also included in another, specified set\n",
    "\n",
    "fruits = { 'apple' , 'grapess' , 'pineappless' , 'orange' , 'kiwi' }\n",
    "colours= { 'green', 'yellow', 'orange', 'black','apple' }\n",
    "colours.difference_update(furits)\n",
    "print(fruits)"
   ]
  },
  {
   "cell_type": "code",
   "execution_count": 142,
   "id": "e4a3f799-345c-4180-8746-b7356e3713e2",
   "metadata": {},
   "outputs": [
    {
     "name": "stdout",
     "output_type": "stream",
     "text": [
      "{'yellow', 'orange', 'black', 'green', 'apple'}\n"
     ]
    }
   ],
   "source": [
    "#intersection_update() : Removes the items in this set that are not present in other, specified set(s)\n",
    "\n",
    "fruits = { 'apple' , 'grapess' , 'pineappless' , 'orange' , 'kiwi' }\n",
    "colours= { 'green', 'yellow', 'orange', 'black','apple' }\n",
    "fruits &= colours\n",
    "print(colours)"
   ]
  },
  {
   "cell_type": "code",
   "execution_count": 150,
   "id": "975f766a-6926-4d28-badb-37cff47ce0d2",
   "metadata": {},
   "outputs": [
    {
     "name": "stdout",
     "output_type": "stream",
     "text": [
      "{'pineapple', '1', '4', 'apple', '2', '3'}\n"
     ]
    }
   ],
   "source": [
    "#symmetric_difference_update() : The symmetric_difference_update() method updates the original set by removing items that are present in both sets, and inserting the other items.\n",
    "\n",
    "a = { '1','2','3','4','5' }\n",
    "b = { '1','2','apple','4','3','pineapple' }\n",
    "a ^= b\n",
    "print(b)"
   ]
  },
  {
   "cell_type": "code",
   "execution_count": null,
   "id": "b8a9d451-35a2-4bd0-b61d-06c2315ca0c9",
   "metadata": {},
   "outputs": [],
   "source": []
  }
 ],
 "metadata": {
  "kernelspec": {
   "display_name": "Python 3 (ipykernel)",
   "language": "python",
   "name": "python3"
  },
  "language_info": {
   "codemirror_mode": {
    "name": "ipython",
    "version": 3
   },
   "file_extension": ".py",
   "mimetype": "text/x-python",
   "name": "python",
   "nbconvert_exporter": "python",
   "pygments_lexer": "ipython3",
   "version": "3.12.4"
  }
 },
 "nbformat": 4,
 "nbformat_minor": 5
}
