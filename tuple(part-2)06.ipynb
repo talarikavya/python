{
 "cells": [
  {
   "cell_type": "markdown",
   "id": "5d77b926-a6c4-4e2f-9043-8a443368f0f9",
   "metadata": {},
   "source": [
    "# TUPLE\n",
    "*Tuple are used to store multiple items in a single variable.\n",
    "*Tuple is one of collection which is ordered are inmutable.\n",
    "*Tuples are written with round brackets.\n",
    "*In tuple are unchangeable means that we can't change,add or remove items after the tuple has been created.\n",
    "*Tuple are every element is separted by th comma.\n",
    "*tuple is collection items or elements."
   ]
  },
  {
   "cell_type": "code",
   "execution_count": 60,
   "id": "b475625e-2699-4643-8e69-f8b991f10312",
   "metadata": {},
   "outputs": [
    {
     "data": {
      "text/plain": [
       "tuple"
      ]
     },
     "execution_count": 60,
     "metadata": {},
     "output_type": "execute_result"
    }
   ],
   "source": [
    "#example of tuple\n",
    "\n",
    "tup=(9,8,7,6,5)\n",
    "type(tup)"
   ]
  },
  {
   "cell_type": "code",
   "execution_count": 61,
   "id": "ff0249d8-4e30-4a24-9501-a6c81850d875",
   "metadata": {},
   "outputs": [
    {
     "data": {
      "text/plain": [
       "tuple"
      ]
     },
     "execution_count": 61,
     "metadata": {},
     "output_type": "execute_result"
    }
   ],
   "source": [
    "tup=('data',34.98,67,9)\n",
    "type(tup)"
   ]
  },
  {
   "cell_type": "code",
   "execution_count": 62,
   "id": "171b4b40-04fd-425f-b2b0-62253f94ae42",
   "metadata": {},
   "outputs": [
    {
     "data": {
      "text/plain": [
       "tuple"
      ]
     },
     "execution_count": 62,
     "metadata": {},
     "output_type": "execute_result"
    }
   ],
   "source": [
    "e=(2,3,4,5,12,3,4)\n",
    "type(e)"
   ]
  },
  {
   "cell_type": "code",
   "execution_count": 63,
   "id": "38fc176a-77c2-4c7c-89e8-92ffdd879996",
   "metadata": {},
   "outputs": [
    {
     "data": {
      "text/plain": [
       "tuple"
      ]
     },
     "execution_count": 63,
     "metadata": {},
     "output_type": "execute_result"
    }
   ],
   "source": [
    "u=('page',67.98,45+8j,5,99)\n",
    "type(u)"
   ]
  },
  {
   "cell_type": "code",
   "execution_count": 64,
   "id": "bd86fd7f-f9dc-4a0f-8b3f-d2f1516ed64c",
   "metadata": {},
   "outputs": [
    {
     "data": {
      "text/plain": [
       "tuple"
      ]
     },
     "execution_count": 64,
     "metadata": {},
     "output_type": "execute_result"
    }
   ],
   "source": [
    "r=(3,9,88,685,1.09,'store',22)\n",
    "type(r)"
   ]
  },
  {
   "cell_type": "code",
   "execution_count": 65,
   "id": "61f3006b-8540-4c8b-802a-d5e9d61afe15",
   "metadata": {},
   "outputs": [
    {
     "data": {
      "text/plain": [
       "78"
      ]
     },
     "execution_count": 65,
     "metadata": {},
     "output_type": "execute_result"
    }
   ],
   "source": [
    "tup=(745,225,7+45j,65,78)                        #positive index\n",
    "tup[4]"
   ]
  },
  {
   "cell_type": "code",
   "execution_count": 66,
   "id": "f47976b0-ebae-459f-9f69-d51cdc1bba59",
   "metadata": {},
   "outputs": [
    {
     "data": {
      "text/plain": [
       "(7+45j)"
      ]
     },
     "execution_count": 66,
     "metadata": {},
     "output_type": "execute_result"
    }
   ],
   "source": [
    "y=(34,67,43.8,4+7j,'first')                      # negetive index\n",
    "tup[-3]"
   ]
  },
  {
   "cell_type": "code",
   "execution_count": 67,
   "id": "6f10b250-269a-4fda-8c2c-21f54db70bb6",
   "metadata": {},
   "outputs": [
    {
     "data": {
      "text/plain": [
       "'dogg'"
      ]
     },
     "execution_count": 67,
     "metadata": {},
     "output_type": "execute_result"
    }
   ],
   "source": [
    "tup=('apple','string',56,8,9.07,'dogg')\n",
    "tup[5]                                              #positive index"
   ]
  },
  {
   "cell_type": "code",
   "execution_count": 68,
   "id": "b89b125a-4042-4639-bd2a-6b0298553704",
   "metadata": {},
   "outputs": [
    {
     "data": {
      "text/plain": [
       "677"
      ]
     },
     "execution_count": 68,
     "metadata": {},
     "output_type": "execute_result"
    }
   ],
   "source": [
    "tup=(2,3.901,6+6j,73,677,90)\n",
    "tup[4]                                             #positive index"
   ]
  },
  {
   "cell_type": "code",
   "execution_count": 69,
   "id": "ce3d9982-4174-4a11-b01f-e2c3570da854",
   "metadata": {},
   "outputs": [
    {
     "data": {
      "text/plain": [
       "90"
      ]
     },
     "execution_count": 69,
     "metadata": {},
     "output_type": "execute_result"
    }
   ],
   "source": [
    "tup[-1]                                       #negetive index"
   ]
  },
  {
   "cell_type": "code",
   "execution_count": 70,
   "id": "e237c42c-9f94-4e98-b944-7a6927f3385e",
   "metadata": {},
   "outputs": [
    {
     "data": {
      "text/plain": [
       "3.901"
      ]
     },
     "execution_count": 70,
     "metadata": {},
     "output_type": "execute_result"
    }
   ],
   "source": [
    "tup[-5]                                      #accesing the negetive index"
   ]
  },
  {
   "cell_type": "code",
   "execution_count": 71,
   "id": "d379d450-b6a3-4197-b067-ba581a44a666",
   "metadata": {},
   "outputs": [
    {
     "data": {
      "text/plain": [
       "tuple"
      ]
     },
     "execution_count": 71,
     "metadata": {},
     "output_type": "execute_result"
    }
   ],
   "source": [
    "word=('a','b','c','ball',3+5j,56.8,'bat')        #slicing index in type function\n",
    "type(word)"
   ]
  },
  {
   "cell_type": "code",
   "execution_count": 72,
   "id": "468d8e7a-94f2-4928-b605-14d8e9ca77cb",
   "metadata": {},
   "outputs": [
    {
     "data": {
      "text/plain": [
       "('c', 'ball', (3+5j), 56.8, 'bat')"
      ]
     },
     "execution_count": 72,
     "metadata": {},
     "output_type": "execute_result"
    }
   ],
   "source": [
    "word[2:]                                        #starting index"
   ]
  },
  {
   "cell_type": "code",
   "execution_count": 73,
   "id": "b56510dd-bf54-4459-b018-4e2bf08e18cd",
   "metadata": {},
   "outputs": [
    {
     "data": {
      "text/plain": [
       "('a', 'b', 'c', 'ball', (3+5j), 56.8, 'bat')"
      ]
     },
     "execution_count": 73,
     "metadata": {},
     "output_type": "execute_result"
    }
   ],
   "source": [
    "word[:]                                       #in index word of slicing "
   ]
  },
  {
   "cell_type": "code",
   "execution_count": 74,
   "id": "2c469d7e-9719-4f40-972f-bdeef3912a81",
   "metadata": {},
   "outputs": [
    {
     "data": {
      "text/plain": [
       "('a', 'b', 'c', 'ball')"
      ]
     },
     "execution_count": 74,
     "metadata": {},
     "output_type": "execute_result"
    }
   ],
   "source": [
    "word[:4]                                      # end index in slicing"
   ]
  },
  {
   "cell_type": "code",
   "execution_count": 75,
   "id": "8b83be12-af4b-4a38-9d99-0082e3f25d69",
   "metadata": {},
   "outputs": [
    {
     "data": {
      "text/plain": [
       "('c', 'ball')"
      ]
     },
     "execution_count": 75,
     "metadata": {},
     "output_type": "execute_result"
    }
   ],
   "source": [
    "word[2:4]                                   #start index into end index"
   ]
  },
  {
   "cell_type": "code",
   "execution_count": 76,
   "id": "f1870f51-1485-4ab8-ab54-24962c4cdbfd",
   "metadata": {},
   "outputs": [
    {
     "name": "stdout",
     "output_type": "stream",
     "text": [
      "['e', 't', 'rose', 'teks', 6.09, 56, 'flower']\n"
     ]
    }
   ],
   "source": [
    "word=('e','t','rose',67+3j,6.09,56,'flower')     #here we have to convert the tuple into list \n",
    "word=['e','t','rose',67+3j,6.09,56,'flower']     #and here converting into list \n",
    "word[3]=\"teks\"                                   #what value we want to removing and add the value \n",
    "print(word)"
   ]
  },
  {
   "cell_type": "code",
   "execution_count": 79,
   "id": "9869b726-2d65-4783-8a47-f3fff64f9a92",
   "metadata": {},
   "outputs": [
    {
     "name": "stdout",
     "output_type": "stream",
     "text": [
      "['e', 't', 'rose', 'teks', 6.09, 23, 'flower']\n"
     ]
    }
   ],
   "source": [
    "word[5]=23\n",
    "print(word)"
   ]
  },
  {
   "cell_type": "raw",
   "id": "1b780eee-85c5-4582-be2d-05a248b11802",
   "metadata": {},
   "source": [
    "# canceate\n",
    "*In tuple canceate same as index also.\n",
    "*Tuple add of two lists."
   ]
  },
  {
   "cell_type": "code",
   "execution_count": 80,
   "id": "8709d1f6-a5c1-4302-a278-589afce56dea",
   "metadata": {},
   "outputs": [
    {
     "name": "stdout",
     "output_type": "stream",
     "text": [
      "(2, 3, 41, 3, 5, 9, 75, 7, 8, 5, 4, 12, 9)\n"
     ]
    }
   ],
   "source": [
    "#example of canceate in tuple\n",
    "\n",
    "a1=(2,3,41,3,5,9)\n",
    "a2=(75,7,8,5,4,12,9)\n",
    "a3=a1+a2\n",
    "print(a3)"
   ]
  },
  {
   "cell_type": "code",
   "execution_count": 81,
   "id": "60a3c0df-9810-472b-ad6c-6a636d8aeff5",
   "metadata": {},
   "outputs": [
    {
     "name": "stdout",
     "output_type": "stream",
     "text": [
      "(75, 7, 8, 5, 4, 12, 9, 2, 3, 41, 3, 5, 9)\n"
     ]
    }
   ],
   "source": [
    "print(a2+a1)"
   ]
  },
  {
   "cell_type": "raw",
   "id": "997a7d80-0b88-467c-9c3b-12f0694b5300",
   "metadata": {},
   "source": [
    "# Repatation\n",
    "*In tuple same as index only and replace of item or element.\n",
    "*And replace as mutlipcation id list or tuple."
   ]
  },
  {
   "cell_type": "code",
   "execution_count": 83,
   "id": "3e1108cd-5a30-4ed5-9163-48bc3b1272d1",
   "metadata": {},
   "outputs": [
    {
     "data": {
      "text/plain": [
       "(2, 3, 41, 3, 5, 9, 2, 3, 41, 3, 5, 9, 2, 3, 41, 3, 5, 9)"
      ]
     },
     "execution_count": 83,
     "metadata": {},
     "output_type": "execute_result"
    }
   ],
   "source": [
    "a1*3"
   ]
  },
  {
   "cell_type": "code",
   "execution_count": 86,
   "id": "9039567a-2a94-4f60-b76b-8770964c18df",
   "metadata": {},
   "outputs": [
    {
     "data": {
      "text/plain": [
       "(75, 7, 8, 5, 4, 12, 9, 75, 7, 8, 5, 4, 12, 9)"
      ]
     },
     "execution_count": 86,
     "metadata": {},
     "output_type": "execute_result"
    }
   ],
   "source": [
    "a2*2"
   ]
  },
  {
   "cell_type": "code",
   "execution_count": 88,
   "id": "cba6cdf5-6eab-46bf-9a94-af3b1a7bab46",
   "metadata": {},
   "outputs": [
    {
     "data": {
      "text/plain": [
       "(2, 3, 41, 3, 5, 9, 75, 7, 8, 5, 4, 12, 9)"
      ]
     },
     "execution_count": 88,
     "metadata": {},
     "output_type": "execute_result"
    }
   ],
   "source": [
    "a3*1"
   ]
  },
  {
   "cell_type": "markdown",
   "id": "f984ae4c-de6f-4cd8-84f8-034ae338c815",
   "metadata": {},
   "source": [
    "# mutable and unmutable:\n",
    "*Here mutable in index is saifity the condition.\n",
    "*But in tuple is inmutable is not support to item or elements."
   ]
  },
  {
   "cell_type": "markdown",
   "id": "5fec3eb3-5dbd-4325-aab2-51de25f67a72",
   "metadata": {},
   "source": [
    "#function or methods in tuple:-\n",
    "\n",
    "*Python has two built-in methods that you can use on tuples\n",
    "*methods are using count() and index().\n",
    "*count() defined the returns the number of times a specifited value occurs in a tuple.\n",
    "*index() defined searches the tuple for a specified value and returns the positive of where it was found."
   ]
  },
  {
   "cell_type": "code",
   "execution_count": 94,
   "id": "5238a571-847e-45d9-bf81-f75762b17b20",
   "metadata": {},
   "outputs": [
    {
     "data": {
      "text/plain": [
       "4"
      ]
     },
     "execution_count": 94,
     "metadata": {},
     "output_type": "execute_result"
    }
   ],
   "source": [
    "#example of function of tuples\n",
    "\n",
    "#count()\n",
    "number=(1,2,3,4,5,9,8,7,2,3,34,56,1,2,3,7,11,981,4,3,2,)\n",
    "number.count(3)"
   ]
  },
  {
   "cell_type": "code",
   "execution_count": 95,
   "id": "53daedb1-63d9-4772-a8a7-210176c6ea3c",
   "metadata": {},
   "outputs": [
    {
     "data": {
      "text/plain": [
       "2"
      ]
     },
     "execution_count": 95,
     "metadata": {},
     "output_type": "execute_result"
    }
   ],
   "source": [
    "number.count(1)"
   ]
  },
  {
   "cell_type": "code",
   "execution_count": 96,
   "id": "0275e64e-528d-47ec-9f6d-fc4e19124973",
   "metadata": {},
   "outputs": [
    {
     "data": {
      "text/plain": [
       "2"
      ]
     },
     "execution_count": 96,
     "metadata": {},
     "output_type": "execute_result"
    }
   ],
   "source": [
    "number.count(4)"
   ]
  },
  {
   "cell_type": "code",
   "execution_count": 97,
   "id": "b31d2989-860a-4ec8-ae2c-bdbc278c9036",
   "metadata": {},
   "outputs": [
    {
     "data": {
      "text/plain": [
       "1"
      ]
     },
     "execution_count": 97,
     "metadata": {},
     "output_type": "execute_result"
    }
   ],
   "source": [
    "number.count(34)"
   ]
  },
  {
   "cell_type": "markdown",
   "id": "503a8d11-a037-43b1-bca8-303840f9e58d",
   "metadata": {},
   "source": [
    "# append , insert and remove in function:-\n",
    "\n",
    "*In tuple are unmutable condition so we can't applied to append , insert and removing method \n",
    "*Because once condition is satifiy again we can't changed and can't be insert any items."
   ]
  },
  {
   "cell_type": "code",
   "execution_count": 99,
   "id": "e3568b98-c485-4914-babc-f31f97154d6c",
   "metadata": {},
   "outputs": [
    {
     "data": {
      "text/plain": [
       "0"
      ]
     },
     "execution_count": 99,
     "metadata": {},
     "output_type": "execute_result"
    }
   ],
   "source": [
    "#example of fucntion of tuples \n",
    "\n",
    "#index()\n",
    "\n",
    "number=(4,5,6,8,'ring',6,8,78.09,4,2,6,5,78,98)\n",
    "number.index(4)"
   ]
  },
  {
   "cell_type": "code",
   "execution_count": 100,
   "id": "de516d27-ff69-42a4-a29f-ef0d97e44b99",
   "metadata": {},
   "outputs": [
    {
     "data": {
      "text/plain": [
       "4"
      ]
     },
     "execution_count": 100,
     "metadata": {},
     "output_type": "execute_result"
    }
   ],
   "source": [
    "number.index('ring')"
   ]
  },
  {
   "cell_type": "code",
   "execution_count": 101,
   "id": "42c7e73d-4fc9-4111-b2bd-e9f51e22c0a7",
   "metadata": {},
   "outputs": [
    {
     "data": {
      "text/plain": [
       "12"
      ]
     },
     "execution_count": 101,
     "metadata": {},
     "output_type": "execute_result"
    }
   ],
   "source": [
    "number.index(78)"
   ]
  },
  {
   "cell_type": "code",
   "execution_count": null,
   "id": "e30054fe-90a5-44e4-89aa-d54d0033d956",
   "metadata": {},
   "outputs": [],
   "source": []
  }
 ],
 "metadata": {
  "kernelspec": {
   "display_name": "Python 3 (ipykernel)",
   "language": "python",
   "name": "python3"
  },
  "language_info": {
   "codemirror_mode": {
    "name": "ipython",
    "version": 3
   },
   "file_extension": ".py",
   "mimetype": "text/x-python",
   "name": "python",
   "nbconvert_exporter": "python",
   "pygments_lexer": "ipython3",
   "version": "3.12.4"
  }
 },
 "nbformat": 4,
 "nbformat_minor": 5
}
