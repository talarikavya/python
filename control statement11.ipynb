{
 "cells": [
  {
   "cell_type": "markdown",
   "id": "8d2e5aae-cbc6-478f-9f1a-2f5b437a9511",
   "metadata": {},
   "source": [
    "# CONTROL STATEMENT:"
   ]
  },
  {
   "cell_type": "markdown",
   "id": "47e5c5d2-5811-4f40-ade8-82f54f8c577d",
   "metadata": {},
   "source": [
    "Control flow statements are fundamental components of programming languages that allow developers to control the order in which instructions are executed in a program. They enable execution of a block of code multiple times, execute a block of code based on conditions, terminate or skip the execution of certain lines of code, etc.\n",
    "Control flow as three statement there are pass,contiune and break statement"
   ]
  },
  {
   "cell_type": "markdown",
   "id": "8fe13323-ea2f-45c3-b3c7-689bcf3d91e4",
   "metadata": {},
   "source": [
    "# PASS STATEMENT:\n",
    "The pass statement is python is used when a statement is requried syntactically but you do not want any command or code to execute.\n",
    "The pass statement is a null operation,nothing happens when its executes.\n",
    "If pass is also useful in places where your code will eventally go,but has not been wrttien yet,"
   ]
  },
  {
   "cell_type": "code",
   "execution_count": 1,
   "id": "28185663-9365-4094-9fc3-73f396fe5f06",
   "metadata": {},
   "outputs": [
    {
     "name": "stdout",
     "output_type": "stream",
     "text": [
      "1 odd numbers\n",
      "2 even numbers\n",
      "3 odd numbers\n",
      "4 even numbers\n",
      "5 odd numbers\n",
      "6 even numbers\n",
      "7 odd numbers\n",
      "8 even numbers\n",
      "9 odd numbers\n",
      "10 even numbers\n",
      "11 odd numbers\n",
      "12 even numbers\n",
      "13 odd numbers\n",
      "14 even numbers\n"
     ]
    }
   ],
   "source": [
    "#control statement example\n",
    "\n",
    "for i in range(1,15):\n",
    "    if i % 2== 0:\n",
    "        print(i,\"even numbers\")\n",
    "    else:\n",
    "        print(i,\"odd numbers\")"
   ]
  },
  {
   "cell_type": "code",
   "execution_count": 14,
   "id": "46c04316-b465-4802-ad68-759d6db5f775",
   "metadata": {},
   "outputs": [
    {
     "name": "stdout",
     "output_type": "stream",
     "text": [
      "208 leaf year\n",
      "2009 not leaf year\n",
      "2010 not leaf year\n",
      "2011 not leaf year\n",
      "2012 leaf year\n",
      "2013 not leaf year\n",
      "2014 not leaf year\n",
      "2015 not leaf year\n",
      "2016 leaf year\n",
      "2017 not leaf year\n",
      "2018 not leaf year\n",
      "2019 not leaf year\n",
      "2020 leaf year\n"
     ]
    }
   ],
   "source": [
    "y = [208,2009,2010,2011,2012,2013,2014,2015,2016,2017,2018,2019,2020]\n",
    "\n",
    "for i in y:\n",
    "    if i % 4 ==0 and i % 100 != 0 or i % 400 == 0:\n",
    "        print(i,\"leaf year\")\n",
    "    else:\n",
    "        print(i,\"not leaf year\")"
   ]
  },
  {
   "cell_type": "code",
   "execution_count": 18,
   "id": "403e2338-cedb-48cc-839a-88b1275cadcb",
   "metadata": {},
   "outputs": [
    {
     "name": "stdout",
     "output_type": "stream",
     "text": [
      "1\n",
      "2\n",
      "3\n",
      "4\n",
      "5\n",
      "6\n",
      "7\n",
      "8\n",
      "9\n"
     ]
    }
   ],
   "source": [
    "#pass statement example\n",
    "for i in range(1,10):\n",
    "    i == 4\n",
    "    pass\n",
    "    print(i)"
   ]
  },
  {
   "cell_type": "code",
   "execution_count": 20,
   "id": "d937db29-e932-493e-9abf-3382f81744e9",
   "metadata": {},
   "outputs": [
    {
     "name": "stdout",
     "output_type": "stream",
     "text": [
      "0\n",
      "1\n",
      "2\n",
      "3\n",
      "4\n",
      "5\n",
      "6\n",
      "7\n",
      "8\n",
      "9\n",
      "10\n",
      "11\n",
      "12\n",
      "13\n",
      "14\n",
      "15\n",
      "16\n",
      "17\n",
      "18\n",
      "19\n",
      "20\n"
     ]
    }
   ],
   "source": [
    "for i in range(0,21):\n",
    "    i == 15\n",
    "    pass\n",
    "    print(i)"
   ]
  },
  {
   "cell_type": "markdown",
   "id": "1bcb58a5-6548-469c-a4db-774189ce452a",
   "metadata": {},
   "source": [
    "# CONTIUNE STATEMENT:\n",
    "Python Continue Statement skips the execution of the program block after the continue statement and forces the control to start the next iteration.\n",
    "Python Continue statement is a loop control statement that forces to execute the next iteration of the loop while skipping the rest of the code inside the loop for the current iteration only.when the continue statement is executed in the loop, the code inside the loop following the continue statement will be skipped for the current iteration and the next iteration of the loop will begin.\r\n"
   ]
  },
  {
   "cell_type": "code",
   "execution_count": 22,
   "id": "f118681d-b3ba-4ae6-b39e-d4a8e31860d1",
   "metadata": {},
   "outputs": [
    {
     "name": "stdout",
     "output_type": "stream",
     "text": [
      "t\n",
      "a\n",
      "l\n",
      "a\n",
      "r\n",
      " \n",
      "k\n",
      "a\n",
      "v\n",
      "y\n",
      "a\n"
     ]
    }
   ],
   "source": [
    "#example of contiune statement\n",
    "\n",
    "for o in \"talari kavya\":\n",
    "    if o == \"i\":\n",
    "        continue\n",
    "    print(o)"
   ]
  },
  {
   "cell_type": "code",
   "execution_count": 4,
   "id": "ff3c9742-441b-465e-ba1f-65e91c4a519b",
   "metadata": {},
   "outputs": [
    {
     "name": "stdout",
     "output_type": "stream",
     "text": [
      "0\n",
      "1\n",
      "2\n",
      "3\n",
      "4\n",
      "5\n",
      "6\n",
      "7\n",
      "8\n",
      "9\n",
      "10\n",
      "11\n",
      "12\n",
      "13\n",
      "14\n",
      "15\n",
      "16\n",
      "17\n",
      "18\n",
      "19\n"
     ]
    }
   ],
   "source": [
    "for i in range(0,20):\n",
    "    if i == \"i\":\n",
    "        continue\n",
    "    print(i)"
   ]
  },
  {
   "cell_type": "markdown",
   "id": "7bb2b8c3-f79f-4714-97cc-7f2c2d93d90a",
   "metadata": {},
   "source": [
    "# BREAK STATEMENT:\n",
    "break statement in Python is used to bring the control out of the loop when some external condition is triggered. break statement is put inside the loop body (generally after if condition).  It terminates the current loop, i.e., the loop in which it appears, and resumes execution at the next statement immediately after the end of that loop. If the break statement is inside a nested loop, the break will terminate the innermost loop.\r\n"
   ]
  },
  {
   "cell_type": "code",
   "execution_count": 17,
   "id": "c2b9e941-bdf5-4849-b964-d5e200f23b51",
   "metadata": {},
   "outputs": [
    {
     "name": "stdout",
     "output_type": "stream",
     "text": [
      "0\n",
      "1\n",
      "2\n",
      "3\n",
      "4\n",
      "5\n",
      "6\n",
      "7\n",
      "8\n",
      "9\n",
      "10\n",
      "11\n",
      "12\n"
     ]
    }
   ],
   "source": [
    "#example of break \n",
    "for i in range(0,15):\n",
    "    if i == 13:\n",
    "        break\n",
    "    print(i)"
   ]
  },
  {
   "cell_type": "code",
   "execution_count": 15,
   "id": "c38fa32b-fb31-4aea-9b4c-6cfa08a0b81d",
   "metadata": {},
   "outputs": [
    {
     "name": "stdout",
     "output_type": "stream",
     "text": [
      "t\n",
      "a\n",
      "l\n",
      "a\n",
      "r\n"
     ]
    }
   ],
   "source": [
    "for o in \"talari kavya\":\n",
    "    if o == \"i\":\n",
    "        break\n",
    "    print(o)"
   ]
  },
  {
   "cell_type": "code",
   "execution_count": 22,
   "id": "ec361a05-5d19-4ed9-8f87-9ef2c1dadd50",
   "metadata": {},
   "outputs": [
    {
     "name": "stdout",
     "output_type": "stream",
     "text": [
      "h\n",
      "e\n",
      "l\n",
      "l\n",
      "o\n",
      " \n",
      "w\n",
      "o\n"
     ]
    }
   ],
   "source": [
    "for o in \"hello world\":\n",
    "    if o == \"r\":\n",
    "        break\n",
    "    print(o)"
   ]
  },
  {
   "cell_type": "code",
   "execution_count": null,
   "id": "e9888722-4fca-4011-8286-a5c866674fc9",
   "metadata": {},
   "outputs": [],
   "source": []
  }
 ],
 "metadata": {
  "kernelspec": {
   "display_name": "Python 3 (ipykernel)",
   "language": "python",
   "name": "python3"
  },
  "language_info": {
   "codemirror_mode": {
    "name": "ipython",
    "version": 3
   },
   "file_extension": ".py",
   "mimetype": "text/x-python",
   "name": "python",
   "nbconvert_exporter": "python",
   "pygments_lexer": "ipython3",
   "version": "3.12.4"
  }
 },
 "nbformat": 4,
 "nbformat_minor": 5
}
