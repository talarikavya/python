{
 "cells": [
  {
   "cell_type": "code",
   "execution_count": 1,
   "id": "487433b2-4dc6-4c07-8bbc-28e8da300a3e",
   "metadata": {},
   "outputs": [
    {
     "name": "stdout",
     "output_type": "stream",
     "text": [
      "hello world\n"
     ]
    }
   ],
   "source": [
    "#write a python program to print hello world \n",
    "\n",
    "txt = \"hello world\"\n",
    "print(txt)"
   ]
  },
  {
   "cell_type": "code",
   "execution_count": 4,
   "id": "21ecaacf-e56b-42d8-b053-228261fb5fdd",
   "metadata": {},
   "outputs": [
    {
     "name": "stdout",
     "output_type": "stream",
     "text": [
      "(1, 2, 3, 4, 5, 6, 4, 2, 4, 5, 7, 6, 4, 2)\n"
     ]
    }
   ],
   "source": [
    "#write a python program to calculate sum of numbers\n",
    "\n",
    "numb1 = (1,2,3,4,5,6)\n",
    "numb2 = (4,2,4,5,7,6,4,2)\n",
    "s = numb1 + numb2\n",
    "print(s)"
   ]
  },
  {
   "cell_type": "code",
   "execution_count": 7,
   "id": "7b24031f-f24e-42f3-952b-74faf4861ca0",
   "metadata": {},
   "outputs": [
    {
     "name": "stdout",
     "output_type": "stream",
     "text": [
      "kavya 21 75.9\n"
     ]
    }
   ],
   "source": [
    "#create a variables for string a preson name,age and average score\n",
    "\n",
    "name = \"kavya\"\n",
    "age = '21'\n",
    "score = '75.9'\n",
    "print(name,age,score)"
   ]
  },
  {
   "cell_type": "code",
   "execution_count": 9,
   "id": "4d3136df-1277-4eb9-aa03-e526a37e0b62",
   "metadata": {},
   "outputs": [
    {
     "name": "stdout",
     "output_type": "stream",
     "text": [
      "navya\n",
      "30\n",
      "76.8\n"
     ]
    }
   ],
   "source": [
    "name,age,score = 'navya','30','76.8'\n",
    "print(name)\n",
    "print(age)\n",
    "print(score)"
   ]
  },
  {
   "cell_type": "code",
   "execution_count": 11,
   "id": "ba19c65f-e990-4f74-a279-95fcc287ebf6",
   "metadata": {},
   "outputs": [
    {
     "name": "stdout",
     "output_type": "stream",
     "text": [
      "kavyatalari\n"
     ]
    }
   ],
   "source": [
    "#write a python program to concatenate two strings\n",
    "\n",
    "a = 'kavya'\n",
    "b = 'talari'\n",
    "c = a + b\n",
    "print(c)"
   ]
  },
  {
   "cell_type": "code",
   "execution_count": 19,
   "id": "c9a31fdb-e7ea-4ca0-b6df-be23c3d2db86",
   "metadata": {},
   "outputs": [
    {
     "name": "stdout",
     "output_type": "stream",
     "text": [
      "['beetroot', 'tomato', 'potato', 'mushroom']\n"
     ]
    }
   ],
   "source": [
    "#create a list of vegtable and access then index\n",
    "\n",
    "lst = ['carrot','beetroot','tomato','potato','mushroom','green pea']\n",
    "print(lst[1:5])      # here we using the slicing index"
   ]
  },
  {
   "cell_type": "code",
   "execution_count": 15,
   "id": "f9ade9af-f3e9-4cf8-a3a1-d55a1137f6ac",
   "metadata": {},
   "outputs": [
    {
     "name": "stdout",
     "output_type": "stream",
     "text": [
      "40.0\n",
      "24.7\n"
     ]
    }
   ],
   "source": [
    "#convert the temperture from celsius to overheating country\n",
    "overheated = 40\n",
    "temp_celsius =24.7\n",
    "print(float(overheated))    # here we using float data types\n",
    "print(temp_celsius)"
   ]
  },
  {
   "cell_type": "code",
   "execution_count": 16,
   "id": "e77bd275-c036-4265-bbb5-c7f1943cc5e0",
   "metadata": {},
   "outputs": [
    {
     "name": "stdout",
     "output_type": "stream",
     "text": [
      "513.5\n"
     ]
    }
   ],
   "source": [
    "#write python program to calculate area of triangle by length and breadth\n",
    "\n",
    "a = 230\n",
    "b = 567\n",
    "t = a + b /2   #here triangle formalu's\n",
    "print(t)"
   ]
  },
  {
   "cell_type": "code",
   "execution_count": 17,
   "id": "99f24d62-577f-49d6-bef2-bd2c4a0fc51c",
   "metadata": {},
   "outputs": [
    {
     "name": "stdout",
     "output_type": "stream",
     "text": [
      "3\n"
     ]
    }
   ],
   "source": [
    "#create list with number idenity from which is minimum numbers\n",
    "\n",
    "l = ['1','2','3','9','6','7','8']\n",
    "smallest = min('l','3','8')\n",
    "print(smallest)"
   ]
  },
  {
   "cell_type": "code",
   "execution_count": 18,
   "id": "4a09fb0f-fcce-45ea-9323-81b196bad346",
   "metadata": {},
   "outputs": [
    {
     "name": "stdout",
     "output_type": "stream",
     "text": [
      "2 Is Even Number\n"
     ]
    }
   ],
   "source": [
    "#write a python program to check if numbers even condition from even numbers\n",
    "\n",
    "x = 2\n",
    "x % 2 == 0            # here evenby usingthe modulus operator % .(number %2  ==0)\n",
    "print(x,\"Is Even Number\")"
   ]
  },
  {
   "cell_type": "code",
   "execution_count": 5,
   "id": "7c1e61eb-8aae-4ab8-ad18-c821f5dc7c7b",
   "metadata": {},
   "outputs": [
    {
     "data": {
      "text/plain": [
       "True"
      ]
     },
     "execution_count": 5,
     "metadata": {},
     "output_type": "execute_result"
    }
   ],
   "source": [
    "#write a python program if given string is concatenate only numbers\n",
    "\n",
    "txt = '1089'\n",
    "a = txt.isdigit()\n",
    "a"
   ]
  },
  {
   "cell_type": "code",
   "execution_count": 6,
   "id": "d2e117fb-3bff-4ba6-bc3a-d7e88c1d7553",
   "metadata": {},
   "outputs": [
    {
     "data": {
      "text/plain": [
       "False"
      ]
     },
     "execution_count": 6,
     "metadata": {},
     "output_type": "execute_result"
    }
   ],
   "source": [
    "txt ='does'\n",
    "s = txt.isdigit()\n",
    "s"
   ]
  },
  {
   "cell_type": "code",
   "execution_count": null,
   "id": "6140a7b0-9feb-4fa4-a81f-3134b2f05852",
   "metadata": {},
   "outputs": [],
   "source": []
  }
 ],
 "metadata": {
  "kernelspec": {
   "display_name": "Python 3 (ipykernel)",
   "language": "python",
   "name": "python3"
  },
  "language_info": {
   "codemirror_mode": {
    "name": "ipython",
    "version": 3
   },
   "file_extension": ".py",
   "mimetype": "text/x-python",
   "name": "python",
   "nbconvert_exporter": "python",
   "pygments_lexer": "ipython3",
   "version": "3.12.4"
  }
 },
 "nbformat": 4,
 "nbformat_minor": 5
}
