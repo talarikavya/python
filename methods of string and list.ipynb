{
 "cells": [
  {
   "cell_type": "markdown",
   "id": "76f66ec2-fdf8-4908-958e-84b2441e0764",
   "metadata": {},
   "source": [
    "# LIST METHODS"
   ]
  },
  {
   "cell_type": "code",
   "execution_count": 3,
   "id": "a4c4bc31-c0cc-49e3-b588-4ccc9776b655",
   "metadata": {},
   "outputs": [
    {
     "name": "stdout",
     "output_type": "stream",
     "text": [
      "[]\n"
     ]
    }
   ],
   "source": [
    "#clear() : Removes all the elements from the list. syntax : list.clear()\n",
    "#example of clear()\n",
    "\n",
    "colours = ['yellow', 'red', 'blue', 'green', 'white' ]\n",
    "colours.clear()\n",
    "print(colours)"
   ]
  },
  {
   "cell_type": "code",
   "execution_count": 4,
   "id": "02f230d2-d5e0-45ef-9926-68d4bfd0a61c",
   "metadata": {},
   "outputs": [
    {
     "name": "stdout",
     "output_type": "stream",
     "text": [
      "['yellow', 'red', 'blue', 'green', 'white']\n"
     ]
    }
   ],
   "source": [
    "#copy() : Returns a copy of the list\n",
    "#example of copy()\n",
    "\n",
    "colours = ['yellow', 'red', 'blue', 'green', 'white' ]\n",
    "colours.copy()\n",
    "print(colours)"
   ]
  },
  {
   "cell_type": "code",
   "execution_count": 8,
   "id": "9eac5bdd-2fe2-439a-b972-ad7ac155e596",
   "metadata": {},
   "outputs": [
    {
     "data": {
      "text/plain": [
       "1"
      ]
     },
     "execution_count": 8,
     "metadata": {},
     "output_type": "execute_result"
    }
   ],
   "source": [
    "#count() : Returns the number of elements with the specified value\n",
    "\n",
    "colours = ['yellow', 'red', 'blue', 'green', 'white' ]\n",
    "colours.count('yellow')"
   ]
  },
  {
   "cell_type": "code",
   "execution_count": 12,
   "id": "5a8da824-1cf8-445a-a29b-07cc3eb34035",
   "metadata": {},
   "outputs": [
    {
     "name": "stdout",
     "output_type": "stream",
     "text": [
      "['yellow', 'red', 'blue', 'green', 'white', 'r', 'e', 'd']\n"
     ]
    }
   ],
   "source": [
    "#extend() : Add the elements of a list (or any iterable), to the end of the current list\n",
    "\n",
    "colours = ['yellow', 'red', 'blue', 'green', 'white' ]\n",
    "colours.extend('red')\n",
    "print(colours)"
   ]
  },
  {
   "cell_type": "code",
   "execution_count": 19,
   "id": "18242d2d-fd53-4e41-8e0f-63030116f972",
   "metadata": {},
   "outputs": [
    {
     "data": {
      "text/plain": [
       "'white'"
      ]
     },
     "execution_count": 19,
     "metadata": {},
     "output_type": "execute_result"
    }
   ],
   "source": [
    "#pop : Removes the element at the specified position\n",
    "\n",
    "colours = ['yellow', 'red', 'blue', 'green', 'white' ]\n",
    "colours.pop()"
   ]
  },
  {
   "cell_type": "code",
   "execution_count": 24,
   "id": "29a02703-11ec-46ed-91c6-0baff7f24835",
   "metadata": {},
   "outputs": [
    {
     "name": "stdout",
     "output_type": "stream",
     "text": [
      "['white', 'green', 'blue', 'red', 'yellow']\n"
     ]
    }
   ],
   "source": [
    "#reverse() : Reverses the order of the list\n",
    "\n",
    "colours = ['yellow', 'red', 'blue', 'green', 'white' ]\n",
    "colours.reverse()\n",
    "print(colours)"
   ]
  },
  {
   "cell_type": "markdown",
   "id": "5b5e3ae1-160f-4ba6-9833-822602b2edbe",
   "metadata": {},
   "source": [
    "# STRING METHODS"
   ]
  },
  {
   "cell_type": "code",
   "execution_count": 26,
   "id": "84cdbc5b-ccd9-4855-bb41-053289c892b8",
   "metadata": {},
   "outputs": [
    {
     "data": {
      "text/plain": [
       "'Am i doing pratice right now'"
      ]
     },
     "execution_count": 26,
     "metadata": {},
     "output_type": "execute_result"
    }
   ],
   "source": [
    "#capitalize() : Converts the first character to upper case\n",
    "\n",
    "word='am i doing pratice right now'\n",
    "word.capitalize()"
   ]
  },
  {
   "cell_type": "code",
   "execution_count": 29,
   "id": "a7d2790e-8fda-4fa4-b611-1935e53dfc1c",
   "metadata": {},
   "outputs": [
    {
     "name": "stdout",
     "output_type": "stream",
     "text": [
      "am i doing pratice right now\n"
     ]
    }
   ],
   "source": [
    "#casefold() : Converts string into lower case\n",
    "\n",
    "word = \"AM I DOING PRATICE RIGHT NOW\"\n",
    "x = word.casefold()\n",
    "print(x)"
   ]
  },
  {
   "cell_type": "code",
   "execution_count": 31,
   "id": "6a03fb71-7f5d-4ef4-9c1a-6be31adcf3f5",
   "metadata": {},
   "outputs": [
    {
     "name": "stdout",
     "output_type": "stream",
     "text": [
      "           pratice            \n"
     ]
    }
   ],
   "source": [
    "#center() : Returns a centered string\n",
    "\n",
    "word = \" pratice \"\n",
    "x = word.center(30)\n",
    "print(x)"
   ]
  },
  {
   "cell_type": "code",
   "execution_count": 35,
   "id": "b4c11ce4-e413-492b-92a8-8f3aa2a1bf7b",
   "metadata": {},
   "outputs": [
    {
     "name": "stdout",
     "output_type": "stream",
     "text": [
      "2\n"
     ]
    }
   ],
   "source": [
    "#count() : Returns the number of times a specified value occurs in a string\n",
    "\n",
    "word = \" i love travelling, travelling find the peace. \"\n",
    "x = word.count('travelling')\n",
    "print(x)"
   ]
  },
  {
   "cell_type": "code",
   "execution_count": 36,
   "id": "de9d09f4-e4d6-43d9-8ec5-8b324e2dd438",
   "metadata": {},
   "outputs": [
    {
     "name": "stdout",
     "output_type": "stream",
     "text": [
      "b'my name is kavya'\n"
     ]
    }
   ],
   "source": [
    "#uncode() : Returns an encoded version of the string\n",
    "\n",
    "txt = 'my name is kavya'\n",
    "x = txt.encode()\n",
    "print(x)"
   ]
  },
  {
   "cell_type": "code",
   "execution_count": 37,
   "id": "827dc649-76b7-4762-b7a9-bcee41a9a75d",
   "metadata": {},
   "outputs": [
    {
     "name": "stdout",
     "output_type": "stream",
     "text": [
      "False\n"
     ]
    }
   ],
   "source": [
    "#endswith() : Returns true if the string ends with the specified value\n",
    "\n",
    "word = \" i love travelling, travelling find the peace. \"\n",
    "y = word.endswith(\".\")\n",
    "print(y)"
   ]
  },
  {
   "cell_type": "code",
   "execution_count": 40,
   "id": "2a71788f-c60f-40e6-91f7-3344a0f9f37b",
   "metadata": {},
   "outputs": [
    {
     "name": "stdout",
     "output_type": "stream",
     "text": [
      "H       e       l       l       o\n"
     ]
    }
   ],
   "source": [
    "#expandtabs() : Sets the tab size of the string\n",
    "\n",
    "txt = \"H\\te\\tl\\tl\\to\"\n",
    "y = txt.expandtabs()\n",
    "print(y)"
   ]
  },
  {
   "cell_type": "code",
   "execution_count": 41,
   "id": "415efc11-be99-4eae-a89a-9ebf2b9fb896",
   "metadata": {},
   "outputs": [
    {
     "name": "stdout",
     "output_type": "stream",
     "text": [
      "21\n"
     ]
    }
   ],
   "source": [
    "#find() : Searches the string for a specified value and returns the position of where it was found\n",
    "\n",
    "txt = \"Hello, welcome to my world.\"\n",
    "a = txt.find(\"world\")\n",
    "print(a)"
   ]
  },
  {
   "cell_type": "code",
   "execution_count": 52,
   "id": "f7e273d7-0a6e-45a1-b7fd-afda870d5085",
   "metadata": {},
   "outputs": [
    {
     "name": "stdout",
     "output_type": "stream",
     "text": [
      "('My name is kavya', 'i am 21')\n"
     ]
    }
   ],
   "source": [
    "#format() : Formats specified values in a string\n",
    "\n",
    "txt = \"My name is kavya\", \"i am 21\".format('kavya',21)\n",
    "print(txt)"
   ]
  },
  {
   "cell_type": "code",
   "execution_count": 53,
   "id": "4e2b4696-bfa6-4be6-9011-06b07e00facc",
   "metadata": {},
   "outputs": [
    {
     "name": "stdout",
     "output_type": "stream",
     "text": [
      "Hello, welcome to my world.\n"
     ]
    }
   ],
   "source": [
    "#format_map() : Formats specified values in a string\n",
    "\n",
    "txt = \"Hello, welcome to my world.\"\n",
    "a = txt.format_map('world')\n",
    "print(a)"
   ]
  },
  {
   "cell_type": "code",
   "execution_count": 55,
   "id": "dfb347fb-9f48-42cc-96bc-831fc365811e",
   "metadata": {},
   "outputs": [
    {
     "name": "stdout",
     "output_type": "stream",
     "text": [
      "21\n"
     ]
    }
   ],
   "source": [
    "#index() : Searches the string for a specified value and returns the position of where it was found\n",
    "\n",
    "txt = \"Hello, welcome to my world.\"\n",
    "a = txt.index('world')\n",
    "print(a)"
   ]
  },
  {
   "cell_type": "code",
   "execution_count": 56,
   "id": "cd51de97-21fa-4913-8cbf-bef29d8499e8",
   "metadata": {},
   "outputs": [
    {
     "name": "stdout",
     "output_type": "stream",
     "text": [
      "True\n"
     ]
    }
   ],
   "source": [
    "#isalnum() : Returns True if all characters in the string are alphanumeric\n",
    "\n",
    "txt = \"welcome\"\n",
    "x = txt.isalnum()\n",
    "print(x)"
   ]
  },
  {
   "cell_type": "code",
   "execution_count": 60,
   "id": "dfb9d5f4-926b-4935-85f9-fba2c9691fa1",
   "metadata": {},
   "outputs": [
    {
     "name": "stdout",
     "output_type": "stream",
     "text": [
      "True\n"
     ]
    }
   ],
   "source": [
    "#isalpha() : txt = \"Hello, welcome to my world.\"\n",
    "\n",
    "txt = \"world\"\n",
    "x = txt.isalpha()\n",
    "print(x)"
   ]
  },
  {
   "cell_type": "code",
   "execution_count": 63,
   "id": "205cca05-22af-4ea7-90cb-1c826ac37779",
   "metadata": {},
   "outputs": [
    {
     "name": "stdout",
     "output_type": "stream",
     "text": [
      "True\n"
     ]
    }
   ],
   "source": [
    "#isascii : Returns True if all characters in the string are ascii characters\n",
    "\n",
    "txt = '2333'\n",
    "y = txt.isascii()\n",
    "print(y)"
   ]
  },
  {
   "cell_type": "code",
   "execution_count": 64,
   "id": "1e63479d-d0f5-477e-83fb-d55f279403da",
   "metadata": {},
   "outputs": [
    {
     "name": "stdout",
     "output_type": "stream",
     "text": [
      "False\n"
     ]
    }
   ],
   "source": [
    "#isdecimal() : Returns True if all characters in the string are decimals\n",
    "\n",
    "txt = \"world\"\n",
    "x = txt.isdecimal()\n",
    "print(x)"
   ]
  },
  {
   "cell_type": "code",
   "execution_count": 65,
   "id": "9df86750-1c71-461a-b5d0-57245709ad55",
   "metadata": {},
   "outputs": [
    {
     "name": "stdout",
     "output_type": "stream",
     "text": [
      "True\n"
     ]
    }
   ],
   "source": [
    "txt = '322256'\n",
    "y = txt.isdecimal()\n",
    "print(y)"
   ]
  },
  {
   "cell_type": "code",
   "execution_count": 66,
   "id": "b9ae6115-0873-442d-8d7f-f9f9425d5dda",
   "metadata": {},
   "outputs": [
    {
     "name": "stdout",
     "output_type": "stream",
     "text": [
      "True\n"
     ]
    }
   ],
   "source": [
    "#isdigit() : Returns True if all characters in the string are digits\n",
    "\n",
    "txt = '5426562'\n",
    "x = txt.isdigit()\n",
    "print(x)"
   ]
  },
  {
   "cell_type": "code",
   "execution_count": 69,
   "id": "d03a706f-f6b4-460e-b0bd-19f8502d0341",
   "metadata": {},
   "outputs": [
    {
     "name": "stdout",
     "output_type": "stream",
     "text": [
      "True\n"
     ]
    }
   ],
   "source": [
    "#isidentifier : Returns True if the string is an identifier\n",
    "\n",
    "txt = \"welcome\"\n",
    "x = txt.isidentifier()\n",
    "print(x)"
   ]
  },
  {
   "cell_type": "code",
   "execution_count": 70,
   "id": "647b59ef-4a09-4435-ab42-38452bdd59af",
   "metadata": {},
   "outputs": [
    {
     "name": "stdout",
     "output_type": "stream",
     "text": [
      "True\n"
     ]
    }
   ],
   "source": [
    "#islower() : Returns True if all characters in the string are lower case\n",
    "\n",
    "txt = \" data science \"\n",
    "x = txt.islower()\n",
    "print(x)"
   ]
  },
  {
   "cell_type": "code",
   "execution_count": 71,
   "id": "ca3cb30b-7c5d-405f-8dcd-7a13b4b70598",
   "metadata": {},
   "outputs": [
    {
     "name": "stdout",
     "output_type": "stream",
     "text": [
      "True\n"
     ]
    }
   ],
   "source": [
    "#isnumeric() : Returns True if all characters in the string are numeric\n",
    "\n",
    "txt = '8379127'\n",
    "x = txt.isnumeric()\n",
    "print(x)"
   ]
  },
  {
   "cell_type": "code",
   "execution_count": 73,
   "id": "37d95937-439b-41d3-ae74-9a649e314064",
   "metadata": {},
   "outputs": [
    {
     "name": "stdout",
     "output_type": "stream",
     "text": [
      "True\n"
     ]
    }
   ],
   "source": [
    "#isprintable() : Returns True if all characters in the string are printable\n",
    "\n",
    "t = 'world'\n",
    "x = t.isprintable()\n",
    "print(x)"
   ]
  },
  {
   "cell_type": "code",
   "execution_count": 74,
   "id": "aa2b0719-a93c-41c8-a440-7e6e695df14b",
   "metadata": {},
   "outputs": [
    {
     "name": "stdout",
     "output_type": "stream",
     "text": [
      "True\n"
     ]
    }
   ],
   "source": [
    "y = txt.isprintable()\n",
    "print(y)"
   ]
  },
  {
   "cell_type": "code",
   "execution_count": 75,
   "id": "3c7e810e-05a1-4d6c-9ae4-fa3a6b0b0c1d",
   "metadata": {},
   "outputs": [
    {
     "name": "stdout",
     "output_type": "stream",
     "text": [
      "False\n"
     ]
    }
   ],
   "source": [
    "#isspace() : Returns True if all characters in the string are whitespaces\n",
    "\n",
    "txt = ' world '\n",
    "x = txt.isspace()\n",
    "print(x)"
   ]
  },
  {
   "cell_type": "code",
   "execution_count": 76,
   "id": "95b2d472-47de-4ebb-aaa8-230ba4ad02cb",
   "metadata": {},
   "outputs": [
    {
     "name": "stdout",
     "output_type": "stream",
     "text": [
      "True\n"
     ]
    }
   ],
   "source": [
    "txt = \"     \"\n",
    "y = txt.isspace()\n",
    "print(y)"
   ]
  },
  {
   "cell_type": "code",
   "execution_count": 77,
   "id": "f2757174-855b-4daa-aacb-bd815bcb304b",
   "metadata": {},
   "outputs": [
    {
     "name": "stdout",
     "output_type": "stream",
     "text": [
      "False\n"
     ]
    }
   ],
   "source": [
    "#istitle : Returns True if the string follows the rules of a title\n",
    "\n",
    "txt = 'WELCOME'\n",
    "y = txt.istitle()\n",
    "print(y)"
   ]
  },
  {
   "cell_type": "code",
   "execution_count": 78,
   "id": "7f0a950d-8ef3-4787-a5de-3a8fc5a404b9",
   "metadata": {},
   "outputs": [
    {
     "name": "stdout",
     "output_type": "stream",
     "text": [
      "True\n"
     ]
    }
   ],
   "source": [
    "#isupper : Returns True if all characters in the string are upper case\n",
    "\n",
    "txt = ' THIS IS ERROR '\n",
    "x = txt.isupper()\n",
    "print(x)"
   ]
  },
  {
   "cell_type": "code",
   "execution_count": 82,
   "id": "c455868c-1a41-498d-81e8-1de6050f2b9a",
   "metadata": {},
   "outputs": [
    {
     "name": "stdout",
     "output_type": "stream",
     "text": [
      "mother # father # sister # brother\n"
     ]
    }
   ],
   "source": [
    "#join() : Joins the elements of an iterable to the end of the string\n",
    "\n",
    "txt = 'mother','father','sister','brother'\n",
    "x = \" # \".join(txt)\n",
    "print(x)"
   ]
  },
  {
   "cell_type": "code",
   "execution_count": 84,
   "id": "f8d76035-9d9e-4e59-b952-77512eb734db",
   "metadata": {},
   "outputs": [
    {
     "name": "stdout",
     "output_type": "stream",
     "text": [
      "welcome0000000000000\n"
     ]
    }
   ],
   "source": [
    "#ljust() : Returns a left justified version of the string\n",
    "\n",
    "txt = \"welcome\"\n",
    "x = txt.ljust(20,\"0\")\n",
    "print(x)"
   ]
  },
  {
   "cell_type": "code",
   "execution_count": 85,
   "id": "53c65b0b-5f30-4fe9-9361-73868e99a00e",
   "metadata": {},
   "outputs": [
    {
     "name": "stdout",
     "output_type": "stream",
     "text": [
      "welcome to hyderbad\n"
     ]
    }
   ],
   "source": [
    "#lower() : Converts a string into lower case\n",
    "\n",
    "txt = 'welcome TO HYDERBAD'\n",
    "y = txt.lower()\n",
    "print(y)"
   ]
  },
  {
   "cell_type": "code",
   "execution_count": 87,
   "id": "b29ec8d0-8501-4018-a602-6f6e944ada74",
   "metadata": {},
   "outputs": [
    {
     "name": "stdout",
     "output_type": "stream",
     "text": [
      "of all fruits apples         is my favorite\n"
     ]
    }
   ],
   "source": [
    "#lstrip : Returns a left trim version of the string\n",
    "\n",
    "txt = '       apples        '\n",
    "x = txt.lstrip()\n",
    "print(\"of all fruits\", x, \"is my favorite\")"
   ]
  },
  {
   "cell_type": "code",
   "execution_count": 89,
   "id": "a7121f2c-cdc8-49c9-be37-e9cf2b4bbcff",
   "metadata": {},
   "outputs": [
    {
     "name": "stdout",
     "output_type": "stream",
     "text": [
      "hello dat\n"
     ]
    }
   ],
   "source": [
    "#maketrans() : Returns a translation table to be used in translations\n",
    "\n",
    "txt = \"hello cat\"\n",
    "x = txt.maketrans('c','d')\n",
    "print(txt.translate(x))"
   ]
  },
  {
   "cell_type": "code",
   "execution_count": 91,
   "id": "8b7c0add-9146-4829-a1fa-ac9f3cdb5dc2",
   "metadata": {},
   "outputs": [
    {
     "name": "stdout",
     "output_type": "stream",
     "text": [
      "(' i could eat ', 'lunch', ' everyday ')\n"
     ]
    }
   ],
   "source": [
    "#partition() : Returns a tuple where the string is parted into three parts\n",
    "\n",
    "txt = ' i could eat lunch everyday '\n",
    "y = txt.partition(\"lunch\")\n",
    "print(y)"
   ]
  },
  {
   "cell_type": "code",
   "execution_count": 92,
   "id": "48373208-4a94-4910-9dc4-595ecd52bcda",
   "metadata": {},
   "outputs": [
    {
     "name": "stdout",
     "output_type": "stream",
     "text": [
      "i like slepping\n"
     ]
    }
   ],
   "source": [
    "#replace() : Returns a string where a specified value is replaced with a specified value\n",
    "\n",
    "txt = 'i like eatting'\n",
    "x = txt.replace('eatting','slepping')\n",
    "print(x)"
   ]
  },
  {
   "cell_type": "code",
   "execution_count": 93,
   "id": "838ebdd1-0bc3-4586-b3ea-02e72e7f4493",
   "metadata": {},
   "outputs": [
    {
     "data": {
      "text/plain": [
       "7"
      ]
     },
     "execution_count": 93,
     "metadata": {},
     "output_type": "execute_result"
    }
   ],
   "source": [
    "#rfind() : Searches the string for a specified value and returns the last position of where it was found\n",
    "\n",
    "txt = 'i like eatting'\n",
    "x = txt.rfind('eatting')\n",
    "x"
   ]
  },
  {
   "cell_type": "code",
   "execution_count": 101,
   "id": "960598fe-1bab-4f76-ba1b-ed1e7a5cc64f",
   "metadata": {},
   "outputs": [
    {
     "name": "stdout",
     "output_type": "stream",
     "text": [
      "                        banana is my favorite fruit.\n"
     ]
    }
   ],
   "source": [
    "#rjust() : Returns a right justified version of the string\n",
    "\n",
    "txt = \"banana\"\n",
    "x = txt.rjust(30)\n",
    "print(x, \"is my favorite fruit.\")"
   ]
  },
  {
   "cell_type": "code",
   "execution_count": 102,
   "id": "f8767795-a7c1-4d6c-9f3e-6133f3faa0c4",
   "metadata": {},
   "outputs": [
    {
     "data": {
      "text/plain": [
       "('I could like to slepping all day, ', 'slepping', ' are my favorite hobbit')"
      ]
     },
     "execution_count": 102,
     "metadata": {},
     "output_type": "execute_result"
    }
   ],
   "source": [
    "#rpartition : Returns a tuple where the string is parted into three parts\n",
    "\n",
    "txt = \"I could like to slepping all day, slepping are my favorite hobbit\"\n",
    "q = txt.rpartition('slepping')\n",
    "q"
   ]
  },
  {
   "cell_type": "code",
   "execution_count": 107,
   "id": "16542c6b-dd4a-4270-a8b9-525bde28401f",
   "metadata": {},
   "outputs": [
    {
     "data": {
      "text/plain": [
       "['apple', 'banana', 'cherry']"
      ]
     },
     "execution_count": 107,
     "metadata": {},
     "output_type": "execute_result"
    }
   ],
   "source": [
    "#rsplit() : Splits the string at the specified separator, and returns a list\n",
    "\n",
    "txt = \"apple, banana, cherry\"\n",
    "x = txt.rsplit(\", \")\n",
    "x"
   ]
  },
  {
   "cell_type": "code",
   "execution_count": 108,
   "id": "71781d6a-5534-4407-926a-2a0116d6a50b",
   "metadata": {},
   "outputs": [
    {
     "name": "stdout",
     "output_type": "stream",
     "text": [
      "of all fruits      banana is my favorite\n"
     ]
    }
   ],
   "source": [
    "#rstrip() : Returns a right trim version of the string\n",
    "\n",
    "txt = \"     banana     \"\n",
    "x = txt.rstrip()\n",
    "print(\"of all fruits\", x, \"is my favorite\")"
   ]
  },
  {
   "cell_type": "code",
   "execution_count": 109,
   "id": "698a1b63-06bb-4bce-a5fa-5ca475cf4679",
   "metadata": {},
   "outputs": [
    {
     "data": {
      "text/plain": [
       "['Thank you for the music', 'Welcome to the jungle']"
      ]
     },
     "execution_count": 109,
     "metadata": {},
     "output_type": "execute_result"
    }
   ],
   "source": [
    "#splitlines : Splits the string at line breaks and returns a list\n",
    "\n",
    "txt = \"Thank you for the music\\nWelcome to the jungle\"\n",
    "x = txt.splitlines()\n",
    "x"
   ]
  },
  {
   "cell_type": "code",
   "execution_count": 112,
   "id": "e4dd5a42-d896-43ab-9d6e-1fd201ee14bd",
   "metadata": {},
   "outputs": [
    {
     "data": {
      "text/plain": [
       "True"
      ]
     },
     "execution_count": 112,
     "metadata": {},
     "output_type": "execute_result"
    }
   ],
   "source": [
    "#startswith : Returns true if the string starts with the specified value\n",
    "\n",
    "txt  = 'hello welcome to hyd'\n",
    "x = txt.startswith('hello')\n",
    "x"
   ]
  },
  {
   "cell_type": "code",
   "execution_count": 113,
   "id": "1307c66f-5d1f-455b-86be-246c2160a780",
   "metadata": {},
   "outputs": [
    {
     "name": "stdout",
     "output_type": "stream",
     "text": [
      "of all fruits banana is my favorite\n"
     ]
    }
   ],
   "source": [
    "#strip() : Returns a trimmed version of the string\n",
    "\n",
    "txt = \"     banana     \"\n",
    "x = txt.strip()\n",
    "print(\"of all fruits\", x, \"is my favorite\")"
   ]
  },
  {
   "cell_type": "code",
   "execution_count": 114,
   "id": "10ffb6ab-d729-48cf-9e45-45f546ecea3c",
   "metadata": {},
   "outputs": [
    {
     "data": {
      "text/plain": [
       "'HELLO, MY NAME IS kavya'"
      ]
     },
     "execution_count": 114,
     "metadata": {},
     "output_type": "execute_result"
    }
   ],
   "source": [
    "#swapcase() : Swaps cases, lower case becomes upper case and vice versa\n",
    "\n",
    "txt = 'hello, my name is KAVYA'\n",
    "x = txt.swapcase()\n",
    "x"
   ]
  },
  {
   "cell_type": "code",
   "execution_count": 115,
   "id": "204ca558-3789-4adf-95a8-e68e596cfaa6",
   "metadata": {},
   "outputs": [
    {
     "data": {
      "text/plain": [
       "'Welcome To My Hyd'"
      ]
     },
     "execution_count": 115,
     "metadata": {},
     "output_type": "execute_result"
    }
   ],
   "source": [
    "#title : Converts the first character of each word to upper case\n",
    "\n",
    "txt = \"Welcome to my hyd\"\n",
    "x = txt.title()\n",
    "x"
   ]
  },
  {
   "cell_type": "code",
   "execution_count": 117,
   "id": "742ab5f6-5db9-4c0b-9d94-749de139f84e",
   "metadata": {},
   "outputs": [
    {
     "name": "stdout",
     "output_type": "stream",
     "text": [
      "hello Pat\n"
     ]
    }
   ],
   "source": [
    "#translate() : Returns a translated string\n",
    "\n",
    "txt = 'hello cat'\n",
    "table = str.maketrans(\"c\", \"P\")\n",
    "print(txt.translate(table))"
   ]
  },
  {
   "cell_type": "code",
   "execution_count": 118,
   "id": "83df55a8-1dd0-4f0d-9cc2-8cc91635144f",
   "metadata": {},
   "outputs": [
    {
     "data": {
      "text/plain": [
       "'PLEASE'"
      ]
     },
     "execution_count": 118,
     "metadata": {},
     "output_type": "execute_result"
    }
   ],
   "source": [
    "#upper : Converts a string into upper case\n",
    "\n",
    "txt = 'please'\n",
    "x = txt.upper()\n",
    "x"
   ]
  },
  {
   "cell_type": "code",
   "execution_count": 119,
   "id": "e119602e-74a8-4c36-9e02-672225d98c80",
   "metadata": {},
   "outputs": [
    {
     "data": {
      "text/plain": [
       "'0000000000000000000000000000000000000000000000000000000000000000000000000000000000000000000000000187'"
      ]
     },
     "execution_count": 119,
     "metadata": {},
     "output_type": "execute_result"
    }
   ],
   "source": [
    "#zfill : Converts a string into upper case\n",
    "\n",
    "txt = \"187\"\n",
    "y = txt.zfill(100)\n",
    "y"
   ]
  },
  {
   "cell_type": "code",
   "execution_count": null,
   "id": "a7aa76b9-50f8-4edd-a8db-36963fc29d12",
   "metadata": {},
   "outputs": [],
   "source": []
  }
 ],
 "metadata": {
  "kernelspec": {
   "display_name": "Python 3 (ipykernel)",
   "language": "python",
   "name": "python3"
  },
  "language_info": {
   "codemirror_mode": {
    "name": "ipython",
    "version": 3
   },
   "file_extension": ".py",
   "mimetype": "text/x-python",
   "name": "python",
   "nbconvert_exporter": "python",
   "pygments_lexer": "ipython3",
   "version": "3.12.4"
  }
 },
 "nbformat": 4,
 "nbformat_minor": 5
}
