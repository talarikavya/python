{
 "cells": [
  {
   "cell_type": "markdown",
   "id": "c08548ce-1725-4aec-8d2a-7d71dc3f9c20",
   "metadata": {},
   "source": [
    "#write a python program to check if given string palindrome\n",
    "A palindrome is a number or letter that remains the same even if the number and letters are inverted\n",
    "Example of palindrome numbers are 1221, 74747..etc.\n",
    "And example for palindrome letters are MOM, DAD, MADAM, REFER..etc."
   ]
  },
  {
   "cell_type": "code",
   "execution_count": 5,
   "id": "fcb1dded-2a63-49fa-926f-2338dfb32192",
   "metadata": {},
   "outputs": [
    {
     "name": "stdout",
     "output_type": "stream",
     "text": [
      "data science is palindrome\n",
      "data science is palindrome\n",
      "data science is palindrome\n",
      "data science is palindrome\n",
      "data science is palindrome\n",
      "data science is palindrome\n"
     ]
    }
   ],
   "source": [
    "s = 'data science'\n",
    "\n",
    "left = 0          # left and right is initialization \n",
    "right = len(s)-1\n",
    "while left<right:\n",
    "    if s[left] != s[right]:\n",
    "        print(s,\"is palindrome\")\n",
    "        left += 1                # left is increment \n",
    "        right -= 1               # right is decrement"
   ]
  },
  {
   "cell_type": "code",
   "execution_count": 4,
   "id": "2295a84b-cd0a-4960-a2ba-ddfd45fc502a",
   "metadata": {},
   "outputs": [
    {
     "name": "stdout",
     "output_type": "stream",
     "text": [
      "59 is a prime_number\n"
     ]
    }
   ],
   "source": [
    "#write python program to check if numbers is prime or not\n",
    "prime_number = 59\n",
    "\n",
    "if prime_number:\n",
    "    print(prime_number,\"is a prime_number\")\n",
    "else:\n",
    "    print(prime_number,\"not a prime_number\")"
   ]
  },
  {
   "cell_type": "code",
   "execution_count": 14,
   "id": "92a764dc-bcaa-4def-93d8-6ff69bb6aade",
   "metadata": {},
   "outputs": [
    {
     "name": "stdout",
     "output_type": "stream",
     "text": [
      "1 3 5 7 9 "
     ]
    }
   ],
   "source": [
    "#create a loop that print the first ten odd numbers\n",
    "num = 1,2,3,4,5,6,7,8,9,10\n",
    "for num in range(1,10+1):\n",
    "    if num % 2 != 0:\n",
    "        print(num,end=' ')"
   ]
  },
  {
   "cell_type": "code",
   "execution_count": 2,
   "id": "4db97c61-04dd-4b64-991a-88dade02c6e7",
   "metadata": {},
   "outputs": [
    {
     "name": "stdin",
     "output_type": "stream",
     "text": [
      "enter a number to print its multiplication table 5\n"
     ]
    }
   ],
   "source": [
    "#write python program to print multiplcation table of given numbers\n",
    "number=int(input(\"enter a number to print its multiplication table\"))"
   ]
  },
  {
   "cell_type": "code",
   "execution_count": 2,
   "id": "360206aa-fb64-4e05-b989-aabf5845cbe4",
   "metadata": {},
   "outputs": [
    {
     "name": "stdin",
     "output_type": "stream",
     "text": [
      "enter a number to print its multiplication table 5\n"
     ]
    }
   ],
   "source": [
    "number=int(input(\"enter a number to print its multiplication table\"))"
   ]
  },
  {
   "cell_type": "code",
   "execution_count": 3,
   "id": "55769420-2af0-4ada-966c-d4116e3e8a17",
   "metadata": {},
   "outputs": [
    {
     "name": "stdout",
     "output_type": "stream",
     "text": [
      "5 x 1 = 5\n",
      "5 x 2 = 10\n",
      "5 x 3 = 15\n",
      "5 x 4 = 20\n",
      "5 x 5 = 25\n",
      "5 x 6 = 30\n",
      "5 x 7 = 35\n",
      "5 x 8 = 40\n",
      "5 x 9 = 45\n",
      "5 x 10 = 50\n"
     ]
    }
   ],
   "source": [
    "for i in range(1, 11):\n",
    "    print(f\"{number} x {i} = {number * i}\")"
   ]
  },
  {
   "cell_type": "markdown",
   "id": "f82e6220-9ea3-4c2e-8688-aea703fab9ab",
   "metadata": {},
   "source": [
    "#gerenal the fibonacci upto the given numbers\n",
    " \n",
    "fibonacci: The fibonacci series in python is a mathematical sequence that starts with 0 and 1, with each subsequent number being the sum of two preceding ones."
   ]
  },
  {
   "cell_type": "code",
   "execution_count": 11,
   "id": "cf87ae91-1678-42c5-97f3-d4d4367a15b4",
   "metadata": {},
   "outputs": [
    {
     "name": "stdout",
     "output_type": "stream",
     "text": [
      "[0, 1, 1]\n",
      "[0, 1, 1, 2]\n",
      "[0, 1, 1, 2, 3]\n",
      "[0, 1, 1, 2, 3, 5]\n",
      "[0, 1, 1, 2, 3, 5, 8]\n",
      "[0, 1, 1, 2, 3, 5, 8, 13]\n",
      "[0, 1, 1, 2, 3, 5, 8, 13, 21]\n",
      "[0, 1, 1, 2, 3, 5, 8, 13, 21, 34]\n",
      "[0, 1, 1, 2, 3, 5, 8, 13, 21, 34]\n"
     ]
    }
   ],
   "source": [
    "#write python program gerenal the fibonacci series of given numbers\n",
    "fib=[0,1]\n",
    "i=1\n",
    "n=10\n",
    "\n",
    "while i<n:\n",
    "    next_term = fib[-1] + fib[-2]\n",
    "    fib.append(next_term)\n",
    "    i += 1\n",
    "    print(fib[:n])"
   ]
  },
  {
   "cell_type": "code",
   "execution_count": 23,
   "id": "e7bcd663-1bab-42e1-adc5-7b4d8b702871",
   "metadata": {},
   "outputs": [
    {
     "name": "stdout",
     "output_type": "stream",
     "text": [
      "numbers of words with more than 5 character:4\n",
      "numbers of words with more than 5 character:4\n",
      "numbers of words with more than 5 character:4\n",
      "numbers of words with more than 5 character:4\n",
      "numbers of words with more than 5 character:4\n"
     ]
    }
   ],
   "source": [
    "# python program given a list word to countthe number of words with more than five character \n",
    "x = [\"apple\", \"banana\", \"kiwi\", \"grapefruit\", \"cherry\", \"melon\", \"orange\", \"blueberry\"]\n",
    "count = 4\n",
    "for word in x:\n",
    "    if len(word)>5:\n",
    "        print(f\"numbers of words with more than 5 character:{count}\")"
   ]
  },
  {
   "cell_type": "code",
   "execution_count": 25,
   "id": "facb736c-7d36-4d43-99aa-6af221217b8b",
   "metadata": {},
   "outputs": [
    {
     "name": "stdout",
     "output_type": "stream",
     "text": [
      "sum of the first 10 natural numbers: 1\n",
      "sum of the first 10 natural numbers: 3\n",
      "sum of the first 10 natural numbers: 6\n",
      "sum of the first 10 natural numbers: 10\n",
      "sum of the first 10 natural numbers: 15\n",
      "sum of the first 10 natural numbers: 21\n",
      "sum of the first 10 natural numbers: 28\n",
      "sum of the first 10 natural numbers: 36\n",
      "sum of the first 10 natural numbers: 45\n",
      "sum of the first 10 natural numbers: 55\n"
     ]
    }
   ],
   "source": [
    "#write python program to find the first sum of ten natural numbers\n",
    "sum_of_numbers=0\n",
    "i=1\n",
    "while i<=10:\n",
    "    sum_of_numbers += i\n",
    "    i += 1\n",
    "    print(\"sum of the first 10 natural numbers:\",sum_of_numbers)"
   ]
  },
  {
   "cell_type": "code",
   "execution_count": 37,
   "id": "d1ff7caf-a515-4095-aabc-d9e9c7c1c5b2",
   "metadata": {},
   "outputs": [
    {
     "name": "stdout",
     "output_type": "stream",
     "text": [
      "area of rectangle is: 5\n",
      "area of rectangle is: 10\n",
      "area of rectangle is: 15\n",
      "area of rectangle is: 20\n"
     ]
    }
   ],
   "source": [
    "#write python program to caculate area of rectangle\n",
    "length=5\n",
    "width=4\n",
    "area = 0\n",
    "for i in range(width):\n",
    "    area += length\n",
    "    print(\"area of rectangle is:\",area)"
   ]
  },
  {
   "cell_type": "code",
   "execution_count": 33,
   "id": "e9eb208a-94fe-4758-bcc8-e37befcfd072",
   "metadata": {},
   "outputs": [
    {
     "name": "stdin",
     "output_type": "stream",
     "text": [
      "Enter the number of minutes:  788\n"
     ]
    },
    {
     "name": "stdout",
     "output_type": "stream",
     "text": [
      "13 hours and 8 minutes\n"
     ]
    }
   ],
   "source": [
    "#write python program that convert a given number of minutes into hours and minutes\n",
    "total_minutes = int(input(\"Enter the number of minutes: \"))\n",
    "hours = 0\n",
    "while total_minutes >= 60:\n",
    "        total_minutes -= 60\n",
    "        hours += 1\n",
    "minutes = total_minutes\n",
    "print(f\"{hours} hours and {minutes} minutes\")"
   ]
  },
  {
   "cell_type": "code",
   "execution_count": 37,
   "id": "5ca4e1b4-2884-41cc-88ce-7906c45f4fa8",
   "metadata": {},
   "outputs": [
    {
     "name": "stdin",
     "output_type": "stream",
     "text": [
      "enter string Minutes\n"
     ]
    },
    {
     "name": "stdout",
     "output_type": "stream",
     "text": [
      "The number of vowels in the string is: 1\n",
      "The number of vowels in the string is: 2\n",
      "The number of vowels in the string is: 3\n"
     ]
    }
   ],
   "source": [
    "#write python program to count the number of vowels given strings\n",
    "string = input(\"enter string\")\n",
    "vowel_count = 0\n",
    "vowels = \"aeiouAEIOU\"\n",
    "for char in string:\n",
    "    if char in vowels:\n",
    "        vowel_count += 1       # Increment the counter if the character is a vowel\n",
    "        print(f\"The number of vowels in the string is: {vowel_count}\")"
   ]
  },
  {
   "cell_type": "code",
   "execution_count": null,
   "id": "2b2c23aa-d9ed-4f10-acbc-cf9d2451bdce",
   "metadata": {},
   "outputs": [],
   "source": []
  }
 ],
 "metadata": {
  "kernelspec": {
   "display_name": "Python 3 (ipykernel)",
   "language": "python",
   "name": "python3"
  },
  "language_info": {
   "codemirror_mode": {
    "name": "ipython",
    "version": 3
   },
   "file_extension": ".py",
   "mimetype": "text/x-python",
   "name": "python",
   "nbconvert_exporter": "python",
   "pygments_lexer": "ipython3",
   "version": "3.12.4"
  }
 },
 "nbformat": 4,
 "nbformat_minor": 5
}
