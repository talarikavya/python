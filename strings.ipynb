{
 "cells": [
  {
   "cell_type": "markdown",
   "id": "350ab2cd-c8ac-410c-851f-0e6a64bcd21b",
   "metadata": {},
   "source": [
    "# STRING:\n",
    "\n",
    "*A string is a sequence of characters and can contains letters,numbers,symbols and even spaces.\n",
    "*In string used symbol enclosed with single quotation ' ' , double quotation \" \" .\n",
    "*String are immutable in nature.\n",
    "*In immutable means once a string is generated you can't change any character within the string."
   ]
  },
  {
   "cell_type": "code",
   "execution_count": 117,
   "id": "da30c06a-7727-4e6e-9b2e-d4ee31f60bf4",
   "metadata": {},
   "outputs": [
    {
     "name": "stdout",
     "output_type": "stream",
     "text": [
      "<class 'str'>\n"
     ]
    }
   ],
   "source": [
    "#example of string\n",
    "\n",
    "str1='start'\n",
    "str2=\"ending\"\n",
    "print(type(str1))"
   ]
  },
  {
   "cell_type": "code",
   "execution_count": 118,
   "id": "e85fbe19-9c57-40fd-b19e-256a664c0292",
   "metadata": {},
   "outputs": [
    {
     "name": "stdout",
     "output_type": "stream",
     "text": [
      "<class 'str'>\n"
     ]
    }
   ],
   "source": [
    "print(type(str2))"
   ]
  },
  {
   "cell_type": "code",
   "execution_count": 120,
   "id": "a0128f4d-e238-41d3-ae05-287cccee7a0b",
   "metadata": {},
   "outputs": [
    {
     "data": {
      "text/plain": [
       "'t'"
      ]
     },
     "execution_count": 120,
     "metadata": {},
     "output_type": "execute_result"
    }
   ],
   "source": [
    "str1[4]"
   ]
  },
  {
   "cell_type": "code",
   "execution_count": 124,
   "id": "c934b169-b494-4b4a-93a0-abf738169b30",
   "metadata": {},
   "outputs": [
    {
     "data": {
      "text/plain": [
       "'g'"
      ]
     },
     "execution_count": 124,
     "metadata": {},
     "output_type": "execute_result"
    }
   ],
   "source": [
    "str2[5]"
   ]
  },
  {
   "cell_type": "code",
   "execution_count": 112,
   "id": "a7a0dbad-c6d8-45ac-8c2b-cb070df51eb1",
   "metadata": {},
   "outputs": [],
   "source": [
    "x1='ture'\n",
    "x2='false'"
   ]
  },
  {
   "cell_type": "code",
   "execution_count": 121,
   "id": "e8bd019a-430d-43bf-8f17-80b8bee596d0",
   "metadata": {},
   "outputs": [
    {
     "name": "stdout",
     "output_type": "stream",
     "text": [
      "ture\n"
     ]
    }
   ],
   "source": [
    "print(x1)"
   ]
  },
  {
   "cell_type": "code",
   "execution_count": 114,
   "id": "2f7c0777-6ccb-4927-816f-57997617a72d",
   "metadata": {},
   "outputs": [
    {
     "name": "stdout",
     "output_type": "stream",
     "text": [
      "ture\n"
     ]
    }
   ],
   "source": [
    "print(x1)"
   ]
  },
  {
   "cell_type": "code",
   "execution_count": 109,
   "id": "06629f61-7236-47fa-8553-54f3f5dc8e4b",
   "metadata": {},
   "outputs": [
    {
     "name": "stdout",
     "output_type": "stream",
     "text": [
      "rat\n"
     ]
    }
   ],
   "source": [
    "y1='rat'\n",
    "print(y1)"
   ]
  },
  {
   "cell_type": "code",
   "execution_count": 115,
   "id": "ce811315-1ac2-41ec-89bd-de0d3df5d5bc",
   "metadata": {},
   "outputs": [
    {
     "name": "stdout",
     "output_type": "stream",
     "text": [
      "hoildays\n"
     ]
    }
   ],
   "source": [
    "a='hoildays'\n",
    "print(a)"
   ]
  },
  {
   "cell_type": "code",
   "execution_count": 131,
   "id": "99ae6a76-9152-4e7a-8c57-25a8879e9670",
   "metadata": {},
   "outputs": [],
   "source": [
    "word='am i doing pratice right now'           #accessing positive index "
   ]
  },
  {
   "cell_type": "code",
   "execution_count": 132,
   "id": "486b406d-3c88-419e-acbe-adce08ade7f6",
   "metadata": {},
   "outputs": [
    {
     "data": {
      "text/plain": [
       "'o'"
      ]
     },
     "execution_count": 132,
     "metadata": {},
     "output_type": "execute_result"
    }
   ],
   "source": [
    "word[6]"
   ]
  },
  {
   "cell_type": "code",
   "execution_count": 133,
   "id": "e9a8336b-09cd-45bf-84b3-b0da4f77e4f9",
   "metadata": {},
   "outputs": [
    {
     "data": {
      "text/plain": [
       "' '"
      ]
     },
     "execution_count": 133,
     "metadata": {},
     "output_type": "execute_result"
    }
   ],
   "source": [
    "word[10]"
   ]
  },
  {
   "cell_type": "code",
   "execution_count": 134,
   "id": "da4b15bc-729a-480e-af1c-9ada955c0041",
   "metadata": {},
   "outputs": [
    {
     "data": {
      "text/plain": [
       "'e'"
      ]
     },
     "execution_count": 134,
     "metadata": {},
     "output_type": "execute_result"
    }
   ],
   "source": [
    "word[17]"
   ]
  },
  {
   "cell_type": "code",
   "execution_count": 140,
   "id": "7be1b18a-04c5-441a-841f-54eb0b90c68d",
   "metadata": {},
   "outputs": [],
   "source": [
    "word=\"python is simple to learning\"         #accesing negetive index"
   ]
  },
  {
   "cell_type": "code",
   "execution_count": 141,
   "id": "90a7acbe-3dfa-432e-a5b8-8d8f48be57b3",
   "metadata": {},
   "outputs": [
    {
     "data": {
      "text/plain": [
       "'i'"
      ]
     },
     "execution_count": 141,
     "metadata": {},
     "output_type": "execute_result"
    }
   ],
   "source": [
    "word[-3]"
   ]
  },
  {
   "cell_type": "code",
   "execution_count": 142,
   "id": "e01804d7-9052-4fde-aad7-ecfdaf85b0f3",
   "metadata": {},
   "outputs": [
    {
     "data": {
      "text/plain": [
       "'t'"
      ]
     },
     "execution_count": 142,
     "metadata": {},
     "output_type": "execute_result"
    }
   ],
   "source": [
    "word[-11]"
   ]
  },
  {
   "cell_type": "code",
   "execution_count": 143,
   "id": "c1c0846b-274f-4dc5-b8a0-638b1c39a0b1",
   "metadata": {},
   "outputs": [
    {
     "data": {
      "text/plain": [
       "'o'"
      ]
     },
     "execution_count": 143,
     "metadata": {},
     "output_type": "execute_result"
    }
   ],
   "source": [
    "word[-24]"
   ]
  },
  {
   "cell_type": "code",
   "execution_count": 144,
   "id": "b06221f7-8831-4c56-bf9c-e8db3dbe28c1",
   "metadata": {},
   "outputs": [
    {
     "data": {
      "text/plain": [
       "'e'"
      ]
     },
     "execution_count": 144,
     "metadata": {},
     "output_type": "execute_result"
    }
   ],
   "source": [
    "word[-7]"
   ]
  },
  {
   "cell_type": "code",
   "execution_count": 157,
   "id": "03ede8ad-7a62-4e69-bee1-24231dec8585",
   "metadata": {},
   "outputs": [],
   "source": [
    "a=\"am i doing right thing or not\"         # accessing of slicing index"
   ]
  },
  {
   "cell_type": "code",
   "execution_count": 158,
   "id": "95f47702-75f2-4b65-97db-f4f0acd122fb",
   "metadata": {},
   "outputs": [
    {
     "data": {
      "text/plain": [
       "'doing right thing or not'"
      ]
     },
     "execution_count": 158,
     "metadata": {},
     "output_type": "execute_result"
    }
   ],
   "source": [
    "a[5:]                                     #starting index"
   ]
  },
  {
   "cell_type": "code",
   "execution_count": 164,
   "id": "144bef26-e171-4440-b15c-d832263e94f5",
   "metadata": {},
   "outputs": [
    {
     "data": {
      "text/plain": [
       "'am i doing right thing or not'"
      ]
     },
     "execution_count": 164,
     "metadata": {},
     "output_type": "execute_result"
    }
   ],
   "source": [
    "a[:]                                    # without using start and end index    "
   ]
  },
  {
   "cell_type": "code",
   "execution_count": 160,
   "id": "1b194ea8-dbb8-4c3d-9036-dc35fca4fe92",
   "metadata": {},
   "outputs": [
    {
     "data": {
      "text/plain": [
       "'am i doing righ'"
      ]
     },
     "execution_count": 160,
     "metadata": {},
     "output_type": "execute_result"
    }
   ],
   "source": [
    "a[:15]                                  #end index there are n-1 "
   ]
  },
  {
   "cell_type": "code",
   "execution_count": 161,
   "id": "3c19061f-6976-4f70-84e5-2f6ad64a1829",
   "metadata": {},
   "outputs": [
    {
     "data": {
      "text/plain": [
       "'i do'"
      ]
     },
     "execution_count": 161,
     "metadata": {},
     "output_type": "execute_result"
    }
   ],
   "source": [
    "a[3:7]                                  #a=[start inder : end index ]"
   ]
  },
  {
   "cell_type": "code",
   "execution_count": 162,
   "id": "b480bc23-a5e1-4608-aa00-aa54743c6c5e",
   "metadata": {},
   "outputs": [
    {
     "data": {
      "text/plain": [
       "''"
      ]
     },
     "execution_count": 162,
     "metadata": {},
     "output_type": "execute_result"
    }
   ],
   "source": [
    "a[11:6]"
   ]
  },
  {
   "cell_type": "code",
   "execution_count": 163,
   "id": "47f6fd00-4024-46dd-b2c4-f10a8f8df9f9",
   "metadata": {},
   "outputs": [
    {
     "data": {
      "text/plain": [
       "'o'"
      ]
     },
     "execution_count": 163,
     "metadata": {},
     "output_type": "execute_result"
    }
   ],
   "source": [
    "a[6:7]"
   ]
  },
  {
   "cell_type": "markdown",
   "id": "bdb1c567-0f88-4d08-a860-09c78d3f695e",
   "metadata": {},
   "source": [
    "# FORMATTING STRING\n",
    "\n",
    "*In formatting string is simple to understand for human being.\n",
    "*In formatting string are two methods.\n",
    "*Here there are .format() method.\n",
    "                 fstring() method."
   ]
  },
  {
   "cell_type": "markdown",
   "id": "3bfe5c26-a0ce-44c0-a59b-c3b33496612a",
   "metadata": {},
   "source": [
    "# format() method:-\n",
    "\n",
    "*The fromat() method formats the specified value(s) and insert them inside the string's placeholder.\n",
    "*The placeholder is defined using curly brackets: {}\n",
    "*Read more about the placeholder in the placeholder section below.\n",
    "*The format() method retuens the formatted string.\n",
    "*   syntax:format(value1,value2....)."
   ]
  },
  {
   "cell_type": "code",
   "execution_count": 168,
   "id": "527b89cb-d42e-4e12-ad64-0dfe767450e3",
   "metadata": {},
   "outputs": [
    {
     "name": "stdout",
     "output_type": "stream",
     "text": [
      "my name is kavya and i am 2024 passed out year \n"
     ]
    }
   ],
   "source": [
    "#exapmle of .format() method\n",
    "\n",
    "name='kavya'\n",
    "year=2024\n",
    "print(\"my name is {} and i am {} passed out year \".format(name,year))"
   ]
  },
  {
   "cell_type": "code",
   "execution_count": 170,
   "id": "225e8101-c130-44d7-857d-a0bdd4c11de2",
   "metadata": {},
   "outputs": [
    {
     "name": "stdout",
     "output_type": "stream",
     "text": [
      "my name is 2024 and i am kavya passed out year \n"
     ]
    }
   ],
   "source": [
    "name='kavya'\n",
    "year=2024\n",
    "print(\"my name is {} and i am {} passed out year \".format(year,name))"
   ]
  },
  {
   "cell_type": "markdown",
   "id": "024164d1-221b-4455-bc4b-750c0b51da07",
   "metadata": {},
   "source": [
    "# fstring() method:-\n",
    "\n",
    "*In fstring was introduced in python 3.6 version.\n",
    "*Now the preferred way of formatting string.\n",
    "*Before python 3.6 we had to use format() method.\n",
    "*Allow you to formal selected parts of string.\n",
    "*Simply put an \"f\" in front pf string."
   ]
  },
  {
   "cell_type": "code",
   "execution_count": 171,
   "id": "6020ecfd-1e73-4760-83b4-d6a5c5d25a43",
   "metadata": {},
   "outputs": [
    {
     "name": "stdout",
     "output_type": "stream",
     "text": [
      "my name is {name} and i am {year} passed out year\n"
     ]
    }
   ],
   "source": [
    "#example of fstring() method \n",
    "\n",
    "print(\"my name is {name} and i am {year} passed out year\")"
   ]
  },
  {
   "cell_type": "markdown",
   "id": "7d5fdf2a-668d-4238-ab27-4eb937ebda46",
   "metadata": {},
   "source": [
    "# STRINGS CONCATENATION\n",
    "\n",
    "*The + operator used for string concatenation."
   ]
  },
  {
   "cell_type": "code",
   "execution_count": 2,
   "id": "68b1b0f0-1c86-4468-9cce-261a82433c25",
   "metadata": {},
   "outputs": [],
   "source": [
    "#example of concatenation\n",
    "\n",
    "a='born'\n",
    "b='year'"
   ]
  },
  {
   "cell_type": "code",
   "execution_count": 3,
   "id": "6048ba80-7f14-4e45-bfb4-dfd12268bae2",
   "metadata": {},
   "outputs": [
    {
     "data": {
      "text/plain": [
       "'bornyear'"
      ]
     },
     "execution_count": 3,
     "metadata": {},
     "output_type": "execute_result"
    }
   ],
   "source": [
    "c= a+b\n",
    "c"
   ]
  },
  {
   "cell_type": "code",
   "execution_count": 5,
   "id": "252bc357-53f3-4426-a965-f9ff87c48241",
   "metadata": {},
   "outputs": [
    {
     "data": {
      "text/plain": [
       "'born year'"
      ]
     },
     "execution_count": 5,
     "metadata": {},
     "output_type": "execute_result"
    }
   ],
   "source": [
    "c= a+\" \" +b \n",
    "c"
   ]
  },
  {
   "cell_type": "code",
   "execution_count": 7,
   "id": "4e854d8a-b99a-4784-881c-88c976f6d6b9",
   "metadata": {},
   "outputs": [
    {
     "data": {
      "text/plain": [
       "'yearborn'"
      ]
     },
     "execution_count": 7,
     "metadata": {},
     "output_type": "execute_result"
    }
   ],
   "source": [
    "c= b+a\n",
    "c"
   ]
  },
  {
   "cell_type": "markdown",
   "id": "3a7f7f6c-e969-4632-bd15-d79ba7370279",
   "metadata": {},
   "source": [
    "# STRINGS REPETATION\n",
    "\n",
    "*The * opeartor used for string repetation."
   ]
  },
  {
   "cell_type": "code",
   "execution_count": 8,
   "id": "5f8bbec0-29d2-49c4-8eb4-82626fafc2de",
   "metadata": {},
   "outputs": [
    {
     "data": {
      "text/plain": [
       "'going to classgoing to classgoing to classgoing to classgoing to classgoing to classgoing to classgoing to classgoing to classgoing to classgoing to classgoing to classgoing to classgoing to classgoing to classgoing to classgoing to classgoing to classgoing to classgoing to classgoing to classgoing to classgoing to classgoing to classgoing to classgoing to classgoing to classgoing to classgoing to classgoing to classgoing to classgoing to classgoing to classgoing to classgoing to classgoing to classgoing to classgoing to classgoing to classgoing to classgoing to classgoing to classgoing to classgoing to classgoing to classgoing to classgoing to classgoing to classgoing to classgoing to classgoing to classgoing to classgoing to classgoing to classgoing to class'"
      ]
     },
     "execution_count": 8,
     "metadata": {},
     "output_type": "execute_result"
    }
   ],
   "source": [
    "x=\"going to class\"\n",
    "x*55"
   ]
  },
  {
   "cell_type": "code",
   "execution_count": 19,
   "id": "339b5281-171e-4d78-89b6-861da7ac1ec1",
   "metadata": {},
   "outputs": [
    {
     "data": {
      "text/plain": [
       "['going to class \\n',\n",
       " 'going to class \\n',\n",
       " 'going to class \\n',\n",
       " 'going to class \\n',\n",
       " 'going to class \\n',\n",
       " 'going to class \\n',\n",
       " 'going to class \\n',\n",
       " 'going to class \\n',\n",
       " 'going to class \\n',\n",
       " 'going to class \\n',\n",
       " 'going to class \\n',\n",
       " 'going to class \\n',\n",
       " 'going to class \\n',\n",
       " 'going to class \\n',\n",
       " 'going to class \\n',\n",
       " 'going to class \\n',\n",
       " 'going to class \\n',\n",
       " 'going to class \\n',\n",
       " 'going to class \\n',\n",
       " 'going to class \\n',\n",
       " 'going to class \\n',\n",
       " 'going to class \\n',\n",
       " 'going to class \\n',\n",
       " 'going to class \\n',\n",
       " 'going to class \\n',\n",
       " 'going to class \\n',\n",
       " 'going to class \\n',\n",
       " 'going to class \\n',\n",
       " 'going to class \\n',\n",
       " 'going to class \\n',\n",
       " 'going to class \\n',\n",
       " 'going to class \\n',\n",
       " 'going to class \\n',\n",
       " 'going to class \\n']"
      ]
     },
     "execution_count": 19,
     "metadata": {},
     "output_type": "execute_result"
    }
   ],
   "source": [
    "x=[\"going to class \\n\"]       #here i use list \n",
    "x*34"
   ]
  },
  {
   "cell_type": "markdown",
   "id": "bf6c28b7-146d-4453-ba1b-d7b4bec30787",
   "metadata": {},
   "source": [
    "# STRING IN FUNCTION\n",
    "\n",
    "*String are some type in fuction in strings also.\n",
    "*Here there are length,count,uppercase,lowercase."
   ]
  },
  {
   "cell_type": "code",
   "execution_count": 27,
   "id": "4eaf3ba2-d634-41b8-8dcf-f69887c0f6a9",
   "metadata": {},
   "outputs": [
    {
     "data": {
      "text/plain": [
       "30"
      ]
     },
     "execution_count": 27,
     "metadata": {},
     "output_type": "execute_result"
    }
   ],
   "source": [
    "# LENGTH: It find the length os string and it will counting string.\n",
    "\n",
    "#example of length\n",
    "word=\"length are used to string also\"\n",
    "len(word)"
   ]
  },
  {
   "cell_type": "code",
   "execution_count": 28,
   "id": "1e85c3f4-3362-4538-af34-0f197a7af71c",
   "metadata": {},
   "outputs": [
    {
     "data": {
      "text/plain": [
       "31"
      ]
     },
     "execution_count": 28,
     "metadata": {},
     "output_type": "execute_result"
    }
   ],
   "source": [
    "word.count('')"
   ]
  },
  {
   "cell_type": "code",
   "execution_count": 29,
   "id": "731dd9bf-0782-4d38-a1bd-b14f9a5a2c73",
   "metadata": {},
   "outputs": [
    {
     "data": {
      "text/plain": [
       "'LENGTH ARE USED TO STRING ALSO'"
      ]
     },
     "execution_count": 29,
     "metadata": {},
     "output_type": "execute_result"
    }
   ],
   "source": [
    "# UPPERCASE IN STRINGS:\n",
    "word.upper()"
   ]
  },
  {
   "cell_type": "code",
   "execution_count": 45,
   "id": "381cd2be-fe16-43e5-afaa-866d8ffcf4d8",
   "metadata": {},
   "outputs": [
    {
     "data": {
      "text/plain": [
       "'length are used to string also'"
      ]
     },
     "execution_count": 45,
     "metadata": {},
     "output_type": "execute_result"
    }
   ],
   "source": [
    "# LOWERCASE IN STRINGS:\n",
    "\n",
    "\n",
    "word=\"LENGTH ARE USED TO STRING ALSO\"\n",
    "word.lower()"
   ]
  },
  {
   "cell_type": "code",
   "execution_count": 46,
   "id": "46ceb222-df08-49af-9fe5-28ffba955a81",
   "metadata": {},
   "outputs": [
    {
     "data": {
      "text/plain": [
       "' gooo morning'"
      ]
     },
     "execution_count": 46,
     "metadata": {},
     "output_type": "execute_result"
    }
   ],
   "source": [
    "text= \" good morning\"\n",
    "text.replace('d','o')"
   ]
  },
  {
   "cell_type": "code",
   "execution_count": 47,
   "id": "26dbd7e3-76c3-4160-b4c4-41a0d5c96611",
   "metadata": {},
   "outputs": [
    {
     "data": {
      "text/plain": [
       "' iood mornini'"
      ]
     },
     "execution_count": 47,
     "metadata": {},
     "output_type": "execute_result"
    }
   ],
   "source": [
    "text.replace('g','i')"
   ]
  },
  {
   "cell_type": "code",
   "execution_count": 48,
   "id": "db2310e9-bf40-41fe-a7af-840d07138467",
   "metadata": {},
   "outputs": [
    {
     "data": {
      "text/plain": [
       "['LENGTH', 'ARE', 'USED', 'TO', 'STRING', 'ALSO']"
      ]
     },
     "execution_count": 48,
     "metadata": {},
     "output_type": "execute_result"
    }
   ],
   "source": [
    "# SPLIT STRING : Split of values or element.\n",
    "\n",
    "word=\"LENGTH ARE USED TO STRING ALSO\"\n",
    "word.split()"
   ]
  },
  {
   "cell_type": "code",
   "execution_count": null,
   "id": "9b08823e-e458-40d7-890d-5850227dfa93",
   "metadata": {},
   "outputs": [],
   "source": []
  }
 ],
 "metadata": {
  "kernelspec": {
   "display_name": "Python 3 (ipykernel)",
   "language": "python",
   "name": "python3"
  },
  "language_info": {
   "codemirror_mode": {
    "name": "ipython",
    "version": 3
   },
   "file_extension": ".py",
   "mimetype": "text/x-python",
   "name": "python",
   "nbconvert_exporter": "python",
   "pygments_lexer": "ipython3",
   "version": "3.12.4"
  }
 },
 "nbformat": 4,
 "nbformat_minor": 5
}
