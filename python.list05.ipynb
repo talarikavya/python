{
 "cells": [
  {
   "cell_type": "markdown",
   "id": "31584248-c148-4e3c-904e-843e46dbf615",
   "metadata": {},
   "source": [
    "# LIST \n",
    "*In python a list is a built-in data sturcture that is used to store an ordered collection of items.\n",
    "*Lists are mutable defined that their contentcan be changed after the list has been created.\n",
    "*Listare hold various of data types,including integers,floats,strings and even other lists.\n",
    "*List in python using square brackets[].\n",
    "*List is using of the list() constructor."
   ]
  },
  {
   "cell_type": "code",
   "execution_count": 5,
   "id": "bf96854f-e127-408c-a144-c9334619a4ea",
   "metadata": {},
   "outputs": [
    {
     "name": "stdout",
     "output_type": "stream",
     "text": [
      "[1, 2, 3, 4]\n"
     ]
    }
   ],
   "source": [
    "# example of integer \n",
    "a=[1,2,3,4]\n",
    "print(a)"
   ]
  },
  {
   "cell_type": "code",
   "execution_count": 4,
   "id": "bcb25447-a0b6-433f-a963-974e4e2c246a",
   "metadata": {},
   "outputs": [
    {
     "name": "stdout",
     "output_type": "stream",
     "text": [
      "[9, 6, 8, 7, 6, 5]\n"
     ]
    }
   ],
   "source": [
    "b=[9,6,8,7,6,5]\n",
    "print(b)"
   ]
  },
  {
   "cell_type": "code",
   "execution_count": 8,
   "id": "762daf74-6434-4851-9399-9be30117eec2",
   "metadata": {},
   "outputs": [
    {
     "name": "stdout",
     "output_type": "stream",
     "text": [
      "[-3, -2, -1, 0, 1, 2, 3]\n"
     ]
    }
   ],
   "source": [
    "u=[-3,-2,-1,0,1,2,3]\n",
    "print(u)"
   ]
  },
  {
   "cell_type": "code",
   "execution_count": 9,
   "id": "0f2e49bd-d64c-447d-9be4-e4b5adb35b1f",
   "metadata": {},
   "outputs": [
    {
     "name": "stdout",
     "output_type": "stream",
     "text": [
      "[1, 2, 3, 1, 2, 3]\n"
     ]
    }
   ],
   "source": [
    "i=[1,2,3,1,2,3]\n",
    "print(i)"
   ]
  },
  {
   "cell_type": "code",
   "execution_count": 10,
   "id": "f7900688-47f1-4ab1-83e9-07ac0d259d5d",
   "metadata": {},
   "outputs": [
    {
     "name": "stdout",
     "output_type": "stream",
     "text": [
      "[-9, -8, -7, -6, -5, -4]\n"
     ]
    }
   ],
   "source": [
    "h=[-9,-8,-7,-6,-5,-4]\n",
    "print(h)"
   ]
  },
  {
   "cell_type": "code",
   "execution_count": 11,
   "id": "0318f478-d3df-4369-8382-2466d4ddf12c",
   "metadata": {},
   "outputs": [
    {
     "name": "stdout",
     "output_type": "stream",
     "text": [
      "[6, 8, 2, 5, 8]\n"
     ]
    }
   ],
   "source": [
    "l=[6,8,2,5,8]\n",
    "print(l)"
   ]
  },
  {
   "cell_type": "code",
   "execution_count": 12,
   "id": "5eb14b95-27ce-4958-98df-cb0e56d6af98",
   "metadata": {},
   "outputs": [
    {
     "name": "stdout",
     "output_type": "stream",
     "text": [
      "[5, 6, 7, 8, 9]\n"
     ]
    }
   ],
   "source": [
    "q=[5,6,7,8,9]\n",
    "print(q)"
   ]
  },
  {
   "cell_type": "code",
   "execution_count": 14,
   "id": "52290b39-2466-4ef5-b8a6-d0e424829daa",
   "metadata": {},
   "outputs": [
    {
     "name": "stdout",
     "output_type": "stream",
     "text": [
      "[0, -9, 0, -9, 0, -9]\n"
     ]
    }
   ],
   "source": [
    "s=[-0,-9,-0,-9,-0,-9]\n",
    "print(s)"
   ]
  },
  {
   "cell_type": "code",
   "execution_count": 16,
   "id": "0592160a-07ed-4788-b288-1cc0f169ded2",
   "metadata": {},
   "outputs": [
    {
     "name": "stdout",
     "output_type": "stream",
     "text": [
      "[0, -9, 0, -9, 0, -9, 5, 6, 7, 8, 9]\n"
     ]
    }
   ],
   "source": [
    "print(s+q)"
   ]
  },
  {
   "cell_type": "code",
   "execution_count": 21,
   "id": "3757f5f4-bbcc-4dbf-9b60-79412e7a7796",
   "metadata": {},
   "outputs": [
    {
     "name": "stdout",
     "output_type": "stream",
     "text": [
      "[1, 2, 3, 1, 2, 3, -9, -8, -7, -6, -5, -4]\n"
     ]
    }
   ],
   "source": [
    "print(i+h)"
   ]
  },
  {
   "cell_type": "code",
   "execution_count": 22,
   "id": "f5e81cee-3d06-41fb-b3e3-8db372d739d3",
   "metadata": {},
   "outputs": [
    {
     "name": "stdout",
     "output_type": "stream",
     "text": [
      "[22.1, 33.2, 44.2, 55.1]\n"
     ]
    }
   ],
   "source": [
    "#example of float\n",
    "q=[22.1,33.2,44.2,55.1]\n",
    "print(q)"
   ]
  },
  {
   "cell_type": "code",
   "execution_count": 23,
   "id": "9b18d820-a230-4600-8fd8-f08dc8b26ab7",
   "metadata": {},
   "outputs": [
    {
     "name": "stdout",
     "output_type": "stream",
     "text": [
      "[1, 2, 3, 5.6, 9.9, 33.657, 7]\n"
     ]
    }
   ],
   "source": [
    "e=[1,2,3,5.6,9.9,33.657,7]\n",
    "print(e)"
   ]
  },
  {
   "cell_type": "code",
   "execution_count": 24,
   "id": "599da2af-8e64-472f-bd36-f99c13b8be87",
   "metadata": {},
   "outputs": [
    {
     "name": "stdout",
     "output_type": "stream",
     "text": [
      "[4.23, 5.45, 2.23, 5.67, 6.622, 7.455, 8.9]\n"
     ]
    }
   ],
   "source": [
    "r=[4.23,5.45,2.23,5.67,6.622,7.455,8.9]\n",
    "print(r)"
   ]
  },
  {
   "cell_type": "code",
   "execution_count": 26,
   "id": "16b8f839-85fa-40fd-95e9-f61acab714e5",
   "metadata": {},
   "outputs": [
    {
     "name": "stdout",
     "output_type": "stream",
     "text": [
      "[3.0, 4.0, 5.0, 6.0555, 6.43]\n",
      "[4.5, 5.5, 6.6, 9.8]\n"
     ]
    }
   ],
   "source": [
    "e=[4.5,5.5,6.6,9.8]\n",
    "f=[3.0,4.0,5.0,6.0555,6.43]\n",
    "print(f)\n",
    "print(e)"
   ]
  },
  {
   "cell_type": "code",
   "execution_count": 27,
   "id": "62ae0157-6d58-47f4-9ef2-f3d84cdf6dfe",
   "metadata": {},
   "outputs": [
    {
     "name": "stdout",
     "output_type": "stream",
     "text": [
      "[77.8, 3, 6, 66.8, 9.054, 2, 3.99, 1, 0.155]\n"
     ]
    }
   ],
   "source": [
    "r=[77.8,3,6,66.8,9.054,2,3.99,1,0.155]\n",
    "print(r)"
   ]
  },
  {
   "cell_type": "code",
   "execution_count": 28,
   "id": "0b45eec3-a23d-4d19-a2bf-45684d799aa2",
   "metadata": {},
   "outputs": [
    {
     "name": "stdout",
     "output_type": "stream",
     "text": [
      "[4.53, 6.57, 7.33, 56.76, 34.75]\n"
     ]
    }
   ],
   "source": [
    "track=[4.53,6.57,7.33,56.76,34.75]\n",
    "print(track)"
   ]
  },
  {
   "cell_type": "code",
   "execution_count": 29,
   "id": "edccab43-49af-4f24-8d4f-1bb592efa47d",
   "metadata": {},
   "outputs": [
    {
     "name": "stdout",
     "output_type": "stream",
     "text": [
      "[44.66, 89.55, 1.3, 55.66, -3, -2, 89.33]\n"
     ]
    }
   ],
   "source": [
    "kavya=[44.66,89.55,1.3,55.66,-3,-2,89.33]\n",
    "print(kavya)"
   ]
  },
  {
   "cell_type": "code",
   "execution_count": 30,
   "id": "302661b4-7d81-4eac-8b50-02f659751770",
   "metadata": {},
   "outputs": [
    {
     "name": "stdout",
     "output_type": "stream",
     "text": [
      "[77.8, 3, 6, 66.8, 9.054, 2, 3.99, 1, 0.155, 4.5, 5.5, 6.6, 9.8]\n"
     ]
    }
   ],
   "source": [
    "print(r+e)"
   ]
  },
  {
   "cell_type": "code",
   "execution_count": 33,
   "id": "ae39561b-ed98-41c4-8401-6c1fca3ed798",
   "metadata": {},
   "outputs": [
    {
     "name": "stdout",
     "output_type": "stream",
     "text": [
      "[4, 5.6, 2.44, 5.889, 9.0, 103.56]\n"
     ]
    }
   ],
   "source": [
    "t=[4,5.6,2.44,5.889,9.0,103.56]\n",
    "print(t)"
   ]
  },
  {
   "cell_type": "code",
   "execution_count": 34,
   "id": "47bb2241-3b1f-4e99-aa90-6417e33f3486",
   "metadata": {},
   "outputs": [
    {
     "name": "stdout",
     "output_type": "stream",
     "text": [
      "[1.0, 2.0, 3.01, 42.78, 78.877, 3, 7, 8, 2.04]\n"
     ]
    }
   ],
   "source": [
    "v=[1.0,2.0,3.01,42.78,78.877,3,7,8,2.04]\n",
    "print(v)"
   ]
  },
  {
   "cell_type": "code",
   "execution_count": 36,
   "id": "7a8f1801-0345-437b-a91d-7f54884dc94f",
   "metadata": {},
   "outputs": [
    {
     "name": "stdout",
     "output_type": "stream",
     "text": [
      "red\n"
     ]
    }
   ],
   "source": [
    "#example of string\n",
    "z='red'\n",
    "print(z)"
   ]
  },
  {
   "cell_type": "code",
   "execution_count": 37,
   "id": "355ba355-009b-4080-90dc-140e606320ca",
   "metadata": {},
   "outputs": [
    {
     "name": "stdout",
     "output_type": "stream",
     "text": [
      "['kavya', 'talari', 'place']\n"
     ]
    }
   ],
   "source": [
    "y=['kavya','talari','place']\n",
    "print(y)"
   ]
  },
  {
   "cell_type": "code",
   "execution_count": 38,
   "id": "6be96745-4c03-4f5e-bee0-abac170c2569",
   "metadata": {},
   "outputs": [
    {
     "name": "stdout",
     "output_type": "stream",
     "text": [
      "['red', 'yellow', 'blue', 'white']\n"
     ]
    }
   ],
   "source": [
    "x=['red','yellow','blue','white']\n",
    "print(x)"
   ]
  },
  {
   "cell_type": "code",
   "execution_count": 39,
   "id": "e5a2f4ee-06f3-4039-abfc-280650a73bc2",
   "metadata": {},
   "outputs": [
    {
     "name": "stdout",
     "output_type": "stream",
     "text": [
      "[1, 2, 54.76, 3, 'home', 63.55]\n"
     ]
    }
   ],
   "source": [
    "w=[1,2,54.76,3,'home',63.55]\n",
    "print(w)"
   ]
  },
  {
   "cell_type": "code",
   "execution_count": 40,
   "id": "16885477-f68a-4a75-a8f2-e334fa223224",
   "metadata": {},
   "outputs": [
    {
     "name": "stdout",
     "output_type": "stream",
     "text": [
      "['data', 'version']\n"
     ]
    }
   ],
   "source": [
    "l=['data','version']\n",
    "print(l)"
   ]
  },
  {
   "cell_type": "code",
   "execution_count": 41,
   "id": "6e2e65e8-ed01-4acd-8309-4bcfd91cd302",
   "metadata": {},
   "outputs": [
    {
     "name": "stdout",
     "output_type": "stream",
     "text": [
      "[89.66, 65.89, 'location', 'placing', 83, 63, 65]\n"
     ]
    }
   ],
   "source": [
    "u=[89.66,65.89,'location','placing',83,63,65]\n",
    "print(u)"
   ]
  },
  {
   "cell_type": "code",
   "execution_count": 42,
   "id": "64d45d60-87ff-4b29-b7d2-b6ce69521701",
   "metadata": {},
   "outputs": [
    {
     "name": "stdout",
     "output_type": "stream",
     "text": [
      "[1.2, 'tv', 9.99, 48.65, 'ac']\n"
     ]
    }
   ],
   "source": [
    "r=[1.2,'tv',9.99,48.65,'ac']\n",
    "print(r)"
   ]
  },
  {
   "cell_type": "code",
   "execution_count": 44,
   "id": "9891e7ec-7025-4f34-9e80-827e9ef0355d",
   "metadata": {},
   "outputs": [
    {
     "name": "stdout",
     "output_type": "stream",
     "text": [
      "['7']\n"
     ]
    }
   ],
   "source": [
    "u=['7']\n",
    "print(u)"
   ]
  },
  {
   "cell_type": "code",
   "execution_count": 45,
   "id": "fb202fba-3578-4743-a422-e3202901d8e8",
   "metadata": {},
   "outputs": [
    {
     "name": "stdout",
     "output_type": "stream",
     "text": [
      "['mallareddy', 'college', 24.677, 89.45]\n"
     ]
    }
   ],
   "source": [
    "kavya=['mallareddy','college',24.677,89.45]\n",
    "print(kavya)"
   ]
  },
  {
   "cell_type": "code",
   "execution_count": 46,
   "id": "5c1e55f8-4336-4bce-b08f-bf233a850ead",
   "metadata": {},
   "outputs": [
    {
     "name": "stdout",
     "output_type": "stream",
     "text": [
      "[1, 2, 3, 90.34, 44.65, 'okok', 'ice']\n"
     ]
    }
   ],
   "source": [
    "t=[1,2,3,90.34,44.65,'okok','ice']\n",
    "print(t)"
   ]
  },
  {
   "cell_type": "code",
   "execution_count": 47,
   "id": "19fef5b2-b1e5-489f-9ef1-3e41fff0b2fc",
   "metadata": {},
   "outputs": [
    {
     "name": "stdout",
     "output_type": "stream",
     "text": [
      "[(20+4j)]\n"
     ]
    }
   ],
   "source": [
    "#example of complex\n",
    "a=[20+4j]\n",
    "print(a)"
   ]
  },
  {
   "cell_type": "code",
   "execution_count": 48,
   "id": "21b303b5-7689-41d5-92b0-f033634706e1",
   "metadata": {},
   "outputs": [
    {
     "name": "stdout",
     "output_type": "stream",
     "text": [
      "[1.2, 45.33, (2+5j), 4.0]\n"
     ]
    }
   ],
   "source": [
    "b=[1.2,45.33,2+5j,4.0]\n",
    "print(b)"
   ]
  },
  {
   "cell_type": "code",
   "execution_count": 49,
   "id": "f632a3ea-c1db-4c93-b017-bd58317344ab",
   "metadata": {},
   "outputs": [
    {
     "name": "stdout",
     "output_type": "stream",
     "text": [
      "[(23+89j), (45+4j), 45.66, 5]\n"
     ]
    }
   ],
   "source": [
    "e=[23+89j,45+4j,45.66,5]\n",
    "print(e)"
   ]
  },
  {
   "cell_type": "code",
   "execution_count": 61,
   "id": "cf23a5df-1428-42ae-bee5-5d02f741515a",
   "metadata": {},
   "outputs": [
    {
     "name": "stdout",
     "output_type": "stream",
     "text": [
      "[23.65, 34.78, 'talari', (8+2j), 9]\n"
     ]
    }
   ],
   "source": [
    "o=[23.65,34.78,'talari',8+2j,9]\n",
    "print(o)"
   ]
  },
  {
   "cell_type": "code",
   "execution_count": 62,
   "id": "487e3fe5-e8b9-4c86-b9e6-c09f27d24c55",
   "metadata": {},
   "outputs": [
    {
     "name": "stdout",
     "output_type": "stream",
     "text": [
      "[99.9, 88.8, 'data', 'base', 77.7, (6+99j), (58+7j), 4]\n"
     ]
    }
   ],
   "source": [
    "t=[99.9,88.8,'data','base',77.7,6+99j,58+7j,4]\n",
    "print(t)"
   ]
  },
  {
   "cell_type": "code",
   "execution_count": 63,
   "id": "54c20769-bcf0-4a2f-85e8-067055981743",
   "metadata": {},
   "outputs": [
    {
     "name": "stdout",
     "output_type": "stream",
     "text": [
      "[(20+4j), 1.2, 45.33, (2+5j), 4.0]\n"
     ]
    }
   ],
   "source": [
    "r=a+b\n",
    "print(r)"
   ]
  },
  {
   "cell_type": "code",
   "execution_count": 64,
   "id": "83803812-9ed9-482b-9c7e-12f363e42c88",
   "metadata": {},
   "outputs": [
    {
     "name": "stdout",
     "output_type": "stream",
     "text": [
      "[1, 22.3, 'moblie', 4, 'tell', (34.6+8j)]\n"
     ]
    }
   ],
   "source": [
    "y=[1,22.3,'moblie',4,'tell',34.6+8j,]\n",
    "print(y)"
   ]
  },
  {
   "cell_type": "code",
   "execution_count": 65,
   "id": "16f70439-fc85-443d-9954-d702fbf6a668",
   "metadata": {},
   "outputs": [
    {
     "name": "stdout",
     "output_type": "stream",
     "text": [
      "[(20+4j), 1.2, 45.33, (2+5j), 4.0, 1, 22.3, 'moblie', 4, 'tell', (34.6+8j)]\n"
     ]
    }
   ],
   "source": [
    "t=r+y\n",
    "print(t)"
   ]
  },
  {
   "cell_type": "code",
   "execution_count": 66,
   "id": "cfada1d3-6394-45d2-96d7-624691d69f29",
   "metadata": {},
   "outputs": [
    {
     "name": "stdout",
     "output_type": "stream",
     "text": [
      "['cat', 65.78, 22.89, 'dog', 7, (9+8j), 3, (33+9j)]\n"
     ]
    }
   ],
   "source": [
    "p=['cat',65.78,22.89,'dog',7,9+8j,3,33+9j]\n",
    "print(p)"
   ]
  },
  {
   "cell_type": "code",
   "execution_count": 67,
   "id": "459a5dde-a74f-4b45-a137-6bdf37fa9ff9",
   "metadata": {},
   "outputs": [
    {
     "name": "stdout",
     "output_type": "stream",
     "text": [
      "[(20+4j), 1.2, 45.33, (2+5j), 4.0, 1, 22.3, 'moblie', 4, 'tell', (34.6+8j), 'cat', 65.78, 22.89, 'dog', 7, (9+8j), 3, (33+9j)]\n"
     ]
    }
   ],
   "source": [
    "o=t+p\n",
    "print(o)"
   ]
  },
  {
   "cell_type": "code",
   "execution_count": 68,
   "id": "ed265942-e677-40c7-94ef-580728c84652",
   "metadata": {},
   "outputs": [
    {
     "name": "stdout",
     "output_type": "stream",
     "text": [
      "[False]\n"
     ]
    }
   ],
   "source": [
    "#example of boolean\n",
    "q=[15<6]\n",
    "print(q)"
   ]
  },
  {
   "cell_type": "code",
   "execution_count": 69,
   "id": "951a7da4-960b-4f88-a5bd-b0e6ba08c940",
   "metadata": {},
   "outputs": [
    {
     "name": "stdout",
     "output_type": "stream",
     "text": [
      "[1.2, 3, 55.6, True]\n"
     ]
    }
   ],
   "source": [
    "v=[1.2,3,55.6,25<67]\n",
    "print(v)"
   ]
  },
  {
   "cell_type": "code",
   "execution_count": 70,
   "id": "751356c4-44ce-4e3a-882d-956c5c602948",
   "metadata": {},
   "outputs": [
    {
     "name": "stdout",
     "output_type": "stream",
     "text": [
      "[34.6, 56.9, (4+7j), 5, True]\n"
     ]
    }
   ],
   "source": [
    "w=[34.6,56.9,4+7j,5,99>7]\n",
    "print(w)"
   ]
  },
  {
   "cell_type": "code",
   "execution_count": 71,
   "id": "a8aa5f89-0a4e-4208-a699-7e2063e66eca",
   "metadata": {},
   "outputs": [
    {
     "name": "stdout",
     "output_type": "stream",
     "text": [
      "[1.0, 2.0, (56+3j), 'number', False]\n"
     ]
    }
   ],
   "source": [
    "x=[1.0,2.0,56+3j,'number',49>59]\n",
    "print(x)"
   ]
  },
  {
   "cell_type": "code",
   "execution_count": 72,
   "id": "c0311320-b9ed-4c28-bce2-4bf7c4d0fa9b",
   "metadata": {},
   "outputs": [
    {
     "name": "stdout",
     "output_type": "stream",
     "text": [
      "['rose', (45+6j), False]\n"
     ]
    }
   ],
   "source": [
    "e=['rose',45+6j,77<45]\n",
    "print(e)"
   ]
  },
  {
   "cell_type": "code",
   "execution_count": 77,
   "id": "1fca3f72-2191-4f5c-a6b7-a0f0ee7d845f",
   "metadata": {},
   "outputs": [
    {
     "name": "stdout",
     "output_type": "stream",
     "text": [
      "[(6+6j), 20.5, 5, False]\n"
     ]
    }
   ],
   "source": [
    "p=[6+6j,20.5,5,12>67]\n",
    "print(p)"
   ]
  },
  {
   "cell_type": "code",
   "execution_count": 78,
   "id": "0e7a7753-8410-425c-91b1-d4958c68dcc0",
   "metadata": {},
   "outputs": [
    {
     "name": "stdout",
     "output_type": "stream",
     "text": [
      "[4.54, 65, (7+90j), 'city', False]\n"
     ]
    }
   ],
   "source": [
    "n=[4.54,65,7+90j,'city',23>23]\n",
    "print(n)"
   ]
  },
  {
   "cell_type": "code",
   "execution_count": 79,
   "id": "c7dd1bed-951b-414e-bf0e-d45cbd7afe37",
   "metadata": {},
   "outputs": [
    {
     "name": "stdout",
     "output_type": "stream",
     "text": [
      "[(33.3+8j), 'watch', True]\n"
     ]
    }
   ],
   "source": [
    "e=[33.3+8j,'watch',99<101]\n",
    "print(e)"
   ]
  },
  {
   "cell_type": "code",
   "execution_count": 80,
   "id": "7b05a067-e1d4-4b32-9814-d7eb5a7d05b1",
   "metadata": {},
   "outputs": [
    {
     "name": "stdout",
     "output_type": "stream",
     "text": [
      "[(33.3+8j), 'watch', True, (6+6j), 20.5, 5, False]\n"
     ]
    }
   ],
   "source": [
    "u=e+p\n",
    "print(u)"
   ]
  },
  {
   "cell_type": "code",
   "execution_count": 82,
   "id": "def7cf29-21f6-47dd-a4f0-b83eea8315d6",
   "metadata": {},
   "outputs": [
    {
     "name": "stdout",
     "output_type": "stream",
     "text": [
      "[1, False, 'cool', 22.56, 4.9, (8+9j), True, (77+2j), 'heat']\n"
     ]
    }
   ],
   "source": [
    "k=[1,12>13,'cool',22.56,4.90,8+9j,69>59,77+2j,'heat']\n",
    "print(k)"
   ]
  },
  {
   "cell_type": "code",
   "execution_count": 84,
   "id": "3d10c3aa-11df-40d6-9e00-541da5a432f1",
   "metadata": {},
   "outputs": [
    {
     "name": "stdout",
     "output_type": "stream",
     "text": [
      "<class 'list'>\n"
     ]
    }
   ],
   "source": [
    "#example of type function\n",
    "c=[1,2,3,'jeep',23.9]\n",
    "print(type(c))"
   ]
  },
  {
   "cell_type": "code",
   "execution_count": 85,
   "id": "9ac8642a-29f1-4f1b-bca1-8701f34c74e8",
   "metadata": {},
   "outputs": [
    {
     "name": "stdout",
     "output_type": "stream",
     "text": [
      "<class 'list'>\n"
     ]
    }
   ],
   "source": [
    "d=[23.5,45.66,12>76]\n",
    "print(type(d))"
   ]
  },
  {
   "cell_type": "code",
   "execution_count": 87,
   "id": "71a32264-b829-4faf-9204-dd56ab60a23e",
   "metadata": {},
   "outputs": [
    {
     "data": {
      "text/plain": [
       "list"
      ]
     },
     "execution_count": 87,
     "metadata": {},
     "output_type": "execute_result"
    }
   ],
   "source": [
    "u=[1,3,4,7,8]\n",
    "type(c)"
   ]
  },
  {
   "cell_type": "code",
   "execution_count": 88,
   "id": "20efca9c-9582-4136-8fee-de03ef96d31c",
   "metadata": {},
   "outputs": [
    {
     "data": {
      "text/plain": [
       "list"
      ]
     },
     "execution_count": 88,
     "metadata": {},
     "output_type": "execute_result"
    }
   ],
   "source": [
    "r=[67.88,'tea',5+8j]\n",
    "type(r)"
   ]
  },
  {
   "cell_type": "code",
   "execution_count": 89,
   "id": "75d6a728-b421-4ef4-96f3-e4bf825438f2",
   "metadata": {},
   "outputs": [
    {
     "data": {
      "text/plain": [
       "list"
      ]
     },
     "execution_count": 89,
     "metadata": {},
     "output_type": "execute_result"
    }
   ],
   "source": [
    "t=[99>88,'eye',5,66.7]\n",
    "type(t)"
   ]
  },
  {
   "cell_type": "code",
   "execution_count": 90,
   "id": "7a804f05-aba5-4170-b617-f275a0cc1c30",
   "metadata": {},
   "outputs": [
    {
     "data": {
      "text/plain": [
       "list"
      ]
     },
     "execution_count": 90,
     "metadata": {},
     "output_type": "execute_result"
    }
   ],
   "source": [
    "u=[5,6,7,8,9]\n",
    "type(u)"
   ]
  },
  {
   "cell_type": "code",
   "execution_count": 91,
   "id": "c857fd33-fbd7-44aa-b5d9-ad686ad3fbfa",
   "metadata": {},
   "outputs": [
    {
     "data": {
      "text/plain": [
       "list"
      ]
     },
     "execution_count": 91,
     "metadata": {},
     "output_type": "execute_result"
    }
   ],
   "source": [
    "t=[3.4,5.6,88+99j,'space',4]\n",
    "type(t)"
   ]
  },
  {
   "cell_type": "code",
   "execution_count": 92,
   "id": "26b3b083-e1a5-4d68-b21a-5f931ac9c541",
   "metadata": {},
   "outputs": [
    {
     "data": {
      "text/plain": [
       "list"
      ]
     },
     "execution_count": 92,
     "metadata": {},
     "output_type": "execute_result"
    }
   ],
   "source": [
    "s=[9,8,6+67j,'wool']\n",
    "type(s)"
   ]
  },
  {
   "cell_type": "code",
   "execution_count": 93,
   "id": "ca6b28e6-886c-4cc9-8cc1-632faa7f7c79",
   "metadata": {},
   "outputs": [
    {
     "name": "stdout",
     "output_type": "stream",
     "text": [
      "<class 'list'>\n"
     ]
    }
   ],
   "source": [
    "t=u+t\n",
    "print(type(t))"
   ]
  },
  {
   "cell_type": "code",
   "execution_count": 94,
   "id": "a8a7bc2e-ac51-42e6-b615-326d69a75d7e",
   "metadata": {},
   "outputs": [
    {
     "data": {
      "text/plain": [
       "list"
      ]
     },
     "execution_count": 94,
     "metadata": {},
     "output_type": "execute_result"
    }
   ],
   "source": [
    "t=[8.0,66+7j,'frog',55>77]\n",
    "type(t)"
   ]
  },
  {
   "cell_type": "raw",
   "id": "e54631df-af39-4da9-9aae-a07e2825066f",
   "metadata": {},
   "source": [
    "# INDEX\n",
    "*In python indexing refers to the process of accessing a specific element in a sequence.\n",
    "*Such as a string or list,using its positive or index number\n",
    "*Index have two types.There are  1.Positive index.\n",
    "                                 2.Negtive index.\n",
    "                                 3.Slicing index."
   ]
  },
  {
   "cell_type": "markdown",
   "id": "da39d79f-15c4-42fc-8492-47bbd26e77ae",
   "metadata": {},
   "source": [
    "# 1.POSITIVE INDEX\n",
    "*In positive index are increments the from zero and from left to right.\n",
    "*In positive inder 'zero' to 'infinte'."
   ]
  },
  {
   "cell_type": "code",
   "execution_count": 126,
   "id": "22dd411c-00b0-4e6c-81ac-63fb7aa575ce",
   "metadata": {},
   "outputs": [],
   "source": [
    "# example postive index\n",
    "index=[1,2,3,4,5,6,7,8,9]"
   ]
  },
  {
   "cell_type": "code",
   "execution_count": 127,
   "id": "ccab40ef-a97a-4a5b-9dd3-140edcae499f",
   "metadata": {},
   "outputs": [
    {
     "data": {
      "text/plain": [
       "5"
      ]
     },
     "execution_count": 127,
     "metadata": {},
     "output_type": "execute_result"
    }
   ],
   "source": [
    "index[4]"
   ]
  },
  {
   "cell_type": "code",
   "execution_count": 143,
   "id": "bf1990a6-9cdb-4fd1-8f49-68bc00e5b376",
   "metadata": {},
   "outputs": [
    {
     "data": {
      "text/plain": [
       "8"
      ]
     },
     "execution_count": 143,
     "metadata": {},
     "output_type": "execute_result"
    }
   ],
   "source": [
    "index=[5,6,7,8,9,10]\n",
    "index[3]"
   ]
  },
  {
   "cell_type": "code",
   "execution_count": 137,
   "id": "7935b50e-18b6-4257-9da1-1e1f6832a072",
   "metadata": {},
   "outputs": [
    {
     "data": {
      "text/plain": [
       "10"
      ]
     },
     "execution_count": 137,
     "metadata": {},
     "output_type": "execute_result"
    }
   ],
   "source": [
    "index[5]"
   ]
  },
  {
   "cell_type": "code",
   "execution_count": 142,
   "id": "c9fcb204-2636-44fd-8d9b-daf8e6b570aa",
   "metadata": {},
   "outputs": [
    {
     "data": {
      "text/plain": [
       "107"
      ]
     },
     "execution_count": 142,
     "metadata": {},
     "output_type": "execute_result"
    }
   ],
   "source": [
    "index=[101,102,103,104,105,106,107]\n",
    "index[6]"
   ]
  },
  {
   "cell_type": "code",
   "execution_count": 147,
   "id": "2b43a98b-2cef-45f4-a7cc-3cf63d9f389d",
   "metadata": {},
   "outputs": [
    {
     "data": {
      "text/plain": [
       "8"
      ]
     },
     "execution_count": 147,
     "metadata": {},
     "output_type": "execute_result"
    }
   ],
   "source": [
    "index=[5.8,89.9,9,8]\n",
    "index[3]"
   ]
  },
  {
   "cell_type": "code",
   "execution_count": 148,
   "id": "0856cad1-0689-421b-96e7-25094b410e15",
   "metadata": {},
   "outputs": [
    {
     "data": {
      "text/plain": [
       "9"
      ]
     },
     "execution_count": 148,
     "metadata": {},
     "output_type": "execute_result"
    }
   ],
   "source": [
    "index=[55.7,23.0,'pack',3+9j,5,9]\n",
    "index[5]"
   ]
  },
  {
   "cell_type": "markdown",
   "id": "a9c6c072-a225-4618-8a47-5175a3c32211",
   "metadata": {},
   "source": [
    "# NEGETIVE INDEX \n",
    "*In negetive index decrements the index from -1 running from right to left.\n",
    "*Allows you to access elements sequence from the end using negetive numbers as index's.\n",
    "*Negetive index are -one to -infinte."
   ]
  },
  {
   "cell_type": "code",
   "execution_count": 164,
   "id": "eafa3dfe-794b-4ebf-b23a-3e7e2854b9a3",
   "metadata": {},
   "outputs": [
    {
     "data": {
      "text/plain": [
       "-4"
      ]
     },
     "execution_count": 164,
     "metadata": {},
     "output_type": "execute_result"
    }
   ],
   "source": [
    "# example of negetive index\n",
    "index=[-1,-2,-3,-4,-5,-6]\n",
    "index[-3]"
   ]
  },
  {
   "cell_type": "code",
   "execution_count": 165,
   "id": "3ec451c3-9deb-4197-b748-09a1b22eb05a",
   "metadata": {},
   "outputs": [
    {
     "data": {
      "text/plain": [
       "-5"
      ]
     },
     "execution_count": 165,
     "metadata": {},
     "output_type": "execute_result"
    }
   ],
   "source": [
    "index=[23.5,-55,-5,-77]\n",
    "index[-2]"
   ]
  },
  {
   "cell_type": "code",
   "execution_count": 162,
   "id": "e99e5a91-4433-4715-af9d-0eb14e88917d",
   "metadata": {},
   "outputs": [
    {
     "data": {
      "text/plain": [
       "8"
      ]
     },
     "execution_count": 162,
     "metadata": {},
     "output_type": "execute_result"
    }
   ],
   "source": [
    "index=[-10,9,8,7,6,5,4]\n",
    "index[-5]"
   ]
  },
  {
   "cell_type": "code",
   "execution_count": 170,
   "id": "e97aa089-0ae2-4721-a34a-b0e5e47f0370",
   "metadata": {},
   "outputs": [],
   "source": [
    "index=[205.87,554,997,90.7745,78,98.4]"
   ]
  },
  {
   "cell_type": "code",
   "execution_count": 171,
   "id": "57fc790a-fc12-4ccc-b33f-a70c073c6f0f",
   "metadata": {},
   "outputs": [
    {
     "data": {
      "text/plain": [
       "205.87"
      ]
     },
     "execution_count": 171,
     "metadata": {},
     "output_type": "execute_result"
    }
   ],
   "source": [
    "index[-6]"
   ]
  },
  {
   "cell_type": "code",
   "execution_count": 172,
   "id": "44f8dc1c-23e4-4e8c-91c3-2684653e12e1",
   "metadata": {},
   "outputs": [
    {
     "data": {
      "text/plain": [
       "90.7745"
      ]
     },
     "execution_count": 172,
     "metadata": {},
     "output_type": "execute_result"
    }
   ],
   "source": [
    "index[-3]"
   ]
  },
  {
   "cell_type": "code",
   "execution_count": 174,
   "id": "67c59ff7-3741-43be-a6c0-4a4a5af6e140",
   "metadata": {},
   "outputs": [
    {
     "data": {
      "text/plain": [
       "699"
      ]
     },
     "execution_count": 174,
     "metadata": {},
     "output_type": "execute_result"
    }
   ],
   "source": [
    "index=[45,699,'toss',21.3,44+7j,66,8+9j]\n",
    "index[-6]"
   ]
  },
  {
   "cell_type": "markdown",
   "id": "4cf309ba-664a-45c5-bb06-0902bf228438",
   "metadata": {},
   "source": [
    "# SLICING\n",
    "*Slicing and indexing are two fundamental concepts in python.\n",
    "*They heplp you access specific elements in a sequence such as a list,tuple or string.\n",
    "*Syntax:  a={start index : end index}\n",
    "*And in slicing end index we used as n-1."
   ]
  },
  {
   "cell_type": "code",
   "execution_count": 175,
   "id": "c547b6f4-5aed-49cf-8706-25cadd2fc653",
   "metadata": {},
   "outputs": [
    {
     "data": {
      "text/plain": [
       "[7, 6, 5, 4, 3, 2, 1]"
      ]
     },
     "execution_count": 175,
     "metadata": {},
     "output_type": "execute_result"
    }
   ],
   "source": [
    "#example of slicing index\n",
    "index=[9,8,7,6,5,4,3,2,1]\n",
    "index[2:10]"
   ]
  },
  {
   "cell_type": "code",
   "execution_count": 198,
   "id": "43f555be-8489-48a3-852b-4ad29db59758",
   "metadata": {},
   "outputs": [
    {
     "data": {
      "text/plain": [
       "[8, 66, 222, 90]"
      ]
     },
     "execution_count": 198,
     "metadata": {},
     "output_type": "execute_result"
    }
   ],
   "source": [
    "index=[89,646,535,8,66,222,90]\n",
    "index[3:678]"
   ]
  },
  {
   "cell_type": "code",
   "execution_count": 190,
   "id": "a2efea20-b161-4de3-b458-8363d7c2d1ab",
   "metadata": {},
   "outputs": [
    {
     "data": {
      "text/plain": [
       "['machine', 23.4, 44, 55]"
      ]
     },
     "execution_count": 190,
     "metadata": {},
     "output_type": "execute_result"
    }
   ],
   "source": [
    "index=[1,66+8j,'machine',23.4,44,55]\n",
    "index[2:8]"
   ]
  },
  {
   "cell_type": "code",
   "execution_count": 194,
   "id": "db5ce518-3ccc-4354-920f-34d8b25e9849",
   "metadata": {},
   "outputs": [
    {
     "name": "stdout",
     "output_type": "stream",
     "text": [
      "[(66+8j), 'machine', 23.4, 44, 55]\n"
     ]
    }
   ],
   "source": [
    "print(index[1:99])"
   ]
  },
  {
   "cell_type": "code",
   "execution_count": 199,
   "id": "fd6426b6-af6f-4655-a9a6-23d560967f9d",
   "metadata": {},
   "outputs": [
    {
     "data": {
      "text/plain": [
       "[8, 66, 222, 90]"
      ]
     },
     "execution_count": 199,
     "metadata": {},
     "output_type": "execute_result"
    }
   ],
   "source": [
    "index[3:45]"
   ]
  },
  {
   "cell_type": "code",
   "execution_count": 204,
   "id": "9462afcf-ddb9-4bda-a565-84ec9f35f69e",
   "metadata": {},
   "outputs": [
    {
     "data": {
      "text/plain": [
       "[4, 5, 6, 7, 8]"
      ]
     },
     "execution_count": 204,
     "metadata": {},
     "output_type": "execute_result"
    }
   ],
   "source": [
    "#example of postive slicing index\n",
    "index=[2,3,4,5,6,7,8]\n",
    "index[2:9]"
   ]
  },
  {
   "cell_type": "code",
   "execution_count": 203,
   "id": "b72340f8-0d47-43ba-9b70-579322289ad9",
   "metadata": {},
   "outputs": [
    {
     "data": {
      "text/plain": [
       "[3, 4]"
      ]
     },
     "execution_count": 203,
     "metadata": {},
     "output_type": "execute_result"
    }
   ],
   "source": [
    "index[1:3]"
   ]
  },
  {
   "cell_type": "code",
   "execution_count": 206,
   "id": "a84d5e26-0948-4f90-bf19-90cc62367532",
   "metadata": {},
   "outputs": [
    {
     "data": {
      "text/plain": [
       "[(21+6j), 'tour', 45]"
      ]
     },
     "execution_count": 206,
     "metadata": {},
     "output_type": "execute_result"
    }
   ],
   "source": [
    "index=[202,344,67.5,21+6j,'tour',45]\n",
    "index[3:6]"
   ]
  },
  {
   "cell_type": "code",
   "execution_count": 207,
   "id": "1c4b58fd-79ad-4c65-8d20-cdb42fdf17a1",
   "metadata": {},
   "outputs": [
    {
     "data": {
      "text/plain": [
       "[344, 67.5, (21+6j), 'tour']"
      ]
     },
     "execution_count": 207,
     "metadata": {},
     "output_type": "execute_result"
    }
   ],
   "source": [
    "index[1:5]"
   ]
  },
  {
   "cell_type": "code",
   "execution_count": 208,
   "id": "b805de0a-f5d2-4d8d-8f4d-c6459715db91",
   "metadata": {},
   "outputs": [
    {
     "data": {
      "text/plain": [
       "[4, 5, 6, 7, 9]"
      ]
     },
     "execution_count": 208,
     "metadata": {},
     "output_type": "execute_result"
    }
   ],
   "source": [
    "index=[1,2,3,4,5,6,7,9]\n",
    "index[3:10]"
   ]
  },
  {
   "cell_type": "code",
   "execution_count": 209,
   "id": "ff54c7fd-d8a0-4387-8434-d2b02c8b3fc7",
   "metadata": {},
   "outputs": [
    {
     "data": {
      "text/plain": [
       "[6]"
      ]
     },
     "execution_count": 209,
     "metadata": {},
     "output_type": "execute_result"
    }
   ],
   "source": [
    "#example of negetive slicing index\n",
    "index=[9,8,7,6,5,4,3,2]\n",
    "index[3:-4]"
   ]
  },
  {
   "cell_type": "code",
   "execution_count": 219,
   "id": "91d743ac-c300-4395-8d0f-a9b05d37ee8f",
   "metadata": {},
   "outputs": [
    {
     "data": {
      "text/plain": [
       "[8, 7, 6, 5, 4]"
      ]
     },
     "execution_count": 219,
     "metadata": {},
     "output_type": "execute_result"
    }
   ],
   "source": [
    "index[1:6]"
   ]
  },
  {
   "cell_type": "code",
   "execution_count": 220,
   "id": "46671546-e075-44d5-afc9-f74df635c323",
   "metadata": {},
   "outputs": [
    {
     "data": {
      "text/plain": [
       "[-33, 44, -55.8]"
      ]
     },
     "execution_count": 220,
     "metadata": {},
     "output_type": "execute_result"
    }
   ],
   "source": [
    "index=[-11,-22,-33,44,-55.8]\n",
    "index[2:33]"
   ]
  },
  {
   "cell_type": "code",
   "execution_count": 222,
   "id": "49601335-21d7-44ff-b8ed-312c690bbaee",
   "metadata": {},
   "outputs": [
    {
     "data": {
      "text/plain": [
       "[-11, -22, -33]"
      ]
     },
     "execution_count": 222,
     "metadata": {},
     "output_type": "execute_result"
    }
   ],
   "source": [
    "index[-44:3]"
   ]
  },
  {
   "cell_type": "code",
   "execution_count": 223,
   "id": "c60df288-685d-4ed5-a5cc-0fc2d4b3e4b0",
   "metadata": {},
   "outputs": [
    {
     "data": {
      "text/plain": [
       "[77]"
      ]
     },
     "execution_count": 223,
     "metadata": {},
     "output_type": "execute_result"
    }
   ],
   "source": [
    "index=[22,55,4+6j,9.08,77]\n",
    "index[4:5]"
   ]
  },
  {
   "cell_type": "markdown",
   "id": "ffed35bc-588b-4e8f-8d16-520214bc07b6",
   "metadata": {},
   "source": [
    "# CONCATENATE\n",
    "*Here in concatenate are adding of the two indexs or list.\n",
    "*To concatenate two lists in python,use the extends function."
   ]
  },
  {
   "cell_type": "code",
   "execution_count": 224,
   "id": "22cc622e-1f52-492c-acc5-7264a3103d05",
   "metadata": {},
   "outputs": [
    {
     "name": "stdout",
     "output_type": "stream",
     "text": [
      "[1, 3, 4, 9, 8, 7, 6]\n"
     ]
    }
   ],
   "source": [
    "#example of concatenate\n",
    "x=[1,3,4]\n",
    "y=[9,8,7,6]\n",
    "z=x+y\n",
    "print(z)"
   ]
  },
  {
   "cell_type": "code",
   "execution_count": 226,
   "id": "72a57ad0-bb03-450e-bb4e-5385fccb51d0",
   "metadata": {},
   "outputs": [
    {
     "name": "stdout",
     "output_type": "stream",
     "text": [
      "[3, 5, 7, 4, 6, 8, 11, 4, 3, 5, 6, 79]\n"
     ]
    }
   ],
   "source": [
    "a=[3,5,7,4,6,8]\n",
    "b=[11,4,3,5,6,79]\n",
    "c=a+b\n",
    "print(c)"
   ]
  },
  {
   "cell_type": "code",
   "execution_count": 227,
   "id": "0ed31bb4-4b05-4e37-adbb-f56ca39207e7",
   "metadata": {},
   "outputs": [
    {
     "name": "stdout",
     "output_type": "stream",
     "text": [
      "[2, 3, 7, 8, 9, 55, 4, 33, 5, 2.33, 'goat', 77]\n"
     ]
    }
   ],
   "source": [
    "w=[2,3,7,8,9,55,4]\n",
    "p=[33,5,2.33,'goat',77]\n",
    "e=w+p\n",
    "print(e)"
   ]
  },
  {
   "cell_type": "code",
   "execution_count": 228,
   "id": "dd371111-9e5b-40fd-acc2-e8196134e1aa",
   "metadata": {},
   "outputs": [
    {
     "name": "stdout",
     "output_type": "stream",
     "text": [
      "[2.44, 3556, 'tea', (4+8j), 'ring', 7, 3, 4, 52, 8, 778, 109]\n"
     ]
    }
   ],
   "source": [
    "r=[2.44,3556,'tea',4+8j,'ring',7]\n",
    "s=[3,4,52,8,778,109]\n",
    "t=r+s\n",
    "print(t)"
   ]
  },
  {
   "cell_type": "code",
   "execution_count": 229,
   "id": "9aa4eb6a-f3b5-432c-8cc3-504afcff4906",
   "metadata": {},
   "outputs": [
    {
     "name": "stdout",
     "output_type": "stream",
     "text": [
      "[4.998, 23.78, (7+6j), 44.9, 'right', 33, 45, 8, (7+99j), 'left', 3433, False]\n"
     ]
    }
   ],
   "source": [
    "u=[4.998,23.78,7+6j,44.9,'right',33]\n",
    "v=[45,8,7+99j,'left',3433,45>78]\n",
    "w=u+v\n",
    "print(w)"
   ]
  },
  {
   "cell_type": "markdown",
   "id": "5f3bd0d8-2345-4047-89ad-1338f3d59152",
   "metadata": {},
   "source": [
    "# REPATATION\n",
    "*Repatation are repeating of list.\n",
    "*The repatation operator is denoted by a \" * \" symbol and is useful for repeating strings to a certain length.\n",
    "*We use of repeat of \" * \" symbol."
   ]
  },
  {
   "cell_type": "code",
   "execution_count": 230,
   "id": "923c8cbd-287a-4e35-93b6-c0ba27ac5112",
   "metadata": {},
   "outputs": [
    {
     "data": {
      "text/plain": [
       "[9, 8, 7, 6, 5, 9, 8, 7, 6, 5, 9, 8, 7, 6, 5, 9, 8, 7, 6, 5]"
      ]
     },
     "execution_count": 230,
     "metadata": {},
     "output_type": "execute_result"
    }
   ],
   "source": [
    "#example of repatation \n",
    "a=[1,4,6,7,8]\n",
    "b=[9,8,7,6,5,]\n",
    "b*4"
   ]
  },
  {
   "cell_type": "code",
   "execution_count": 234,
   "id": "1ad1d694-f94a-471c-9908-33523c47880c",
   "metadata": {},
   "outputs": [
    {
     "data": {
      "text/plain": [
       "[1, 4, 6, 7, 8, 1, 4, 6, 7, 8, 1, 4, 6, 7, 8, 1, 4, 6, 7, 8, 1, 4, 6, 7, 8]"
      ]
     },
     "execution_count": 234,
     "metadata": {},
     "output_type": "execute_result"
    }
   ],
   "source": [
    "a*5"
   ]
  },
  {
   "cell_type": "code",
   "execution_count": 236,
   "id": "5c2b7d66-e329-4f00-b164-fb3501d41b4b",
   "metadata": {},
   "outputs": [
    {
     "data": {
      "text/plain": [
       "[5, 6, 7, 8, 9, 11, 7, 3, 5, 6, 7, 8, 9, 11, 7, 3]"
      ]
     },
     "execution_count": 236,
     "metadata": {},
     "output_type": "execute_result"
    }
   ],
   "source": [
    "r=[5,6,7,8,9,11,7,3]\n",
    "s=[2,4,5,6,7,9,5]\n",
    "r*2"
   ]
  },
  {
   "cell_type": "code",
   "execution_count": 238,
   "id": "c6b78831-8b6c-4748-a2e0-10ad4c1f69d1",
   "metadata": {},
   "outputs": [
    {
     "data": {
      "text/plain": [
       "[2, 4, 5, 6, 7, 9, 5, 2, 4, 5, 6, 7, 9, 5, 2, 4, 5, 6, 7, 9, 5]"
      ]
     },
     "execution_count": 238,
     "metadata": {},
     "output_type": "execute_result"
    }
   ],
   "source": [
    "s*3"
   ]
  },
  {
   "cell_type": "code",
   "execution_count": 240,
   "id": "41677c02-8457-4296-96af-59085278a0f0",
   "metadata": {},
   "outputs": [
    {
     "data": {
      "text/plain": [
       "[98, 776, 445, (8+3j), 89, 'flower', 98, 776, 445, (8+3j), 89, 'flower']"
      ]
     },
     "execution_count": 240,
     "metadata": {},
     "output_type": "execute_result"
    }
   ],
   "source": [
    "t=[101,102,103,104,105]\n",
    "s=[98,776,445,8+3j,89,'flower']\n",
    "s*2"
   ]
  },
  {
   "cell_type": "code",
   "execution_count": 242,
   "id": "b46070b6-56f6-4162-a67b-de53d496fa10",
   "metadata": {},
   "outputs": [
    {
     "data": {
      "text/plain": [
       "[101, 102, 103, 104, 105, 101, 102, 103, 104, 105, 101, 102, 103, 104, 105]"
      ]
     },
     "execution_count": 242,
     "metadata": {},
     "output_type": "execute_result"
    }
   ],
   "source": [
    "t*3"
   ]
  },
  {
   "cell_type": "markdown",
   "id": "6dfd9c69-5fc9-4d8b-abb8-0dc991257714",
   "metadata": {},
   "source": [
    "# MUTABLE\n",
    "*An object is considered mutable if is state or value can be modified after it is created."
   ]
  },
  {
   "cell_type": "code",
   "execution_count": 248,
   "id": "b0a32089-6280-4941-94a4-b7dd34a4c994",
   "metadata": {},
   "outputs": [
    {
     "name": "stdout",
     "output_type": "stream",
     "text": [
      "[1, 2, 3, 4, 5, 111, 7, 8, 9]\n"
     ]
    }
   ],
   "source": [
    "#example of mutable \n",
    "lst=[1,2,3,4,5,6,7,8,9]\n",
    "lst[5]=111\n",
    "print(lst)"
   ]
  },
  {
   "cell_type": "code",
   "execution_count": 249,
   "id": "d5bbd63b-f0f4-42cc-99f2-1bd3fc4bc4d5",
   "metadata": {},
   "outputs": [
    {
     "name": "stdout",
     "output_type": "stream",
     "text": [
      "[12, 'kavya', 'talari', 69.09, 5, 87]\n"
     ]
    }
   ],
   "source": [
    "lst=[12,'kavya',4+7j,69.09,5,87]\n",
    "lst[2]='talari'\n",
    "print(lst)"
   ]
  },
  {
   "cell_type": "code",
   "execution_count": 250,
   "id": "7b094161-627f-4342-87be-19ffce59c45a",
   "metadata": {},
   "outputs": [
    {
     "name": "stdout",
     "output_type": "stream",
     "text": [
      "[12, 'kavya', 'talari', 69.09, 5, 56.89]\n"
     ]
    }
   ],
   "source": [
    "lst[5]=56.89\n",
    "print(lst)"
   ]
  },
  {
   "cell_type": "code",
   "execution_count": 255,
   "id": "74d8cb11-d317-49c5-ac7d-dcc539d10dbf",
   "metadata": {},
   "outputs": [
    {
     "name": "stdout",
     "output_type": "stream",
     "text": [
      "[2.99, (44+8j), 233, 'keyss']\n"
     ]
    }
   ],
   "source": [
    "lst=[2.99,44+8j,56,78,56.099]\n",
    "lst[2:5]=[233,'keyss']\n",
    "print(lst)"
   ]
  },
  {
   "cell_type": "code",
   "execution_count": 256,
   "id": "4e9d751d-4c76-4c0b-b3d4-987302846945",
   "metadata": {},
   "outputs": [
    {
     "name": "stdout",
     "output_type": "stream",
     "text": [
      "[56, 611, 44.01, 'layers']\n"
     ]
    }
   ],
   "source": [
    "lst=[56,611,44.01,'layers']\n",
    "lst[1:22]\n",
    "print(lst)"
   ]
  },
  {
   "cell_type": "code",
   "execution_count": 259,
   "id": "63107b37-ca89-41c5-8c23-c475011bccab",
   "metadata": {},
   "outputs": [
    {
     "name": "stdout",
     "output_type": "stream",
     "text": [
      "[(3+6j), 45.22, 89.7, 'goat', 7, 88, 89]\n"
     ]
    }
   ],
   "source": [
    "lst=[3+6j,45.22,89.7,'goat',7,88,89]\n",
    "lst[3:34]\n",
    "print(lst)"
   ]
  },
  {
   "cell_type": "markdown",
   "id": "d9d793f5-e363-4155-a2de-1be32b9ffb3c",
   "metadata": {},
   "source": [
    "# FUNCTION OR METHODS\n",
    "*Function is a block of code that only runs whenit is called functions.\n",
    "*Functions are used to preform specific actions, and they are also known as methods.\n",
    "*Why we use function because of reuse code define the code once and use it many times."
   ]
  },
  {
   "cell_type": "markdown",
   "id": "8c884d4c-8126-4980-8f05-2dcf8ad94e98",
   "metadata": {},
   "source": [
    "# APPEND \n",
    "*In adding of value in end of a list.\n",
    "*Append dicitionary to list using to operable.\n",
    "*List using copy() method."
   ]
  },
  {
   "cell_type": "code",
   "execution_count": 268,
   "id": "c9f8b05c-fe7c-4ab0-a513-81c9aa1136c2",
   "metadata": {},
   "outputs": [
    {
     "name": "stdout",
     "output_type": "stream",
     "text": [
      "[1, 2, 3, 4, 5, 6, 7, 8, 3]\n"
     ]
    }
   ],
   "source": [
    "#example of append\n",
    "\n",
    "\n",
    "lst=[1,2,3,4,5,6,7,8]\n",
    "lst.append(3)\n",
    "print(lst)"
   ]
  },
  {
   "cell_type": "code",
   "execution_count": 262,
   "id": "499aafdc-91a3-40f6-8c0c-ee13e486d497",
   "metadata": {},
   "outputs": [
    {
     "name": "stdout",
     "output_type": "stream",
     "text": [
      "[(5+6j), 22.09, 2, 4, 33.56, 4]\n"
     ]
    }
   ],
   "source": [
    "lst=[5+6j,22.09,2,4,33.56]\n",
    "lst.append(4)\n",
    "print(lst)"
   ]
  },
  {
   "cell_type": "code",
   "execution_count": 263,
   "id": "7e9df653-c711-4f60-939f-cedd244d153c",
   "metadata": {},
   "outputs": [
    {
     "name": "stdout",
     "output_type": "stream",
     "text": [
      "[(5+6j), 22.09, 2, 4, 33.56, 4, 2334]\n"
     ]
    }
   ],
   "source": [
    "lst.append(2334)\n",
    "print(lst)"
   ]
  },
  {
   "cell_type": "code",
   "execution_count": 266,
   "id": "684f368a-e481-42d5-9215-b81493359e09",
   "metadata": {},
   "outputs": [
    {
     "name": "stdout",
     "output_type": "stream",
     "text": [
      "[12, 33, 44.07, (34+5j), 'water', 3.05, 'rain', 23]\n"
     ]
    }
   ],
   "source": [
    "lst=[12,33,44.07,34+5j,'water',3.05,'rain']\n",
    "lst.append(23)\n",
    "print(lst)"
   ]
  },
  {
   "cell_type": "code",
   "execution_count": 267,
   "id": "e628a38a-8468-4692-bb8c-4e14f3b9f984",
   "metadata": {},
   "outputs": [
    {
     "name": "stdout",
     "output_type": "stream",
     "text": [
      "[12, 33, 44.07, (34+5j), 'water', 3.05, 'rain', 23, 9008]\n"
     ]
    }
   ],
   "source": [
    "lst.append(9008)\n",
    "print(lst)"
   ]
  },
  {
   "cell_type": "code",
   "execution_count": 269,
   "id": "8b227d58-1d11-495c-a93a-b2a77f7b7a55",
   "metadata": {},
   "outputs": [
    {
     "name": "stdout",
     "output_type": "stream",
     "text": [
      "[22, 5.08, (55+6j), 'door', True, 344.6, 33.45]\n"
     ]
    }
   ],
   "source": [
    "lst=[22,5.08,55+6j,'door',990>455,344.6]\n",
    "lst.append(33.45)\n",
    "print(lst)"
   ]
  },
  {
   "cell_type": "markdown",
   "id": "a72e7929-ef29-49f7-9127-36399c9d4aaf",
   "metadata": {},
   "source": [
    "# INSERT\n",
    "*Insert is used to add items to the list at any specified positive by the uses.\n",
    "*Used of add data a into a pre-existing sturcture.\n",
    "*Insert are present are insert() and inserting of value of middle."
   ]
  },
  {
   "cell_type": "code",
   "execution_count": 271,
   "id": "7a83c517-e469-4fc6-a826-376c69fe4e30",
   "metadata": {},
   "outputs": [
    {
     "name": "stdout",
     "output_type": "stream",
     "text": [
      "[12, 34.9, 55, 78, 5, 99.98, 1213]\n"
     ]
    }
   ],
   "source": [
    "#example of insert()\n",
    "lst=[12,34.9,55,78,99.98,1213]\n",
    "lst.insert(4,5)\n",
    "print(lst)"
   ]
  },
  {
   "cell_type": "code",
   "execution_count": 272,
   "id": "91f74257-7d03-4a09-8ab2-44bcacfef875",
   "metadata": {},
   "outputs": [
    {
     "name": "stdout",
     "output_type": "stream",
     "text": [
      "[12, 34.9, 45.09, 55, 78, 5, 99.98, 1213]\n"
     ]
    }
   ],
   "source": [
    "lst.insert(2,45.09)\n",
    "print(lst)"
   ]
  },
  {
   "cell_type": "code",
   "execution_count": 273,
   "id": "b52a5f56-2d99-4729-8885-0d16f7ce7a99",
   "metadata": {},
   "outputs": [
    {
     "name": "stdout",
     "output_type": "stream",
     "text": [
      "[23.9, (6+9j), 45, 'parrot', (45+990j), 78.06, 8]\n"
     ]
    }
   ],
   "source": [
    "lst=[23.9,6+9j,45,'parrot',78.06,8]\n",
    "lst.insert(4,45+990j)\n",
    "print(lst)"
   ]
  },
  {
   "cell_type": "code",
   "execution_count": 274,
   "id": "4e1801eb-4b4b-43e6-81be-a2b52574ccd1",
   "metadata": {},
   "outputs": [
    {
     "name": "stdout",
     "output_type": "stream",
     "text": [
      "[23.9, (6+9j), 45, 'parrot', (45+990j), 78.06, 678.999, 8]\n"
     ]
    }
   ],
   "source": [
    "lst.insert(6,678.999)\n",
    "print(lst)"
   ]
  },
  {
   "cell_type": "code",
   "execution_count": 277,
   "id": "e5566bac-5303-40c7-a4f6-309f224d7f2c",
   "metadata": {},
   "outputs": [
    {
     "name": "stdout",
     "output_type": "stream",
     "text": [
      "['tv', 45.788, (6+9j), 67, 71.85, 89.076, 'passing']\n"
     ]
    }
   ],
   "source": [
    "lst=['tv',45.788,6+9j,67,89.076,'passing']\n",
    "lst.insert(4,71.85)\n",
    "print(lst)"
   ]
  },
  {
   "cell_type": "code",
   "execution_count": 279,
   "id": "d48b31cf-c5e9-4540-8d60-be440992dfd6",
   "metadata": {},
   "outputs": [
    {
     "name": "stdout",
     "output_type": "stream",
     "text": [
      "['tv', 45.788, (56+9j), (6+9j), 67, 71.85, 89.076, 'passing']\n"
     ]
    }
   ],
   "source": [
    "lst.insert(2,56+9j)\n",
    "print(lst)"
   ]
  },
  {
   "cell_type": "code",
   "execution_count": 280,
   "id": "ee0567b8-4439-4e0c-9b95-d8be27aff754",
   "metadata": {},
   "outputs": [
    {
     "name": "stdout",
     "output_type": "stream",
     "text": [
      "['tv', 45.788, (56+9j), (6+9j), 67, (90+6j), 71.85, 89.076, 'passing']\n"
     ]
    }
   ],
   "source": [
    "lst.insert(5,90+6j)\n",
    "print(lst)"
   ]
  },
  {
   "cell_type": "code",
   "execution_count": 296,
   "id": "95a0cd4a-98b4-4e6b-8413-046e534e71bc",
   "metadata": {},
   "outputs": [
    {
     "name": "stdout",
     "output_type": "stream",
     "text": [
      "[2, 4, 6, 'fishing', 7, 8, 1, 2, 9, 3, False]\n"
     ]
    }
   ],
   "source": [
    "lst=[2,4,6,7,8,1,2,9,3,233>575]\n",
    "lst.insert(3,'fishing')\n",
    "print(lst)"
   ]
  },
  {
   "cell_type": "code",
   "execution_count": 282,
   "id": "22da8197-0184-43c2-8e42-5ca5f05d07c1",
   "metadata": {},
   "outputs": [
    {
     "name": "stdout",
     "output_type": "stream",
     "text": [
      "[2, 'root', 4, 6, 'fishing', 7, 8, 1, 2, 9, 3]\n"
     ]
    }
   ],
   "source": [
    "lst.insert(1,'root')\n",
    "print(lst)"
   ]
  },
  {
   "cell_type": "code",
   "execution_count": 283,
   "id": "9a7cbf5b-ea09-4612-86fa-7831d3cded92",
   "metadata": {},
   "outputs": [
    {
     "name": "stdout",
     "output_type": "stream",
     "text": [
      "[90, 80.1, (34+88j), 'watching', 66.9, 2332, 78]\n"
     ]
    }
   ],
   "source": [
    "lst=[90,80.1,34+88j,'watching',2332,78]\n",
    "lst.insert(4,66.90)\n",
    "print(lst)"
   ]
  },
  {
   "cell_type": "markdown",
   "id": "b8b5cdaa-4eb3-4714-a430-584f9ac49bdb",
   "metadata": {},
   "source": [
    "# REMOVE\n",
    "*Removes the specified element from the set remove().\n",
    "*If the specified item does not exist and the discard() method will not."
   ]
  },
  {
   "cell_type": "code",
   "execution_count": 291,
   "id": "d0132f02-33a4-42a1-a301-9050154178b3",
   "metadata": {},
   "outputs": [
    {
     "name": "stdout",
     "output_type": "stream",
     "text": [
      "[1, 2, 4, 5, 6, 7, 8, 9]\n"
     ]
    }
   ],
   "source": [
    "#example of remove \n",
    "\n",
    "lst=[1,2,3,4,5,6,7,8,9]\n",
    "lst.remove(3)\n",
    "print(lst)"
   ]
  },
  {
   "cell_type": "code",
   "execution_count": 293,
   "id": "f53179b3-df79-45af-ad16-ef562f6287b0",
   "metadata": {},
   "outputs": [
    {
     "name": "stdout",
     "output_type": "stream",
     "text": [
      "[23.5, 12, 45, (67+9j), 78, 90.07]\n"
     ]
    }
   ],
   "source": [
    "lst=[23.5,12,45,67+9j,78,8,90.07]\n",
    "lst.remove(8)\n",
    "print(lst)"
   ]
  },
  {
   "cell_type": "code",
   "execution_count": 294,
   "id": "cbdfaa87-2a05-4cde-afb0-23594f01a646",
   "metadata": {},
   "outputs": [
    {
     "name": "stdout",
     "output_type": "stream",
     "text": [
      "[23.5, 12, (67+9j), 78, 90.07]\n"
     ]
    }
   ],
   "source": [
    "lst.remove(45)\n",
    "print(lst)"
   ]
  },
  {
   "cell_type": "code",
   "execution_count": 295,
   "id": "06dc4d07-af3b-4d91-9a98-cfea3f37835f",
   "metadata": {},
   "outputs": [
    {
     "name": "stdout",
     "output_type": "stream",
     "text": [
      "[True, 23.89, 9909, (8+8j), 345, 78, 'man', 981]\n"
     ]
    }
   ],
   "source": [
    "lst=[34<89,23.89,9909,8+8j,345,78,'man',568,981]\n",
    "lst.remove(568)\n",
    "print(lst)"
   ]
  },
  {
   "cell_type": "code",
   "execution_count": 297,
   "id": "427f0251-d68a-472c-a55f-c8b45dddef0c",
   "metadata": {},
   "outputs": [
    {
     "name": "stdout",
     "output_type": "stream",
     "text": [
      "[2, 4, 6, 'fishing', 7, 8, 2, 9, 3, False]\n"
     ]
    }
   ],
   "source": [
    "lst.remove(1)\n",
    "print(lst)"
   ]
  },
  {
   "cell_type": "code",
   "execution_count": 298,
   "id": "03067eb7-3058-4cd2-8613-41d5089bd796",
   "metadata": {},
   "outputs": [
    {
     "name": "stdout",
     "output_type": "stream",
     "text": [
      "[102.1, (444+89j), False, 'book', 233, 89.022]\n"
     ]
    }
   ],
   "source": [
    "lst=[102.1,444+89j,33+657j,564>899,'book',233,89.022]\n",
    "lst.remove(33+657j)\n",
    "print(lst)"
   ]
  },
  {
   "cell_type": "code",
   "execution_count": 305,
   "id": "098493db-8bd0-4dc2-9dc9-1f5476daa205",
   "metadata": {},
   "outputs": [
    {
     "name": "stdout",
     "output_type": "stream",
     "text": [
      "[23.44, 888, (59+7j), 54, 90.09, True, True, 'she']\n"
     ]
    }
   ],
   "source": [
    "lst=[23.44,67.93,888,59+7j,54,90.09,23<78,87>34,'she']\n",
    "lst.remove(67.93)\n",
    "print(lst)"
   ]
  },
  {
   "cell_type": "code",
   "execution_count": 306,
   "id": "73eb1730-c9c8-47ae-ae7b-d2d3c6e2475e",
   "metadata": {},
   "outputs": [
    {
     "name": "stdout",
     "output_type": "stream",
     "text": [
      "[23.44, 888, (59+7j), 90.09, True, True, 'she']\n"
     ]
    }
   ],
   "source": [
    "lst.remove(54)\n",
    "print(lst)"
   ]
  },
  {
   "cell_type": "code",
   "execution_count": 307,
   "id": "e61fcace-9cf7-4c71-a520-bf9cef124aef",
   "metadata": {},
   "outputs": [
    {
     "name": "stdout",
     "output_type": "stream",
     "text": [
      "[23.44, 888, (59+7j), 90.09, True, 'she']\n"
     ]
    }
   ],
   "source": [
    "lst.remove(87>34)\n",
    "print(lst)"
   ]
  },
  {
   "cell_type": "code",
   "execution_count": 308,
   "id": "4d2b335f-9d36-4bc8-963d-34b9901de769",
   "metadata": {},
   "outputs": [
    {
     "name": "stdout",
     "output_type": "stream",
     "text": [
      "[94.9, (67+9j), False, 56.97, 89, 90, (93+77j), 'hello', 'world']\n"
     ]
    }
   ],
   "source": [
    "lst=[94.9,655,67+9j,12>44,56.97,89,90,93+77j,'hello','world']\n",
    "lst.remove(655)\n",
    "print(lst)"
   ]
  },
  {
   "cell_type": "code",
   "execution_count": null,
   "id": "2aabf102-b75a-48cb-b5d6-b9144b6fc539",
   "metadata": {},
   "outputs": [],
   "source": []
  }
 ],
 "metadata": {
  "kernelspec": {
   "display_name": "Python 3 (ipykernel)",
   "language": "python",
   "name": "python3"
  },
  "language_info": {
   "codemirror_mode": {
    "name": "ipython",
    "version": 3
   },
   "file_extension": ".py",
   "mimetype": "text/x-python",
   "name": "python",
   "nbconvert_exporter": "python",
   "pygments_lexer": "ipython3",
   "version": "3.12.4"
  }
 },
 "nbformat": 4,
 "nbformat_minor": 5
}
