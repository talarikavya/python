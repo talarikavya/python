{
 "cells": [
  {
   "cell_type": "markdown",
   "id": "269f9534-0b14-4ae7-a93b-fb25b0ffc337",
   "metadata": {},
   "source": [
    "what is python: python is a genral purpose,dymanic,high level programming and interfered programming language."
   ]
  },
  {
   "cell_type": "markdown",
   "id": "4e20d7c7-74c7-441d-a3b0-8dd1540670c4",
   "metadata": {},
   "source": [
    "benfits of python:\n",
    "easy to learn \n",
    "expressive platfrom\n",
    "interpreted excutes\n",
    "object oriented programming\n",
    "graphical uses intface"
   ]
  },
  {
   "cell_type": "markdown",
   "id": "4b968818-f486-4273-bd36-7ed0e5ad2fd3",
   "metadata": {},
   "source": [
    "what are list:  list is collective element or items \n",
    "what is tuples:Tuples used to store multpile vaule in sigle variables.\n",
    "what are key difference between in list and tuples: \n",
    "In list as collective elment and mutable values. In tuples store of variable and immutable values\n",
    "In list we can change the value also and in tuples we cannot changing the variables."
   ]
  },
  {
   "cell_type": "markdown",
   "id": "95e77be3-5c15-4d41-ac94-469063b15053",
   "metadata": {},
   "source": [
    "common built-in data types in python :- we are used of data types are int,float,complex,boolean"
   ]
  },
  {
   "cell_type": "markdown",
   "id": "15af6bd3-43ea-494a-996f-2df4766699a0",
   "metadata": {},
   "source": [
    "what does # symbol do in python: '#' do explain the code in details in the word "
   ]
  },
  {
   "cell_type": "markdown",
   "id": "8e3d7299-b310-4b0b-9e90-839ec9a6bd23",
   "metadata": {},
   "source": [
    "different between mutable and immutable :\n",
    "mutable defined the modifed after the creation as well , class that are mutable are not considered final ,mutable example are lists,classes\n",
    "immutable defined object cannot be modified after the creation of the objes=cts, classes that are immutable are consiered final,example of immutable sting."
   ]
  },
  {
   "cell_type": "markdown",
   "id": "e64649c6-3c1c-498f-a3bf-df7af84cf1dc",
   "metadata": {},
   "source": [
    "/and // different : '/' preforms standard of division here reslut will by floating point . '//' preforms standard floor division here result are between to integers"
   ]
  },
  {
   "cell_type": "markdown",
   "id": "4a9f5fa2-bf4c-4301-9cb9-02f7f5848967",
   "metadata": {},
   "source": [
    "comment in single line : in single line comment as single statment and by using hash symbol start with hash single line comment\n",
    "example: # good morning(single comment)\n",
    "comment in muiplte line : in multiple line multi lines of codes in comment and mulit lines comment we used the every starting comment usedthe hash symbol \n",
    "example: #good evening\n",
    "         #good night"
   ]
  },
  {
   "cell_type": "markdown",
   "id": "4737de55-1661-4353-b2e7-7df5b90e53b2",
   "metadata": {},
   "source": [
    "how do i modify a string in python: here cannot modify the string because in string as immutable variable means cannot updated,insert and removing value in strings."
   ]
  },
  {
   "cell_type": "markdown",
   "id": "da997814-b592-4a48-8cb6-90ded53f9c5b",
   "metadata": {},
   "source": [
    "what is index in python : In index refers the process of accessing a spectified elemnt in a sequence of variables.\n",
    "types of index: positive index,negetive index"
   ]
  },
  {
   "cell_type": "markdown",
   "id": "c9858602-9811-4a5f-a1fa-fb175f66ec0d",
   "metadata": {},
   "source": [
    "Negetive index:In negetive index decrement the index from -1 to infinte . \n",
    "In negetive index allows to right to left of sequence."
   ]
  },
  {
   "cell_type": "markdown",
   "id": "6ee46c56-fef7-429b-91d0-a118fc72ce7b",
   "metadata": {},
   "source": [
    "slicing : slicing are two fundamental concepts in python. they help ypu acces specific element in sequencesuch as lists,tuple,string."
   ]
  },
  {
   "cell_type": "markdown",
   "id": "3a18b04e-b76d-4a74-b9ce-bb165aa7245c",
   "metadata": {},
   "source": [
    "keywords: keyword are reserved word . we cannot used in python keyword .in keyword can't used variable names,fucntion names or other idenifity.total keyword are 33 in python.They are ture,flase,none,as,class,do...etc."
   ]
  },
  {
   "cell_type": "markdown",
   "id": "636e9bec-38e7-4d36-8cc8-7bce6bca82b7",
   "metadata": {},
   "source": [
    "variable: Variable are memory store element / items / values. variable are some reserved word can't be stroe in variables."
   ]
  },
  {
   "cell_type": "markdown",
   "id": "a69d6947-a904-4f38-9b8b-0b1152b62bad",
   "metadata": {},
   "source": [
    "rules in variables\n",
    "A variable can't start with number.In python reserved can't be used naming the variable.A variable name can only contain alpha,numberic,character and underscores(_).A variable are can't used any specific characters.Variable as case -sesitive."
   ]
  },
  {
   "cell_type": "markdown",
   "id": "8f798799-1dde-4372-b90a-68cc0fef81dc",
   "metadata": {},
   "source": [
    "Operator: operators are  prefromed in variables and values.They are some various methods.there are\n",
    "arithmatic operator\n",
    "assigiment operator\n",
    "logical operator\n",
    "indenitiy operator\n",
    "comparsion operator\n",
    "membership operator\n",
    "bitwise operator"
   ]
  },
  {
   "cell_type": "markdown",
   "id": "f6440749-df5b-45d1-b0ad-3cfc8bac30d3",
   "metadata": {},
   "source": [
    " #Logical operation : compared of ture and flase.In logical operator and and ,or ,not\n",
    " and: we have satified the two conditions its true.\n",
    " or: we have satified one condition also it true only.\n",
    " not: quickly oppsite to and/or operators."
   ]
  },
  {
   "cell_type": "code",
   "execution_count": 2,
   "id": "1def7bf3-c47d-435f-ac8b-73084814296c",
   "metadata": {},
   "outputs": [
    {
     "name": "stdout",
     "output_type": "stream",
     "text": [
      "False\n"
     ]
    }
   ],
   "source": [
    "#and example\n",
    "print(13>24 and 4<5)"
   ]
  },
  {
   "cell_type": "code",
   "execution_count": 3,
   "id": "316af002-2f7c-44f0-825a-c527800e9d3f",
   "metadata": {},
   "outputs": [
    {
     "name": "stdout",
     "output_type": "stream",
     "text": [
      "True\n"
     ]
    }
   ],
   "source": [
    "#or example\n",
    "print(34>66 or 56<99)"
   ]
  },
  {
   "cell_type": "code",
   "execution_count": 7,
   "id": "a28884b3-fe97-47d8-8e7a-0a0ee1f82dea",
   "metadata": {},
   "outputs": [
    {
     "name": "stdout",
     "output_type": "stream",
     "text": [
      "False\n"
     ]
    }
   ],
   "source": [
    "#not example\n",
    "x=34\n",
    "print(not(x))"
   ]
  },
  {
   "cell_type": "markdown",
   "id": "217786ce-ecee-4f02-97f3-8020a46c2acb",
   "metadata": {},
   "source": [
    "is python case sensitive: in python are case sensitive means the name are but two different names like code and CODE this is case sensitive."
   ]
  },
  {
   "cell_type": "markdown",
   "id": "15f9f970-1bfe-42e1-b2d2-1bfe2b514976",
   "metadata": {},
   "source": [
    "fucntion: Function a named section of a code that prefromed a specific task.\n",
    "lambda fuction: python as function is small anonymous function."
   ]
  },
  {
   "cell_type": "markdown",
   "id": "3265620e-5011-4f14-bc72-28b537ec7990",
   "metadata": {},
   "source": [
    "how do you write comments in python:  comments are using of \" # \" symbol"
   ]
  },
  {
   "cell_type": "markdown",
   "id": "07f35eb2-9841-4112-bef0-1f0c8baa4c10",
   "metadata": {},
   "source": [
    "how will you convert a string to all lowercase: yes, we can convert string into lowercase while using of uppercse string we can convert. "
   ]
  },
  {
   "cell_type": "markdown",
   "id": "f84b3d50-9a90-4cd6-bb2d-34c0cf05a677",
   "metadata": {},
   "source": [
    "len() : len() defines the length of string. "
   ]
  },
  {
   "cell_type": "code",
   "execution_count": 14,
   "id": "ecda4cff-00f6-4212-8d13-0c5d79c68bf7",
   "metadata": {},
   "outputs": [
    {
     "data": {
      "text/plain": [
       "7"
      ]
     },
     "execution_count": 14,
     "metadata": {},
     "output_type": "execute_result"
    }
   ],
   "source": [
    "#exmple len()\n",
    "text=\"morning\"\n",
    "len(text)"
   ]
  },
  {
   "cell_type": "markdown",
   "id": "a666d541-bc6f-438d-bfe3-b926ccd571be",
   "metadata": {},
   "source": [
    "how do we remove the values from python list: yes, we can remove the values from given lists.syntax: rov.word()"
   ]
  },
  {
   "cell_type": "markdown",
   "id": "fa739cd0-25bc-4437-86d3-815ba2f50ace",
   "metadata": {},
   "source": [
    "split: in python split given string or line specified by one substring of the given line of string."
   ]
  },
  {
   "cell_type": "code",
   "execution_count": null,
   "id": "8224484d-a4c3-4ccd-aef0-68b7bbf07d09",
   "metadata": {},
   "outputs": [],
   "source": []
  }
 ],
 "metadata": {
  "kernelspec": {
   "display_name": "Python 3 (ipykernel)",
   "language": "python",
   "name": "python3"
  },
  "language_info": {
   "codemirror_mode": {
    "name": "ipython",
    "version": 3
   },
   "file_extension": ".py",
   "mimetype": "text/x-python",
   "name": "python",
   "nbconvert_exporter": "python",
   "pygments_lexer": "ipython3",
   "version": "3.12.4"
  }
 },
 "nbformat": 4,
 "nbformat_minor": 5
}
