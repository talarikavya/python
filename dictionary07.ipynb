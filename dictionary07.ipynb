{
 "cells": [
  {
   "cell_type": "markdown",
   "id": "86a5008c-acb1-4108-8a3f-7dd9fb870a58",
   "metadata": {},
   "source": [
    "# DICTIONARY\n",
    "\n",
    "In python,dictionaries are mutable data sturcture that allows you to store key-value pairs.\n",
    "The braces,or curly brackets are usaully preferred and did you know efficient to used { } instead of dict() to create an empty dictionary.\n",
    "In dictionaryare uses are dictionary provides defintions of words,but usually does not give detalied instructions on how objects are \n",
    "Keys are analogous to index of in list are in dictionary.\n",
    "Syntax for python dictionary begins with the left cruly brace \" { \" end with right cruly brace \" } \" and contains zero or more key:value is called items separted from the value by a colon ( : ).\n",
    "In dictionary are mutable .\n",
    "Here difference between keys and dictionary can easily be of any given data types.\n",
    "Dictionary are uses spelling,meanings,origins,usages,synonyms.\n",
    "Advantages are flexible data store.\n",
    "properties of dictionary are duplicate keys are not allowed but values can be duplicated."
   ]
  },
  {
   "cell_type": "code",
   "execution_count": 1,
   "id": "d7c8c650-53bf-416c-b214-0968186f4515",
   "metadata": {},
   "outputs": [
    {
     "name": "stdout",
     "output_type": "stream",
     "text": [
      "<class 'dict'>\n"
     ]
    }
   ],
   "source": [
    "#example of dictionary \n",
    "\n",
    "emp = { 'name':\"kavya\" , 'age':\"21\" , 'year':\"2024\" }\n",
    "print(type(emp))"
   ]
  },
  {
   "cell_type": "code",
   "execution_count": 2,
   "id": "8efd9113-2834-404b-b26c-214465cf8298",
   "metadata": {},
   "outputs": [
    {
     "data": {
      "text/plain": [
       "dict"
      ]
     },
     "execution_count": 2,
     "metadata": {},
     "output_type": "execute_result"
    }
   ],
   "source": [
    "list = { 'animal1':\"cat\" , 'animal2':\"dog\" , 'animal3':\"snake\" }\n",
    "type(list)"
   ]
  },
  {
   "cell_type": "code",
   "execution_count": 3,
   "id": "77fe3fae-943f-4d1f-928c-747b08ad4529",
   "metadata": {},
   "outputs": [
    {
     "name": "stdout",
     "output_type": "stream",
     "text": [
      "<class 'dict'>\n"
     ]
    }
   ],
   "source": [
    "this_city = { 'city': \"US\" , 'contury':\"USA\" , 'population': \"23414454\" }\n",
    "print(type(this_city))"
   ]
  },
  {
   "cell_type": "code",
   "execution_count": 4,
   "id": "ec81f334-58cc-44c8-83bf-9d1ba43849d6",
   "metadata": {},
   "outputs": [
    {
     "name": "stdout",
     "output_type": "stream",
     "text": [
      "<class 'dict'>\n"
     ]
    }
   ],
   "source": [
    "details = { 'name':\"navya\" , 'age':\"43\" , 'id':\"12345\" }\n",
    "print(type(details))"
   ]
  },
  {
   "cell_type": "code",
   "execution_count": 5,
   "id": "bcfd2462-3a65-46cf-9a73-816a2f689b98",
   "metadata": {},
   "outputs": [
    {
     "data": {
      "text/plain": [
       "dict"
      ]
     },
     "execution_count": 5,
     "metadata": {},
     "output_type": "execute_result"
    }
   ],
   "source": [
    "sales = { 'india':\"754\" , 'china':\"544\" , 'USA':\"450\" , 'japan':\"600\" }\n",
    "type(sales)"
   ]
  },
  {
   "cell_type": "code",
   "execution_count": 21,
   "id": "0cbcc200-3368-4bd7-b3ae-ad36dce9b3f8",
   "metadata": {},
   "outputs": [],
   "source": [
    "# example of adding or modifiying\n",
    "\n",
    "student = { 'name':\"kavya\" , 'age':\"45\" , 'id': \"345322\" }"
   ]
  },
  {
   "cell_type": "code",
   "execution_count": 22,
   "id": "91fd3356-da4b-46ef-b1fd-65e1dcddfd01",
   "metadata": {},
   "outputs": [
    {
     "name": "stdout",
     "output_type": "stream",
     "text": [
      "{'name': 'kavya', 'age': '45', 'id': '345322', 'address': 'hyd'}\n"
     ]
    }
   ],
   "source": [
    "student[ 'address'] = \"hyd\"\n",
    "print(student)"
   ]
  },
  {
   "cell_type": "code",
   "execution_count": 23,
   "id": "9eb7b7d2-b49d-4cb6-8d79-9f6145e8be51",
   "metadata": {},
   "outputs": [
    {
     "name": "stdout",
     "output_type": "stream",
     "text": [
      "{'india': '754', 'china': '544', 'USA': '450', 'japan': '600', 'asia': '345'}\n"
     ]
    }
   ],
   "source": [
    "sales = { 'india':\"754\" , 'china':\"544\" , 'USA':\"450\" , 'japan':\"600\" }\n",
    "sales['asia'] =\"345\"\n",
    "print(sales)"
   ]
  },
  {
   "cell_type": "code",
   "execution_count": 24,
   "id": "8ad3ec9b-7ed5-4573-abf4-d02170b06a53",
   "metadata": {},
   "outputs": [
    {
     "name": "stdout",
     "output_type": "stream",
     "text": [
      "{'india': '987', 'china': '544', 'USA': '450', 'japan': '600'}\n"
     ]
    }
   ],
   "source": [
    "# example of update\n",
    "\n",
    "sales = { 'india':\"754\" , 'china':\"544\" , 'USA':\"450\" , 'japan':\"600\" }\n",
    "sales['india']= \"987\"\n",
    "print(sales)"
   ]
  },
  {
   "cell_type": "code",
   "execution_count": 25,
   "id": "b2dbe2ed-7fbb-43cb-abd7-c7695631dc13",
   "metadata": {},
   "outputs": [
    {
     "name": "stdout",
     "output_type": "stream",
     "text": [
      "{'india': '754', 'china': '544', 'USA': '450'}\n"
     ]
    }
   ],
   "source": [
    "#example of delete or remove \n",
    "\n",
    "sales = { 'india':\"754\" , 'china':\"544\" , 'USA':\"450\" , 'japan':\"600\" }\n",
    "sales.pop('japan')                                                      #pop is removing of last items \n",
    "print(sales)"
   ]
  },
  {
   "cell_type": "code",
   "execution_count": 26,
   "id": "2a12741f-0d9b-44db-831d-73ad8cf08264",
   "metadata": {},
   "outputs": [
    {
     "data": {
      "text/plain": [
       "'45'"
      ]
     },
     "execution_count": 26,
     "metadata": {},
     "output_type": "execute_result"
    }
   ],
   "source": [
    "student = { 'name':\"kavya\" , 'age':\"45\" , 'id': \"345322\" }\n",
    "student.pop('age')"
   ]
  },
  {
   "cell_type": "markdown",
   "id": "d9ab765c-6ad4-4a5f-bd7e-223fa8c009d8",
   "metadata": {},
   "source": [
    "# FUNCTION OR METHODS IN DICTIONARY\n",
    "\n",
    "Python Dictionary is like a map that is used to store data in the form of a key: value pair. Python provides various built-in functions to deal with dictionaries. We will see a list of all the functions provided by Python to work with dictionaries.\n",
    "Dictionary are methods get(),key(),values(),items(),pop(),popitem(),clear(),len(),setdefault(),index(),count(),copy()...etc.\r\n"
   ]
  },
  {
   "cell_type": "code",
   "execution_count": 29,
   "id": "efb7ab2d-765b-47d6-9ba0-04d6c16f4ca2",
   "metadata": {},
   "outputs": [
    {
     "name": "stdout",
     "output_type": "stream",
     "text": [
      "kavya\n",
      "None\n"
     ]
    }
   ],
   "source": [
    "# get() : Return the value of the specified key\n",
    "\n",
    "detail = {'Name': 'kavya', 'Age': '19', 'Country': 'India'}\n",
    "print(dict.get('Name'))\n",
    "print(dict.get('kavya'))"
   ]
  },
  {
   "cell_type": "code",
   "execution_count": 75,
   "id": "e7da015e-8f58-47aa-b15a-52365d130602",
   "metadata": {},
   "outputs": [
    {
     "data": {
      "text/plain": [
       "dict_keys(['Name', 'Age', 'Country'])"
      ]
     },
     "execution_count": 75,
     "metadata": {},
     "output_type": "execute_result"
    }
   ],
   "source": [
    "# key() : Returns a list containing the dictionary's keys.\n",
    "\n",
    "k = {'Name': 'kavya', 'Age': '19', 'Country': 'India'}\n",
    "k.keys()"
   ]
  },
  {
   "cell_type": "code",
   "execution_count": 76,
   "id": "c6307fe0-3bb0-452e-909d-f032fe34adff",
   "metadata": {},
   "outputs": [
    {
     "data": {
      "text/plain": [
       "dict_values(['kavya', '19', 'India'])"
      ]
     },
     "execution_count": 76,
     "metadata": {},
     "output_type": "execute_result"
    }
   ],
   "source": [
    "# vaules : Returns a list of all the values in the dictionary.\n",
    "\n",
    "k = {'Name': 'kavya', 'Age': '19', 'Country': 'India'}\n",
    "k.values()"
   ]
  },
  {
   "cell_type": "code",
   "execution_count": 77,
   "id": "493ab80c-fb70-40d9-a156-653d599ba971",
   "metadata": {},
   "outputs": [
    {
     "name": "stdout",
     "output_type": "stream",
     "text": [
      "{'Name': 'kavya', 'Age': '19'}\n"
     ]
    }
   ],
   "source": [
    "# pop() : Removes the last items.\n",
    "\n",
    "k = {'Name': 'kavya', 'Age': '19', 'Country': 'India'}\n",
    "k.pop('Country')\n",
    "print(k)"
   ]
  },
  {
   "cell_type": "code",
   "execution_count": 78,
   "id": "8fafa10e-faec-46a2-ba1c-0f88a745a8a0",
   "metadata": {},
   "outputs": [
    {
     "data": {
      "text/plain": [
       "('Country', 'India')"
      ]
     },
     "execution_count": 78,
     "metadata": {},
     "output_type": "execute_result"
    }
   ],
   "source": [
    "#popitems() : Remove the last inserted key:value.\n",
    "\n",
    "k = {'Name': 'kavya', 'Age': '19', 'Country': 'India'}\n",
    "k.popitem()"
   ]
  },
  {
   "cell_type": "code",
   "execution_count": 56,
   "id": "fb880a4e-7b5c-40e2-b25b-f9e6a4d23285",
   "metadata": {},
   "outputs": [
    {
     "name": "stdout",
     "output_type": "stream",
     "text": [
      "{'Name': 'Ram', 'Age': '19'}\n"
     ]
    }
   ],
   "source": [
    "print(k)"
   ]
  },
  {
   "cell_type": "code",
   "execution_count": 70,
   "id": "0d40b782-ed95-4dbf-8ee2-f75f819afa52",
   "metadata": {},
   "outputs": [
    {
     "name": "stdout",
     "output_type": "stream",
     "text": [
      "{}\n"
     ]
    }
   ],
   "source": [
    "# clear() : Removes all the elements from the dictionary.\n",
    "\n",
    "k = {'Name': 'kavya', 'Age': '19', 'Country': 'India'}\n",
    "k.clear()\n",
    "print(k)"
   ]
  },
  {
   "cell_type": "code",
   "execution_count": 69,
   "id": "2ec92455-d387-46c0-bf6a-b7cee3437aee",
   "metadata": {},
   "outputs": [
    {
     "name": "stdout",
     "output_type": "stream",
     "text": [
      "{'Name': 'kavya', 'Age': '19', 'Country': 'India'}\n"
     ]
    }
   ],
   "source": [
    "# copy() : Returns a copy of the dictionary.\n",
    "\n",
    "k = {'Name': 'kavya', 'Age': '19', 'Country': 'India'}\n",
    "k.copy()\n",
    "print(k)"
   ]
  },
  {
   "cell_type": "code",
   "execution_count": 68,
   "id": "da15a29e-1531-404f-b7b2-262e0842d05b",
   "metadata": {},
   "outputs": [
    {
     "name": "stdout",
     "output_type": "stream",
     "text": [
      "{'a': 'thursday', 'b': 'thursday', 'c': 'thursday'}\n"
     ]
    }
   ],
   "source": [
    "# fromkey : Returns a dictionary with the specified key and value.\n",
    "\n",
    "char = ('a' , 'b' , 'c')\n",
    "print(dict.fromkeys(char,'thursday'))    # in dict we have present value in item."
   ]
  },
  {
   "cell_type": "code",
   "execution_count": 82,
   "id": "b5443baa-5d05-446f-84be-eb9c7404c332",
   "metadata": {},
   "outputs": [
    {
     "name": "stdout",
     "output_type": "stream",
     "text": [
      "534\n"
     ]
    }
   ],
   "source": [
    "# setdefault() : Returns the value of the specified key.If key does not exist insert the key with the specified value.\n",
    "\n",
    "k = {'Name': 'kavya', 'Age': '19', 'Country': 'India'}\n",
    "print(dict.setdefault('',534))     #we can mention a key or not it will show the same output."
   ]
  },
  {
   "cell_type": "code",
   "execution_count": 85,
   "id": "a3062ca0-11fb-4154-89a4-2d4f934a91e0",
   "metadata": {},
   "outputs": [
    {
     "name": "stdout",
     "output_type": "stream",
     "text": [
      "{'Name': 'kavya', 'Age': '19', 'Country': 'hyd'}\n"
     ]
    }
   ],
   "source": [
    "# update : Updates the dictionary with the specified key-values pairs.\n",
    "\n",
    "k = {'Name': 'kavya', 'Age': '19', 'Country': 'India'}\n",
    "k1= {'Country':'hyd'}\n",
    "k.update(k1)\n",
    "print(k)"
   ]
  },
  {
   "cell_type": "code",
   "execution_count": 97,
   "id": "1241333d-db59-4606-9308-78720567187b",
   "metadata": {},
   "outputs": [
    {
     "ename": "AttributeError",
     "evalue": "'dict' object has no attribute 'count'",
     "output_type": "error",
     "traceback": [
      "\u001b[1;31m---------------------------------------------------------------------------\u001b[0m",
      "\u001b[1;31mAttributeError\u001b[0m                            Traceback (most recent call last)",
      "Cell \u001b[1;32mIn[97], line 4\u001b[0m\n\u001b[0;32m      1\u001b[0m \u001b[38;5;66;03m# count : Returns the number of times a specified value occurs in a dict.\u001b[39;00m\n\u001b[0;32m      3\u001b[0m k \u001b[38;5;241m=\u001b[39m {\u001b[38;5;124m'\u001b[39m\u001b[38;5;124mName\u001b[39m\u001b[38;5;124m'\u001b[39m: \u001b[38;5;124m'\u001b[39m\u001b[38;5;124mkavya\u001b[39m\u001b[38;5;124m'\u001b[39m, \u001b[38;5;124m'\u001b[39m\u001b[38;5;124mAge\u001b[39m\u001b[38;5;124m'\u001b[39m: \u001b[38;5;124m'\u001b[39m\u001b[38;5;124m19\u001b[39m\u001b[38;5;124m'\u001b[39m, \u001b[38;5;124m'\u001b[39m\u001b[38;5;124mCountry\u001b[39m\u001b[38;5;124m'\u001b[39m: \u001b[38;5;124m'\u001b[39m\u001b[38;5;124mIndia\u001b[39m\u001b[38;5;124m'\u001b[39m}\n\u001b[1;32m----> 4\u001b[0m k\u001b[38;5;241m.\u001b[39mcount(\u001b[38;5;124m'\u001b[39m\u001b[38;5;124mName\u001b[39m\u001b[38;5;124m'\u001b[39m)\n",
      "\u001b[1;31mAttributeError\u001b[0m: 'dict' object has no attribute 'count'"
     ]
    }
   ],
   "source": [
    "# count : Returns the number of times a specified value occurs in a dict.\n",
    "\n",
    "k = {'Name': 'kavya', 'Age': '19', 'Country': 'India'}\n",
    "k.count('Name')                                         #count cannot be attribute"
   ]
  },
  {
   "cell_type": "code",
   "execution_count": 98,
   "id": "015d5c2a-6aa2-48ff-a3a6-44cce618515a",
   "metadata": {},
   "outputs": [],
   "source": [
    "# here can't be attribute the count,uppercase,lowercase,index and it will show as error."
   ]
  },
  {
   "cell_type": "code",
   "execution_count": null,
   "id": "bcb9351b-7f94-4289-9a04-302d32c986e9",
   "metadata": {},
   "outputs": [],
   "source": []
  }
 ],
 "metadata": {
  "kernelspec": {
   "display_name": "Python 3 (ipykernel)",
   "language": "python",
   "name": "python3"
  },
  "language_info": {
   "codemirror_mode": {
    "name": "ipython",
    "version": 3
   },
   "file_extension": ".py",
   "mimetype": "text/x-python",
   "name": "python",
   "nbconvert_exporter": "python",
   "pygments_lexer": "ipython3",
   "version": "3.12.4"
  }
 },
 "nbformat": 4,
 "nbformat_minor": 5
}
